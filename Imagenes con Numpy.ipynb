{
  "nbformat": 4,
  "nbformat_minor": 0,
  "metadata": {
    "colab": {
      "provenance": [],
      "collapsed_sections": [],
      "authorship_tag": "ABX9TyNvcpwhJ4R4RTXW7nDU4Rcw",
      "include_colab_link": true
    },
    "kernelspec": {
      "name": "python3",
      "display_name": "Python 3"
    },
    "language_info": {
      "name": "python"
    }
  },
  "cells": [
    {
      "cell_type": "markdown",
      "metadata": {
        "id": "view-in-github",
        "colab_type": "text"
      },
      "source": [
        "<a href=\"https://colab.research.google.com/github/Trulete/PIA/blob/main/Imagenes%20con%20Numpy.ipynb\" target=\"_parent\"><img src=\"https://colab.research.google.com/assets/colab-badge.svg\" alt=\"Open In Colab\"/></a>"
      ]
    },
    {
      "cell_type": "code",
      "source": [
        "from PIL import Image\n",
        "import numpy as np\n",
        "import random as alea\n",
        "\n",
        "class Pinta:\n",
        "    \n",
        "    matriz = np.zeros((128, 128, 3), dtype = np.uint8 )\n",
        "    matriz_aux = np.zeros((128, 128, 3), dtype = np.uint8 )\n",
        "    color = [0,0,0]\n",
        "    img = Image.new('RGB', (128, 128))\n",
        "    \n",
        "    \n",
        "    # Metodo que retorna una imagen de un tamaño dado con un color RGB dado\n",
        "    def color_plano(self,ancho,alto,rojo,verde,azul):\n",
        "\n",
        "        self.matriz.resize(ancho,alto,3)\n",
        "        for x in range(0, self.matriz.shape[0]):\n",
        "          for y in range(0, self.matriz.shape[1]):\n",
        "            self.matriz[x, y] = [rojo, verde, azul]\n",
        "            \n",
        "        img = Image.fromarray(self.matriz)\n",
        "        return img\n",
        "    \n",
        "    # Método que retorna una imagen de un tamaño dado y color aleatorio  \n",
        "    def color_plano_random(self,ancho,alto):\n",
        "\n",
        "        rojo = alea.randint(0, 255)\n",
        "        verde = alea.randint(0, 255)\n",
        "        azul = alea.randint(0, 255)\n",
        "        self.matriz.resize(ancho,alto,3)\n",
        "        for x in range(0, self.matriz.shape[0]):\n",
        "          for y in range(0, self.matriz.shape[1]):\n",
        "            self.matriz[x, y] = [rojo, verde, azul]\n",
        "            \n",
        "        img = Image.fromarray(self.matriz)\n",
        "        return img\n",
        "    \n",
        "    def mosaico(self,hori,verti, anch,alt):\n",
        "      \n",
        "      self.matriz_aux.resize(hori,verti,3)\n",
        "      for x in range(0, self.matriz_aux.shape[0]):\n",
        "          for y in range(0, self.matriz_aux.shape[1]):\n",
        "            self.img = self.color_plano_random(anch,alt)\n",
        "            self.matriz_aux[x, y] = np.asarray(img)\n",
        "            print(self.img)\n",
        "            #self.matriz_aux[x, y] = arr\n",
        "            \n",
        "      #img = Image.fromarray(self.matriz)\n",
        "      #return img\n",
        "      \n",
        "      \n",
        "  \n",
        "    def redimensiona(self,imagen,ancho,alto):\n",
        "      \n",
        "      self.img = Image.open(imagen)\n",
        "      img_redimensionada = self.img.resize((ancho,alto))\n",
        "      return img_redimensionada\n",
        "    \n",
        "    def redimensiona_ancho(self, imagen, ancho):\n",
        "      self.img = Image.open(imagen)\n",
        "      ancho_percent = (ancho/float(self.img.size[0]))\n",
        "      alto = int((float(self.img.size[1])*float(ancho_percent)))\n",
        "      img_redimensionada = self.img.resize((ancho,alto))\n",
        "      return img_redimensionada\n",
        "\n",
        "    # Método al que se le pasa una imagen y que devuelve una nueva imagen redimensionada sin distorsionar según el alto proporcionado\n",
        "    def redimensiona_alto(self, imagen, alto):\n",
        "      self.img = Image.open(imagen)\n",
        "      alto_percent = (alto/float(self.img.size[1]))\n",
        "      ancho = int((float(self.img.size[0])*float(alto_percent)))\n",
        "      img_redimensionada = self.img.resize((ancho,alto))\n",
        "      return img_redimensionada\n",
        "\n",
        "    def recorta(self,imagen, hpos, vpos, ancho, alto):\n",
        "      self.img = Image.open(imagen)\n",
        "      left = hpos\n",
        "      top = vpos\n",
        "      hlimit = self.img.size[0]\n",
        "      vlimit = self.img.size[1]\n",
        "      \n",
        "      print (hlimit)\n",
        "      print (vlimit)\n",
        "      print (left)\n",
        "      print (top)\n",
        "      if left + ancho <= hlimit:\n",
        "        right = hlimit - ancho\n",
        "      else:\n",
        "        right = hpos + ancho\n",
        "      \n",
        "      if top + alto <= vlimit:\n",
        "        bottom = vlimit - alto\n",
        "      else:\n",
        "        bottom = vpos + alto\n",
        "      \n",
        "      # bottom = bottom + right\n",
        "      area = (left,top,right,bottom)\n",
        "      print (area)\n",
        "      img_cortada = self.img.crop(area)\n",
        "      return img_cortada\n",
        "      \n",
        "\n",
        "Pintor = Pinta()\n",
        "\n",
        "Pintor.color_plano_random(128,128)"
      ],
      "metadata": {
        "colab": {
          "base_uri": "https://localhost:8080/",
          "height": 145
        },
        "id": "MNInhSCy2J-Q",
        "outputId": "84b6b3bf-f922-4021-927f-198a464eb669"
      },
      "execution_count": 19,
      "outputs": [
        {
          "output_type": "execute_result",
          "data": {
            "text/plain": [
              "<PIL.Image.Image image mode=RGB size=128x128 at 0x7F974E81BAD0>"
            ],
            "image/png": "[encoded data removed]"
          },
          "metadata": {},
          "execution_count": 19
        }
      ]
    }
  ]
}