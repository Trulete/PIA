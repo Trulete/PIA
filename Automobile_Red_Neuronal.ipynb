{
  "nbformat": 4,
  "nbformat_minor": 0,
  "metadata": {
    "colab": {
      "provenance": [],
      "collapsed_sections": [
        "QegUqCW5BZZc"
      ],
      "include_colab_link": true
    },
    "kernelspec": {
      "name": "python3",
      "display_name": "Python 3"
    },
    "language_info": {
      "name": "python"
    }
  },
  "cells": [
    {
      "cell_type": "markdown",
      "metadata": {
        "id": "view-in-github",
        "colab_type": "text"
      },
      "source": [
        "<a href=\"https://colab.research.google.com/github/Trulete/PIA/blob/main/Automobile_Red_Neuronal.ipynb\" target=\"_parent\"><img src=\"https://colab.research.google.com/assets/colab-badge.svg\" alt=\"Open In Colab\"/></a>"
      ]
    },
    {
      "cell_type": "markdown",
      "source": [
        "# Importación de datos"
      ],
      "metadata": {
        "id": "fawZtFO9Bhlg"
      }
    },
    {
      "cell_type": "markdown",
      "source": [
        "## Descargar dataset"
      ],
      "metadata": {
        "id": "QegUqCW5BZZc"
      }
    },
    {
      "cell_type": "markdown",
      "source": [
        "Fuente: https://archive.ics.uci.edu/ml/datasets/automobile\n",
        "\n",
        "Datos: https://archive.ics.uci.edu/ml/machine-learning-databases/autos/imports-85.data\n",
        "\n",
        "Atributos: https://archive.ics.uci.edu/ml/machine-learning-databases/autos/imports-85.names"
      ],
      "metadata": {
        "id": "7EgpExVAHYAV"
      }
    },
    {
      "cell_type": "code",
      "execution_count": 1,
      "metadata": {
        "id": "HOOViqU2BUv4"
      },
      "outputs": [],
      "source": [
        "!wget -qP datasets/ https://archive.ics.uci.edu/ml/machine-learning-databases/autos/imports-85.data\n",
        "\n",
        "!wget -qP datasets/ https://archive.ics.uci.edu/ml/machine-learning-databases/autos/imports-85.names"
      ]
    },
    {
      "cell_type": "markdown",
      "source": [
        "## Asignar dataset"
      ],
      "metadata": {
        "id": "FGyyOEe9B2Lg"
      }
    },
    {
      "cell_type": "markdown",
      "source": [
        "El dataset contiene información sobre 205 automóviles y sus precios, aunque\n",
        "no incluye los nombres de las columnas; esta información se encuentra en un archivo adicional. Concretamente, el dataset contiene:\n",
        "\n",
        "i) información de un automóvil en términos de diversas características, \n",
        "\n",
        "ii) su nivel de riesgo en relación con el seguro, y\n",
        "\n",
        "iii) el pago medio relativo de los siniestros ocurridos por año de seguro. \n",
        "\n",
        "Finalmente, cada fila del dataset contiene información sobre el precio por el que se vendió dicho vehículo. Esta sera la variable objetivo."
      ],
      "metadata": {
        "id": "wDh7bVJXlcQD"
      }
    },
    {
      "cell_type": "code",
      "source": [
        "import pandas as pd\n",
        "import numpy as np"
      ],
      "metadata": {
        "id": "Jkj7cEJUB8t6"
      },
      "execution_count": 2,
      "outputs": []
    },
    {
      "cell_type": "code",
      "source": [
        "feature_names = ['symboling', 'normalized-losses', 'make', 'fuel-type', 'aspiration', 'num-of-doors', 'body-style',\n",
        "                 'drive-wheels', 'engine-location', 'wheel-base', 'length', 'width','height', 'urb-weight', 'engine-type', \n",
        "                 'num-of-cylinders','engine-size', 'fuel-system', 'bore', 'stroke', 'compression-ratio', 'horsepower', 'peak-rpm', \n",
        "                 'city-mpg', 'highway-mpg', 'price']\n",
        "\n",
        "# los valores desconocidos en el dataset están marcados con una interrogación\n",
        "df = pd.read_csv('datasets/imports-85.data', names = feature_names, na_values = '?')"
      ],
      "metadata": {
        "id": "sHUs_7HjB_8p"
      },
      "execution_count": 52,
      "outputs": []
    },
    {
      "cell_type": "code",
      "source": [
        "print(len(df))"
      ],
      "metadata": {
        "colab": {
          "base_uri": "https://localhost:8080/"
        },
        "id": "k-1PNfazkw9i",
        "outputId": "224067cf-b90e-41d4-ede1-e388259bc86a"
      },
      "execution_count": 4,
      "outputs": [
        {
          "output_type": "stream",
          "name": "stdout",
          "text": [
            "205\n"
          ]
        }
      ]
    },
    {
      "cell_type": "code",
      "source": [
        "df"
      ],
      "metadata": {
        "id": "faN62Y8xjm1M"
      },
      "execution_count": 51,
      "outputs": []
    },
    {
      "cell_type": "code",
      "source": [
        "df.head()"
      ],
      "metadata": {
        "id": "v5_GkRRcCIyT"
      },
      "execution_count": null,
      "outputs": []
    },
    {
      "cell_type": "code",
      "source": [
        "df.dtypes"
      ],
      "metadata": {
        "id": "2y3KxSY3kv-z"
      },
      "execution_count": null,
      "outputs": []
    },
    {
      "cell_type": "markdown",
      "source": [
        "# Preparación de los datos"
      ],
      "metadata": {
        "id": "rgEzhBg1CNtF"
      }
    },
    {
      "cell_type": "markdown",
      "source": [
        "Una vez importado el dataset, empezaremos identificando y corrigiendo\n",
        "aquellos valores que falten en las filas. Para ello, primero identificaremos qué propiedades son las que presentan dichos valores utilizando el método isnull() del dataframe para filtrar por aquellas columnas que tengan al menos una celda sin valor."
      ],
      "metadata": {
        "id": "4qUkO9Hom4_B"
      }
    },
    {
      "cell_type": "code",
      "source": [
        "def print_cols_with_missing_values(df):\n",
        "  cols_with_missing = df.isnull().sum()\n",
        "  print(cols_with_missing[cols_with_missing > 0])\n",
        "\n",
        "print_cols_with_missing_values(df)"
      ],
      "metadata": {
        "id": "UFvar4-nCSpR",
        "colab": {
          "base_uri": "https://localhost:8080/"
        },
        "outputId": "e8820851-6b8a-49e3-8eaf-5d59959b7e20"
      },
      "execution_count": 53,
      "outputs": [
        {
          "output_type": "stream",
          "name": "stdout",
          "text": [
            "normalized-losses    41\n",
            "num-of-doors          2\n",
            "bore                  4\n",
            "stroke                4\n",
            "horsepower            2\n",
            "peak-rpm              2\n",
            "price                 4\n",
            "dtype: int64\n"
          ]
        }
      ]
    },
    {
      "cell_type": "code",
      "source": [
        "# a los atributos normalized-losses, bore, stroke, horsepower y peak-rpm\n",
        "# se les deben sustituir los valores nan por la media de la columna\n",
        "media = df['normalized-losses'].mean()\n",
        "df['normalized-losses'].fillna(media, inplace = True)\n",
        "\n",
        "media = df['bore'].mean()\n",
        "df['bore'].fillna(media, inplace = True)\n",
        "\n",
        "media = df['stroke'].mean()\n",
        "df['stroke'].fillna(media, inplace = True)\n",
        "\n",
        "media = df['horsepower'].mean()\n",
        "df['horsepower'].fillna(media, inplace = True)\n",
        "\n",
        "media = df['peak-rpm'].mean()\n",
        "df['peak-rpm'].fillna(media, inplace = True)\n"
      ],
      "metadata": {
        "id": "_XwDGpuoCiHD"
      },
      "execution_count": 54,
      "outputs": []
    },
    {
      "cell_type": "code",
      "source": [
        "# al atributo num_doors se le debe sustituir los valores nan por la mode de la\n",
        "# columna\n",
        "moda = df['num-of-doors'].mode()[0]\n",
        "print(moda)\n",
        "df['num-of-doors'].fillna(moda, inplace = True)"
      ],
      "metadata": {
        "id": "OFT03syKCm1S",
        "colab": {
          "base_uri": "https://localhost:8080/"
        },
        "outputId": "1b923f9e-aa05-401c-be5e-fe00ca9ef95b"
      },
      "execution_count": 55,
      "outputs": [
        {
          "output_type": "stream",
          "name": "stdout",
          "text": [
            "four\n"
          ]
        }
      ]
    },
    {
      "cell_type": "code",
      "source": [
        "# el atributo price también incluye algunos valores nulos, en este caso, y dado\n",
        "# que se trata de la variable objetivo, no hay mucho que se pueda hacer,\n",
        "# por lo que simplemente se eliminan las filas sin precio\n",
        "df = df.dropna(subset=['price'])"
      ],
      "metadata": {
        "id": "_ealBIKyCtJS"
      },
      "execution_count": 56,
      "outputs": []
    },
    {
      "cell_type": "code",
      "source": [
        "# después de borrar filas es conveniente resetear el índice del dataframe\n",
        "df.reset_index(drop = True, inplace = True)"
      ],
      "metadata": {
        "id": "D4ulwta_oh8e"
      },
      "execution_count": 57,
      "outputs": []
    },
    {
      "cell_type": "code",
      "source": [
        "print_cols_with_missing_values(df)"
      ],
      "metadata": {
        "colab": {
          "base_uri": "https://localhost:8080/"
        },
        "id": "-Ey5CCLonqKC",
        "outputId": "79988a26-3242-4ddd-ebf5-90eab45a38bb"
      },
      "execution_count": 58,
      "outputs": [
        {
          "output_type": "stream",
          "name": "stdout",
          "text": [
            "Series([], dtype: int64)\n"
          ]
        }
      ]
    },
    {
      "cell_type": "markdown",
      "source": [
        "# Normalización de los datos"
      ],
      "metadata": {
        "id": "IwacvTHBC5Mp"
      }
    },
    {
      "cell_type": "code",
      "source": [
        "df.head()"
      ],
      "metadata": {
        "colab": {
          "base_uri": "https://localhost:8080/",
          "height": 297
        },
        "id": "2PGD5byyheDr",
        "outputId": "f88e73bd-d675-4df7-f6e9-b1c8ceeb169f"
      },
      "execution_count": 60,
      "outputs": [
        {
          "output_type": "execute_result",
          "data": {
            "text/plain": [
              "   symboling  normalized-losses         make fuel-type aspiration  \\\n",
              "0          3              122.0  alfa-romero       gas        std   \n",
              "1          3              122.0  alfa-romero       gas        std   \n",
              "2          1              122.0  alfa-romero       gas        std   \n",
              "3          2              164.0         audi       gas        std   \n",
              "4          2              164.0         audi       gas        std   \n",
              "\n",
              "  num-of-doors   body-style drive-wheels engine-location  wheel-base  ...  \\\n",
              "0          two  convertible          rwd           front        88.6  ...   \n",
              "1          two  convertible          rwd           front        88.6  ...   \n",
              "2          two    hatchback          rwd           front        94.5  ...   \n",
              "3         four        sedan          fwd           front        99.8  ...   \n",
              "4         four        sedan          4wd           front        99.4  ...   \n",
              "\n",
              "   engine-size  fuel-system  bore  stroke compression-ratio horsepower  \\\n",
              "0          130         mpfi  3.47    2.68               9.0      111.0   \n",
              "1          130         mpfi  3.47    2.68               9.0      111.0   \n",
              "2          152         mpfi  2.68    3.47               9.0      154.0   \n",
              "3          109         mpfi  3.19    3.40              10.0      102.0   \n",
              "4          136         mpfi  3.19    3.40               8.0      115.0   \n",
              "\n",
              "   peak-rpm city-mpg  highway-mpg    price  \n",
              "0    5000.0       21           27  13495.0  \n",
              "1    5000.0       21           27  16500.0  \n",
              "2    5000.0       19           26  16500.0  \n",
              "3    5500.0       24           30  13950.0  \n",
              "4    5500.0       18           22  17450.0  \n",
              "\n",
              "[5 rows x 26 columns]"
            ],
            "text/html": [
              "\n",
              "  <div id=\"df-3d807b00-39aa-41c6-a7eb-c00277b1d553\">\n",
              "    <div class=\"colab-df-container\">\n",
              "      <div>\n",
              "<style scoped>\n",
              "    .dataframe tbody tr th:only-of-type {\n",
              "        vertical-align: middle;\n",
              "    }\n",
              "\n",
              "    .dataframe tbody tr th {\n",
              "        vertical-align: top;\n",
              "    }\n",
              "\n",
              "    .dataframe thead th {\n",
              "        text-align: right;\n",
              "    }\n",
              "</style>\n",
              "<table border=\"1\" class=\"dataframe\">\n",
              "  <thead>\n",
              "    <tr style=\"text-align: right;\">\n",
              "      <th></th>\n",
              "      <th>symboling</th>\n",
              "      <th>normalized-losses</th>\n",
              "      <th>make</th>\n",
              "      <th>fuel-type</th>\n",
              "      <th>aspiration</th>\n",
              "      <th>num-of-doors</th>\n",
              "      <th>body-style</th>\n",
              "      <th>drive-wheels</th>\n",
              "      <th>engine-location</th>\n",
              "      <th>wheel-base</th>\n",
              "      <th>...</th>\n",
              "      <th>engine-size</th>\n",
              "      <th>fuel-system</th>\n",
              "      <th>bore</th>\n",
              "      <th>stroke</th>\n",
              "      <th>compression-ratio</th>\n",
              "      <th>horsepower</th>\n",
              "      <th>peak-rpm</th>\n",
              "      <th>city-mpg</th>\n",
              "      <th>highway-mpg</th>\n",
              "      <th>price</th>\n",
              "    </tr>\n",
              "  </thead>\n",
              "  <tbody>\n",
              "    <tr>\n",
              "      <th>0</th>\n",
              "      <td>3</td>\n",
              "      <td>122.0</td>\n",
              "      <td>alfa-romero</td>\n",
              "      <td>gas</td>\n",
              "      <td>std</td>\n",
              "      <td>two</td>\n",
              "      <td>convertible</td>\n",
              "      <td>rwd</td>\n",
              "      <td>front</td>\n",
              "      <td>88.6</td>\n",
              "      <td>...</td>\n",
              "      <td>130</td>\n",
              "      <td>mpfi</td>\n",
              "      <td>3.47</td>\n",
              "      <td>2.68</td>\n",
              "      <td>9.0</td>\n",
              "      <td>111.0</td>\n",
              "      <td>5000.0</td>\n",
              "      <td>21</td>\n",
              "      <td>27</td>\n",
              "      <td>13495.0</td>\n",
              "    </tr>\n",
              "    <tr>\n",
              "      <th>1</th>\n",
              "      <td>3</td>\n",
              "      <td>122.0</td>\n",
              "      <td>alfa-romero</td>\n",
              "      <td>gas</td>\n",
              "      <td>std</td>\n",
              "      <td>two</td>\n",
              "      <td>convertible</td>\n",
              "      <td>rwd</td>\n",
              "      <td>front</td>\n",
              "      <td>88.6</td>\n",
              "      <td>...</td>\n",
              "      <td>130</td>\n",
              "      <td>mpfi</td>\n",
              "      <td>3.47</td>\n",
              "      <td>2.68</td>\n",
              "      <td>9.0</td>\n",
              "      <td>111.0</td>\n",
              "      <td>5000.0</td>\n",
              "      <td>21</td>\n",
              "      <td>27</td>\n",
              "      <td>16500.0</td>\n",
              "    </tr>\n",
              "    <tr>\n",
              "      <th>2</th>\n",
              "      <td>1</td>\n",
              "      <td>122.0</td>\n",
              "      <td>alfa-romero</td>\n",
              "      <td>gas</td>\n",
              "      <td>std</td>\n",
              "      <td>two</td>\n",
              "      <td>hatchback</td>\n",
              "      <td>rwd</td>\n",
              "      <td>front</td>\n",
              "      <td>94.5</td>\n",
              "      <td>...</td>\n",
              "      <td>152</td>\n",
              "      <td>mpfi</td>\n",
              "      <td>2.68</td>\n",
              "      <td>3.47</td>\n",
              "      <td>9.0</td>\n",
              "      <td>154.0</td>\n",
              "      <td>5000.0</td>\n",
              "      <td>19</td>\n",
              "      <td>26</td>\n",
              "      <td>16500.0</td>\n",
              "    </tr>\n",
              "    <tr>\n",
              "      <th>3</th>\n",
              "      <td>2</td>\n",
              "      <td>164.0</td>\n",
              "      <td>audi</td>\n",
              "      <td>gas</td>\n",
              "      <td>std</td>\n",
              "      <td>four</td>\n",
              "      <td>sedan</td>\n",
              "      <td>fwd</td>\n",
              "      <td>front</td>\n",
              "      <td>99.8</td>\n",
              "      <td>...</td>\n",
              "      <td>109</td>\n",
              "      <td>mpfi</td>\n",
              "      <td>3.19</td>\n",
              "      <td>3.40</td>\n",
              "      <td>10.0</td>\n",
              "      <td>102.0</td>\n",
              "      <td>5500.0</td>\n",
              "      <td>24</td>\n",
              "      <td>30</td>\n",
              "      <td>13950.0</td>\n",
              "    </tr>\n",
              "    <tr>\n",
              "      <th>4</th>\n",
              "      <td>2</td>\n",
              "      <td>164.0</td>\n",
              "      <td>audi</td>\n",
              "      <td>gas</td>\n",
              "      <td>std</td>\n",
              "      <td>four</td>\n",
              "      <td>sedan</td>\n",
              "      <td>4wd</td>\n",
              "      <td>front</td>\n",
              "      <td>99.4</td>\n",
              "      <td>...</td>\n",
              "      <td>136</td>\n",
              "      <td>mpfi</td>\n",
              "      <td>3.19</td>\n",
              "      <td>3.40</td>\n",
              "      <td>8.0</td>\n",
              "      <td>115.0</td>\n",
              "      <td>5500.0</td>\n",
              "      <td>18</td>\n",
              "      <td>22</td>\n",
              "      <td>17450.0</td>\n",
              "    </tr>\n",
              "  </tbody>\n",
              "</table>\n",
              "<p>5 rows × 26 columns</p>\n",
              "</div>\n",
              "      <button class=\"colab-df-convert\" onclick=\"convertToInteractive('df-3d807b00-39aa-41c6-a7eb-c00277b1d553')\"\n",
              "              title=\"Convert this dataframe to an interactive table.\"\n",
              "              style=\"display:none;\">\n",
              "        \n",
              "  <svg xmlns=\"http://www.w3.org/2000/svg\" height=\"24px\"viewBox=\"0 0 24 24\"\n",
              "       width=\"24px\">\n",
              "    <path d=\"M0 0h24v24H0V0z\" fill=\"none\"/>\n",
              "    <path d=\"M18.56 5.44l.94 2.06.94-2.06 2.06-.94-2.06-.94-.94-2.06-.94 2.06-2.06.94zm-11 1L8.5 8.5l.94-2.06 2.06-.94-2.06-.94L8.5 2.5l-.94 2.06-2.06.94zm10 10l.94 2.06.94-2.06 2.06-.94-2.06-.94-.94-2.06-.94 2.06-2.06.94z\"/><path d=\"M17.41 7.96l-1.37-1.37c-.4-.4-.92-.59-1.43-.59-.52 0-1.04.2-1.43.59L10.3 9.45l-7.72 7.72c-.78.78-.78 2.05 0 2.83L4 21.41c.39.39.9.59 1.41.59.51 0 1.02-.2 1.41-.59l7.78-7.78 2.81-2.81c.8-.78.8-2.07 0-2.86zM5.41 20L4 18.59l7.72-7.72 1.47 1.35L5.41 20z\"/>\n",
              "  </svg>\n",
              "      </button>\n",
              "      \n",
              "  <style>\n",
              "    .colab-df-container {\n",
              "      display:flex;\n",
              "      flex-wrap:wrap;\n",
              "      gap: 12px;\n",
              "    }\n",
              "\n",
              "    .colab-df-convert {\n",
              "      background-color: #E8F0FE;\n",
              "      border: none;\n",
              "      border-radius: 50%;\n",
              "      cursor: pointer;\n",
              "      display: none;\n",
              "      fill: #1967D2;\n",
              "      height: 32px;\n",
              "      padding: 0 0 0 0;\n",
              "      width: 32px;\n",
              "    }\n",
              "\n",
              "    .colab-df-convert:hover {\n",
              "      background-color: #E2EBFA;\n",
              "      box-shadow: 0px 1px 2px rgba(60, 64, 67, 0.3), 0px 1px 3px 1px rgba(60, 64, 67, 0.15);\n",
              "      fill: #174EA6;\n",
              "    }\n",
              "\n",
              "    [theme=dark] .colab-df-convert {\n",
              "      background-color: #3B4455;\n",
              "      fill: #D2E3FC;\n",
              "    }\n",
              "\n",
              "    [theme=dark] .colab-df-convert:hover {\n",
              "      background-color: #434B5C;\n",
              "      box-shadow: 0px 1px 3px 1px rgba(0, 0, 0, 0.15);\n",
              "      filter: drop-shadow(0px 1px 2px rgba(0, 0, 0, 0.3));\n",
              "      fill: #FFFFFF;\n",
              "    }\n",
              "  </style>\n",
              "\n",
              "      <script>\n",
              "        const buttonEl =\n",
              "          document.querySelector('#df-3d807b00-39aa-41c6-a7eb-c00277b1d553 button.colab-df-convert');\n",
              "        buttonEl.style.display =\n",
              "          google.colab.kernel.accessAllowed ? 'block' : 'none';\n",
              "\n",
              "        async function convertToInteractive(key) {\n",
              "          const element = document.querySelector('#df-3d807b00-39aa-41c6-a7eb-c00277b1d553');\n",
              "          const dataTable =\n",
              "            await google.colab.kernel.invokeFunction('convertToInteractive',\n",
              "                                                     [key], {});\n",
              "          if (!dataTable) return;\n",
              "\n",
              "          const docLinkHtml = 'Like what you see? Visit the ' +\n",
              "            '<a target=\"_blank\" href=https://colab.research.google.com/notebooks/data_table.ipynb>data table notebook</a>'\n",
              "            + ' to learn more about interactive tables.';\n",
              "          element.innerHTML = '';\n",
              "          dataTable['output_type'] = 'display_data';\n",
              "          await google.colab.output.renderOutput(dataTable, element);\n",
              "          const docLink = document.createElement('div');\n",
              "          docLink.innerHTML = docLinkHtml;\n",
              "          element.appendChild(docLink);\n",
              "        }\n",
              "      </script>\n",
              "    </div>\n",
              "  </div>\n",
              "  "
            ]
          },
          "metadata": {},
          "execution_count": 60
        },
        {
          "output_type": "stream",
          "name": "stdout",
          "text": [
            "Warning: Total number of columns (26) exceeds max_columns (20) limiting to first (20) columns.\n"
          ]
        }
      ]
    },
    {
      "cell_type": "code",
      "source": [
        "# hay que agrupar las propiedades categóricas y numéricas en dos variables\n",
        "# distintas que nos permitan trabajar de manera más cómoda con los datos\n",
        "\n",
        "numeric_feature_names = ['symboling', 'wheel-base', 'normalized-losses', 'length', 'width', 'height', 'urb-weight', 'engine-size', 'bore', 'stroke', 'compression-ratio', 'horsepower', 'peak-rpm', 'city-mpg', 'highway-mpg']\n",
        "\n",
        "categorical_feature_names = ['make', 'fuel-type',\t'aspiration',\t'num-of-doors',\t'body-style',\t'drive-wheels',\t'engine-location', 'fuel-system']\n",
        "\n",
        "all_feature_names = numeric_feature_names + categorical_feature_names\n",
        "\n",
        "target = 'price'\n",
        "\n",
        "print(f'Propiedades numéricas: {numeric_feature_names} ({len(numeric_feature_names)})')\n",
        "print(f'Propiedades categóricas: {categorical_feature_names} ({len(categorical_feature_names)})')\n",
        "print(f'Propiedad objetivo: {target}')"
      ],
      "metadata": {
        "id": "8388iEvGC_bZ",
        "colab": {
          "base_uri": "https://localhost:8080/"
        },
        "outputId": "2747f549-18e5-4fbe-e008-1225d9479aea"
      },
      "execution_count": 61,
      "outputs": [
        {
          "output_type": "stream",
          "name": "stdout",
          "text": [
            "Propiedades numéricas: ['symboling', 'wheel-base', 'normalized-losses', 'length', 'width', 'height', 'urb-weight', 'engine-size', 'bore', 'stroke', 'compression-ratio', 'horsepower', 'peak-rpm', 'city-mpg', 'highway-mpg'] (15)\n",
            "Propiedades categóricas: ['make', 'fuel-type', 'aspiration', 'num-of-doors', 'body-style', 'drive-wheels', 'engine-location', 'fuel-system'] (8)\n",
            "Propiedad objetivo: price\n"
          ]
        }
      ]
    },
    {
      "cell_type": "code",
      "source": [
        "# se comienza el análisis examinando los histogramas de las\n",
        "# propiedades numéricas para tener una visión general de las distribuciones\n",
        "import matplotlib.pyplot as plt\n",
        "df[numeric_feature_names].hist(ax = plt.figure(figsize = (15, 15)).gca())"
      ],
      "metadata": {
        "id": "7DS5u3BLDFrh"
      },
      "execution_count": null,
      "outputs": []
    },
    {
      "cell_type": "markdown",
      "source": [
        "De estos histogramas podemos identificar varias desviaciones positivas (p. ej.,\n",
        "normalized-losses o engine-size) ocasionadas por algunos valores atípicos. Para\n",
        "mejorar las distribuciones, se procede a aplicar algunas transformaciones a\n",
        "aquellas propiedades que presentan valores atípicos extremos.\n",
        "\n",
        "En primer lugar, se tendrá qué identificar cuáles son esos valores atípicos extremos. Para ello, podemos utilizar los diagramas de cajas (boxplots) para visualizarlos y confirmar que existen. Para dibujarlos, podemos hacerlo fácilmente utilizando la biblioteca seaborn."
      ],
      "metadata": {
        "id": "AiRe0Tqcq7ON"
      }
    },
    {
      "cell_type": "code",
      "source": [
        "import seaborn as sns\n",
        "\n",
        "# mediante esta función de pueden visualizar los 'outliers'\n",
        "def draw_hist_boxplot(df, feature_name):\n",
        "  # se dibuja el diagrama de cajas\n",
        "  sns.boxplot(x = feature_name, data = df)\n",
        "  # se dibujan sobre el diagrama todos los puntos de datos que tiene la propiedad\n",
        "  sns.stripplot(x = feature_name, data = df, color = \"#474646\")\n",
        "\n",
        "# mediante esta función se reemplazan todos los outliers\n",
        "# cualquier valor por encima o por debajo de los\n",
        "# límites superior o inferior es sustituido por la mediana\n",
        "def replace_outliers_with_median(df, feature_name):\n",
        "  Q1 = df[feature_name].quantile(0.25)\n",
        "  median = df[feature_name].quantile(0.5)\n",
        "  Q3 = df[feature_name].quantile(0.75)\n",
        "  IQR = Q3 - Q1\n",
        "  lower_whisker = Q1 - 1.5 * IQR\n",
        "  upper_whisker = Q3 + 1.5 * IQR\n",
        "  df[feature_name] = np.where((df[feature_name] < lower_whisker) | \n",
        "                              (df[feature_name] > upper_whisker), \n",
        "                                median, \n",
        "                                df[feature_name])"
      ],
      "metadata": {
        "id": "1OwKGILCDPOj"
      },
      "execution_count": 63,
      "outputs": []
    },
    {
      "cell_type": "code",
      "source": [
        "# se dibuja el diagrama y los puntos, se observa que no hay outliers\n",
        "draw_hist_boxplot(df, 'bore')"
      ],
      "metadata": {
        "id": "pN8pFh-ODXj4",
        "colab": {
          "base_uri": "https://localhost:8080/",
          "height": 279
        },
        "outputId": "715eedf4-73a8-49d6-c684-9b3821bd6b21"
      },
      "execution_count": 64,
      "outputs": [
        {
          "output_type": "display_data",
          "data": {
            "text/plain": [
              "<Figure size 432x288 with 1 Axes>"
            ],
            "image/png": "[encoded data removed]"
          },
          "metadata": {
            "needs_background": "light"
          }
        }
      ]
    },
    {
      "cell_type": "code",
      "source": [
        "# se dibuja\n",
        "draw_hist_boxplot(df, 'normalized-losses')"
      ],
      "metadata": {
        "id": "radI2fMlDao8",
        "colab": {
          "base_uri": "https://localhost:8080/",
          "height": 279
        },
        "outputId": "5ddfacab-b808-41d6-f46e-78ea1609844f"
      },
      "execution_count": 65,
      "outputs": [
        {
          "output_type": "display_data",
          "data": {
            "text/plain": [
              "<Figure size 432x288 with 1 Axes>"
            ],
            "image/png": "[encoded data removed]"
          },
          "metadata": {
            "needs_background": "light"
          }
        }
      ]
    },
    {
      "cell_type": "code",
      "source": [
        "# se reemplazan los outliers y se vuelve a dibujar\n",
        "replace_outliers_with_median(df, 'normalized-losses')\n",
        "draw_hist_boxplot(df, 'normalized-losses')"
      ],
      "metadata": {
        "id": "No8ANGXZDdmS",
        "colab": {
          "base_uri": "https://localhost:8080/",
          "height": 279
        },
        "outputId": "34d1024c-8b37-4676-f82d-004d5e6fdbf8"
      },
      "execution_count": 66,
      "outputs": [
        {
          "output_type": "display_data",
          "data": {
            "text/plain": [
              "<Figure size 432x288 with 1 Axes>"
            ],
            "image/png": "[encoded data removed]"
          },
          "metadata": {
            "needs_background": "light"
          }
        }
      ]
    },
    {
      "cell_type": "code",
      "source": [
        "# se puede ejecutar el método skew() sobre la serie de un dataframe para\n",
        "# cuantificar la desviación de la distribución y su signo\n",
        "# si lo ejecutamos antes y después de corregir los valores atípicos,\n",
        "# podremos ver cómo el valor de desviación se va reduciendo ligeramente\n",
        "# print(df['atributo'].skew())"
      ],
      "metadata": {
        "id": "0vKZ6zH4ueG4"
      },
      "execution_count": 27,
      "outputs": []
    },
    {
      "cell_type": "code",
      "source": [
        "# dibujar atributo stroke\n"
      ],
      "metadata": {
        "id": "2n9nLlTnDgT1"
      },
      "execution_count": null,
      "outputs": []
    },
    {
      "cell_type": "code",
      "source": [
        "# reemplazar outliers de stroke y volver a dibujar\n",
        "replace_outliers_with_median(df, 'stroke')"
      ],
      "metadata": {
        "id": "HmNWkmnMDjw_"
      },
      "execution_count": 67,
      "outputs": []
    },
    {
      "cell_type": "code",
      "source": [
        "# repetir para los todos los atributos numéricos:\n",
        "# compression-ratio, engine-size, peak-rpm, horsepower, etc.\n",
        "for columna in numeric_feature_names:\n",
        "  replace_outliers_with_median(df, columna)"
      ],
      "metadata": {
        "id": "yuM6XgpDDnrc"
      },
      "execution_count": 68,
      "outputs": []
    },
    {
      "cell_type": "code",
      "source": [
        "# atributo city-mpg\n",
        "draw_hist_boxplot(df, 'city-mpg')"
      ],
      "metadata": {
        "id": "RIY5sQgAEB6-",
        "colab": {
          "base_uri": "https://localhost:8080/",
          "height": 279
        },
        "outputId": "5a8dca41-12f5-46f5-dba5-ad265adf950b"
      },
      "execution_count": null,
      "outputs": [
        {
          "output_type": "display_data",
          "data": {
            "text/plain": [
              "<Figure size 432x288 with 1 Axes>"
            ],
            "image/png": "[encoded data removed]"
          },
          "metadata": {
            "needs_background": "light"
          }
        }
      ]
    },
    {
      "cell_type": "code",
      "source": [
        "# en la propiedad city-mpg podremos ver cómo sólo hay algunos pocos valores atípicos\n",
        "# como son pocos, simplemente los eliminaremos del conjunto de datos\n",
        "df.drop(df.loc[df['city-mpg'] > VALOR_OUTLIER].index, inplace = True)\n",
        "draw_hist_boxplot(df, 'city-mpg')"
      ],
      "metadata": {
        "id": "pkvgMbi7EEuv",
        "colab": {
          "base_uri": "https://localhost:8080/",
          "height": 279
        },
        "outputId": "cd4ce986-eaf8-4729-b6fe-501118df8ad3"
      },
      "execution_count": null,
      "outputs": [
        {
          "output_type": "display_data",
          "data": {
            "text/plain": [
              "<Figure size 432x288 with 1 Axes>"
            ],
            "image/png": "[encoded data removed]"
          },
          "metadata": {
            "needs_background": "light"
          }
        }
      ]
    },
    {
      "cell_type": "code",
      "source": [
        "# una vez que hayamos finalizado, podemos volver a visualizar los histogramas\n",
        "# para ver que aspecto tienen las nuevas distribuciones\n",
        "df[numeric_feature_names].hist(ax = plt.figure(figsize = (15, 15)).gca())"
      ],
      "metadata": {
        "id": "2TWOSR3NEHrw"
      },
      "execution_count": null,
      "outputs": []
    },
    {
      "cell_type": "markdown",
      "source": [
        "En las gráficas puede observarse como las desviaciones se han reducido ligeramente y ya no existen valores atípicos extremos. Para los valores atípicos que nos queden, podemos aplicar la técnica de normalizado mediante escalado. Para ello, podemos utilizar la clase StandardScaler del módulo sklearn.preprocessing y visualizar de nuevo los histogramas para revisar las nuevas distribuciones"
      ],
      "metadata": {
        "id": "Xh7rrgrQwZRS"
      }
    },
    {
      "cell_type": "code",
      "source": [
        "from sklearn.preprocessing import StandardScaler\n",
        "\n",
        "scaler = StandardScaler()\n",
        "df[numeric_feature_names] = scaler.fit_transform(df[numeric_feature_names])\n",
        "\n",
        "df[numeric_feature_names].hist(ax = plt.figure(figsize = (15, 15)).gca())"
      ],
      "metadata": {
        "id": "Yqf3Oc8PELcb",
        "colab": {
          "base_uri": "https://localhost:8080/",
          "height": 1000
        },
        "outputId": "3aea5bdb-df90-41e0-b473-4a793e68f872"
      },
      "execution_count": 69,
      "outputs": [
        {
          "output_type": "stream",
          "name": "stderr",
          "text": [
            "<ipython-input-69-d1a2407358da>:6: UserWarning: To output multiple subplots, the figure containing the passed axes is being cleared\n",
            "  df[numeric_feature_names].hist(ax = plt.figure(figsize = (15, 15)).gca())\n"
          ]
        },
        {
          "output_type": "execute_result",
          "data": {
            "text/plain": [
              "array([[<AxesSubplot:title={'center':'symboling'}>,\n",
              "        <AxesSubplot:title={'center':'wheel-base'}>,\n",
              "        <AxesSubplot:title={'center':'normalized-losses'}>,\n",
              "        <AxesSubplot:title={'center':'length'}>],\n",
              "       [<AxesSubplot:title={'center':'width'}>,\n",
              "        <AxesSubplot:title={'center':'height'}>,\n",
              "        <AxesSubplot:title={'center':'urb-weight'}>,\n",
              "        <AxesSubplot:title={'center':'engine-size'}>],\n",
              "       [<AxesSubplot:title={'center':'bore'}>,\n",
              "        <AxesSubplot:title={'center':'stroke'}>,\n",
              "        <AxesSubplot:title={'center':'compression-ratio'}>,\n",
              "        <AxesSubplot:title={'center':'horsepower'}>],\n",
              "       [<AxesSubplot:title={'center':'peak-rpm'}>,\n",
              "        <AxesSubplot:title={'center':'city-mpg'}>,\n",
              "        <AxesSubplot:title={'center':'highway-mpg'}>, <AxesSubplot:>]],\n",
              "      dtype=object)"
            ]
          },
          "metadata": {},
          "execution_count": 69
        },
        {
          "output_type": "display_data",
          "data": {
            "text/plain": [
              "<Figure size 1080x1080 with 16 Axes>"
            ],
            "image/png": "[encoded data removed]"
          },
          "metadata": {
            "needs_background": "light"
          }
        }
      ]
    },
    {
      "cell_type": "markdown",
      "source": [
        "# Importancia de las propiedades y división del conjunto de datos"
      ],
      "metadata": {
        "id": "7oFsEtNCEy4v"
      }
    },
    {
      "cell_type": "markdown",
      "source": [
        "Vamos a analizar ahora el impacto de las propiedades sobre la variable objetivo. Para ello, vamos a empezar por las propiedades numéricas. Podemos realizar este análisis inicial mediante un mapa de calor que muestre las correlaciones que existen entre todas las variables, utilizando el método heatmap() del módulo seaborn e indicando que utilice la correlación de Pearson para ello."
      ],
      "metadata": {
        "id": "eYGcNMKHw2Ys"
      }
    },
    {
      "cell_type": "code",
      "source": [
        "import seaborn as sns\n",
        "\n",
        "plt.figure(figsize=(15, 10))\n",
        "sns.heatmap(df.corr(), cmap = 'BrBG', annot = True)"
      ],
      "metadata": {
        "id": "UQ5SDWXxE8JH",
        "colab": {
          "base_uri": "https://localhost:8080/",
          "height": 692
        },
        "outputId": "1985aff2-afda-4a4c-9208-f6df00cba6f9"
      },
      "execution_count": 70,
      "outputs": [
        {
          "output_type": "execute_result",
          "data": {
            "text/plain": [
              "<AxesSubplot:>"
            ]
          },
          "metadata": {},
          "execution_count": 70
        },
        {
          "output_type": "display_data",
          "data": {
            "text/plain": [
              "<Figure size 1080x720 with 2 Axes>"
            ],
            "image/png": "[encoded data removed]"
          },
          "metadata": {
            "needs_background": "light"
          }
        }
      ]
    },
    {
      "cell_type": "code",
      "source": [
        "# podemos utilizar el análisis para eliminar algunas propiedades que no\n",
        "# tengan ninguna correlación con la variable objetivo: symboling\n",
        "df = df.drop(['symboling'],axis=1)"
      ],
      "metadata": {
        "id": "JDsmzQo6FBo-"
      },
      "execution_count": 71,
      "outputs": []
    },
    {
      "cell_type": "markdown",
      "source": [
        "Sobre las variables categóricas, se pueden visualizar sus diagramas de cajas\n",
        "para analizar sus distribuciones en relación al precio."
      ],
      "metadata": {
        "id": "UmT-_MaW0g2t"
      }
    },
    {
      "cell_type": "code",
      "source": [
        "plt.figure(figsize = (10, 5))\n",
        "sns.boxplot(x = 'body-style', y = 'price', data = df)"
      ],
      "metadata": {
        "id": "ZuWTSdewFJFE",
        "colab": {
          "base_uri": "https://localhost:8080/",
          "height": 351
        },
        "outputId": "02965e5e-368e-4504-fac4-97e44c20265d"
      },
      "execution_count": 72,
      "outputs": [
        {
          "output_type": "execute_result",
          "data": {
            "text/plain": [
              "<AxesSubplot:xlabel='body-style', ylabel='price'>"
            ]
          },
          "metadata": {},
          "execution_count": 72
        },
        {
          "output_type": "display_data",
          "data": {
            "text/plain": [
              "<Figure size 720x360 with 1 Axes>"
            ],
            "image/png": "[encoded data removed]"
          },
          "metadata": {
            "needs_background": "light"
          }
        }
      ]
    },
    {
      "cell_type": "code",
      "source": [
        "# aspiration\n",
        "plt.figure(figsize = (10, 5))\n",
        "sns.boxplot(x = 'aspiration', y = 'price', data = df)"
      ],
      "metadata": {
        "id": "QWWKPDj2FLul",
        "colab": {
          "base_uri": "https://localhost:8080/",
          "height": 351
        },
        "outputId": "d1a1a350-6c4f-47ff-9c3d-1e3926396347"
      },
      "execution_count": 73,
      "outputs": [
        {
          "output_type": "execute_result",
          "data": {
            "text/plain": [
              "<AxesSubplot:xlabel='aspiration', ylabel='price'>"
            ]
          },
          "metadata": {},
          "execution_count": 73
        },
        {
          "output_type": "display_data",
          "data": {
            "text/plain": [
              "<Figure size 720x360 with 1 Axes>"
            ],
            "image/png": "[encoded data removed]"
          },
          "metadata": {
            "needs_background": "light"
          }
        }
      ]
    },
    {
      "cell_type": "code",
      "source": [
        "# fuel-system\n",
        "plt.figure(figsize = (10, 5))\n",
        "sns.boxplot(x = 'fuel-system', y = 'price', data = df)"
      ],
      "metadata": {
        "id": "uoNP9vd3FSCV",
        "colab": {
          "base_uri": "https://localhost:8080/",
          "height": 351
        },
        "outputId": "62f2ed3c-0553-4899-f816-23d294ce45e5"
      },
      "execution_count": 74,
      "outputs": [
        {
          "output_type": "execute_result",
          "data": {
            "text/plain": [
              "<AxesSubplot:xlabel='fuel-system', ylabel='price'>"
            ]
          },
          "metadata": {},
          "execution_count": 74
        },
        {
          "output_type": "display_data",
          "data": {
            "text/plain": [
              "<Figure size 720x360 with 1 Axes>"
            ],
            "image/png": "[encoded data removed]"
          },
          "metadata": {
            "needs_background": "light"
          }
        }
      ]
    },
    {
      "cell_type": "code",
      "source": [
        "# drive-wheels\n",
        "plt.figure(figsize = (10, 5))\n",
        "sns.boxplot(x = 'drive-wheels', y = 'price', data = df)"
      ],
      "metadata": {
        "id": "kbehJCb_FW_6",
        "colab": {
          "base_uri": "https://localhost:8080/",
          "height": 351
        },
        "outputId": "a18c66db-5396-476f-fa84-bd7d522c1cec"
      },
      "execution_count": 76,
      "outputs": [
        {
          "output_type": "execute_result",
          "data": {
            "text/plain": [
              "<AxesSubplot:xlabel='drive-wheels', ylabel='price'>"
            ]
          },
          "metadata": {},
          "execution_count": 76
        },
        {
          "output_type": "display_data",
          "data": {
            "text/plain": [
              "<Figure size 720x360 with 1 Axes>"
            ],
            "image/png": "[encoded data removed]"
          },
          "metadata": {
            "needs_background": "light"
          }
        }
      ]
    },
    {
      "cell_type": "markdown",
      "source": [
        "Una vez se hayan analizado las distintas propiedades, fijaremos las propiedades con las que entrenaremos el modelo y procederemos a la división del conjunto de datos en los conjuntos de entrenamiento, validación y pruebas."
      ],
      "metadata": {
        "id": "157HPaTH1Rvm"
      }
    },
    {
      "cell_type": "code",
      "source": [
        "numeric_feature_names = ['wheel-base', 'normalized-losses', 'length', 'width', 'height', 'urb-weight', 'engine-size', 'bore', 'stroke', 'compression-ratio', 'horsepower', 'peak-rpm', 'city-mpg', 'highway-mpg']\n",
        "\n",
        "categorical_feature_names = ['make', 'fuel-type',\t'aspiration',\t'num-of-doors',\t'body-style',\t'drive-wheels',\t'engine-location', 'fuel-system']\n",
        "\n",
        "print(f'Propiedades numéricas: {numeric_feature_names} ({len(numeric_feature_names)})')\n",
        "print(f'Propiedades categóricas: {categorical_feature_names} ({len(categorical_feature_names)})')\n",
        "\n",
        "all_feature_names = numeric_feature_names + categorical_feature_names"
      ],
      "metadata": {
        "id": "Chxd-HwEFe8d",
        "colab": {
          "base_uri": "https://localhost:8080/"
        },
        "outputId": "d7d396ee-1f82-41ef-f56a-7c8882a5519c"
      },
      "execution_count": 80,
      "outputs": [
        {
          "output_type": "stream",
          "name": "stdout",
          "text": [
            "Propiedades numéricas: ['wheel-base', 'normalized-losses', 'length', 'width', 'height', 'urb-weight', 'engine-size', 'bore', 'stroke', 'compression-ratio', 'horsepower', 'peak-rpm', 'city-mpg', 'highway-mpg'] (14)\n",
            "Propiedades categóricas: ['make', 'fuel-type', 'aspiration', 'num-of-doors', 'body-style', 'drive-wheels', 'engine-location', 'fuel-system'] (8)\n"
          ]
        }
      ]
    },
    {
      "cell_type": "code",
      "source": [
        "df[numeric_feature_names].head(2)"
      ],
      "metadata": {
        "id": "HQHHR9WhFhEk",
        "colab": {
          "base_uri": "https://localhost:8080/",
          "height": 112
        },
        "outputId": "d83f6074-20e9-4bd0-d309-38176f7ecbcb"
      },
      "execution_count": 81,
      "outputs": [
        {
          "output_type": "execute_result",
          "data": {
            "text/plain": [
              "   wheel-base  normalized-losses    length     width    height  urb-weight  \\\n",
              "0   -1.767358           0.172858 -0.460824 -0.929196 -2.034081    0.017775   \n",
              "1   -1.767358           0.172858 -0.460824 -0.929196 -2.034081    0.017775   \n",
              "\n",
              "   engine-size      bore    stroke  compression-ratio  horsepower  peak-rpm  \\\n",
              "0     0.353915  0.520966 -0.021165           0.159223    0.327701 -0.227263   \n",
              "1     0.353915  0.520966 -0.021165           0.159223    0.327701 -0.227263   \n",
              "\n",
              "   city-mpg  highway-mpg  \n",
              "0 -0.658389    -0.536437  \n",
              "1 -0.658389    -0.536437  "
            ],
            "text/html": [
              "\n",
              "  <div id=\"df-ec81562c-1f0e-417d-abe2-40d03cf23e3c\">\n",
              "    <div class=\"colab-df-container\">\n",
              "      <div>\n",
              "<style scoped>\n",
              "    .dataframe tbody tr th:only-of-type {\n",
              "        vertical-align: middle;\n",
              "    }\n",
              "\n",
              "    .dataframe tbody tr th {\n",
              "        vertical-align: top;\n",
              "    }\n",
              "\n",
              "    .dataframe thead th {\n",
              "        text-align: right;\n",
              "    }\n",
              "</style>\n",
              "<table border=\"1\" class=\"dataframe\">\n",
              "  <thead>\n",
              "    <tr style=\"text-align: right;\">\n",
              "      <th></th>\n",
              "      <th>wheel-base</th>\n",
              "      <th>normalized-losses</th>\n",
              "      <th>length</th>\n",
              "      <th>width</th>\n",
              "      <th>height</th>\n",
              "      <th>urb-weight</th>\n",
              "      <th>engine-size</th>\n",
              "      <th>bore</th>\n",
              "      <th>stroke</th>\n",
              "      <th>compression-ratio</th>\n",
              "      <th>horsepower</th>\n",
              "      <th>peak-rpm</th>\n",
              "      <th>city-mpg</th>\n",
              "      <th>highway-mpg</th>\n",
              "    </tr>\n",
              "  </thead>\n",
              "  <tbody>\n",
              "    <tr>\n",
              "      <th>0</th>\n",
              "      <td>-1.767358</td>\n",
              "      <td>0.172858</td>\n",
              "      <td>-0.460824</td>\n",
              "      <td>-0.929196</td>\n",
              "      <td>-2.034081</td>\n",
              "      <td>0.017775</td>\n",
              "      <td>0.353915</td>\n",
              "      <td>0.520966</td>\n",
              "      <td>-0.021165</td>\n",
              "      <td>0.159223</td>\n",
              "      <td>0.327701</td>\n",
              "      <td>-0.227263</td>\n",
              "      <td>-0.658389</td>\n",
              "      <td>-0.536437</td>\n",
              "    </tr>\n",
              "    <tr>\n",
              "      <th>1</th>\n",
              "      <td>-1.767358</td>\n",
              "      <td>0.172858</td>\n",
              "      <td>-0.460824</td>\n",
              "      <td>-0.929196</td>\n",
              "      <td>-2.034081</td>\n",
              "      <td>0.017775</td>\n",
              "      <td>0.353915</td>\n",
              "      <td>0.520966</td>\n",
              "      <td>-0.021165</td>\n",
              "      <td>0.159223</td>\n",
              "      <td>0.327701</td>\n",
              "      <td>-0.227263</td>\n",
              "      <td>-0.658389</td>\n",
              "      <td>-0.536437</td>\n",
              "    </tr>\n",
              "  </tbody>\n",
              "</table>\n",
              "</div>\n",
              "      <button class=\"colab-df-convert\" onclick=\"convertToInteractive('df-ec81562c-1f0e-417d-abe2-40d03cf23e3c')\"\n",
              "              title=\"Convert this dataframe to an interactive table.\"\n",
              "              style=\"display:none;\">\n",
              "        \n",
              "  <svg xmlns=\"http://www.w3.org/2000/svg\" height=\"24px\"viewBox=\"0 0 24 24\"\n",
              "       width=\"24px\">\n",
              "    <path d=\"M0 0h24v24H0V0z\" fill=\"none\"/>\n",
              "    <path d=\"M18.56 5.44l.94 2.06.94-2.06 2.06-.94-2.06-.94-.94-2.06-.94 2.06-2.06.94zm-11 1L8.5 8.5l.94-2.06 2.06-.94-2.06-.94L8.5 2.5l-.94 2.06-2.06.94zm10 10l.94 2.06.94-2.06 2.06-.94-2.06-.94-.94-2.06-.94 2.06-2.06.94z\"/><path d=\"M17.41 7.96l-1.37-1.37c-.4-.4-.92-.59-1.43-.59-.52 0-1.04.2-1.43.59L10.3 9.45l-7.72 7.72c-.78.78-.78 2.05 0 2.83L4 21.41c.39.39.9.59 1.41.59.51 0 1.02-.2 1.41-.59l7.78-7.78 2.81-2.81c.8-.78.8-2.07 0-2.86zM5.41 20L4 18.59l7.72-7.72 1.47 1.35L5.41 20z\"/>\n",
              "  </svg>\n",
              "      </button>\n",
              "      \n",
              "  <style>\n",
              "    .colab-df-container {\n",
              "      display:flex;\n",
              "      flex-wrap:wrap;\n",
              "      gap: 12px;\n",
              "    }\n",
              "\n",
              "    .colab-df-convert {\n",
              "      background-color: #E8F0FE;\n",
              "      border: none;\n",
              "      border-radius: 50%;\n",
              "      cursor: pointer;\n",
              "      display: none;\n",
              "      fill: #1967D2;\n",
              "      height: 32px;\n",
              "      padding: 0 0 0 0;\n",
              "      width: 32px;\n",
              "    }\n",
              "\n",
              "    .colab-df-convert:hover {\n",
              "      background-color: #E2EBFA;\n",
              "      box-shadow: 0px 1px 2px rgba(60, 64, 67, 0.3), 0px 1px 3px 1px rgba(60, 64, 67, 0.15);\n",
              "      fill: #174EA6;\n",
              "    }\n",
              "\n",
              "    [theme=dark] .colab-df-convert {\n",
              "      background-color: #3B4455;\n",
              "      fill: #D2E3FC;\n",
              "    }\n",
              "\n",
              "    [theme=dark] .colab-df-convert:hover {\n",
              "      background-color: #434B5C;\n",
              "      box-shadow: 0px 1px 3px 1px rgba(0, 0, 0, 0.15);\n",
              "      filter: drop-shadow(0px 1px 2px rgba(0, 0, 0, 0.3));\n",
              "      fill: #FFFFFF;\n",
              "    }\n",
              "  </style>\n",
              "\n",
              "      <script>\n",
              "        const buttonEl =\n",
              "          document.querySelector('#df-ec81562c-1f0e-417d-abe2-40d03cf23e3c button.colab-df-convert');\n",
              "        buttonEl.style.display =\n",
              "          google.colab.kernel.accessAllowed ? 'block' : 'none';\n",
              "\n",
              "        async function convertToInteractive(key) {\n",
              "          const element = document.querySelector('#df-ec81562c-1f0e-417d-abe2-40d03cf23e3c');\n",
              "          const dataTable =\n",
              "            await google.colab.kernel.invokeFunction('convertToInteractive',\n",
              "                                                     [key], {});\n",
              "          if (!dataTable) return;\n",
              "\n",
              "          const docLinkHtml = 'Like what you see? Visit the ' +\n",
              "            '<a target=\"_blank\" href=https://colab.research.google.com/notebooks/data_table.ipynb>data table notebook</a>'\n",
              "            + ' to learn more about interactive tables.';\n",
              "          element.innerHTML = '';\n",
              "          dataTable['output_type'] = 'display_data';\n",
              "          await google.colab.output.renderOutput(dataTable, element);\n",
              "          const docLink = document.createElement('div');\n",
              "          docLink.innerHTML = docLinkHtml;\n",
              "          element.appendChild(docLink);\n",
              "        }\n",
              "      </script>\n",
              "    </div>\n",
              "  </div>\n",
              "  "
            ]
          },
          "metadata": {},
          "execution_count": 81
        }
      ]
    },
    {
      "cell_type": "code",
      "source": [
        "df[categorical_feature_names].head(2)"
      ],
      "metadata": {
        "id": "IBtNdyRCFlhw",
        "colab": {
          "base_uri": "https://localhost:8080/",
          "height": 112
        },
        "outputId": "5fc18035-6e1d-4e9f-d9d5-e3caabeed859"
      },
      "execution_count": 82,
      "outputs": [
        {
          "output_type": "execute_result",
          "data": {
            "text/plain": [
              "          make fuel-type aspiration num-of-doors   body-style drive-wheels  \\\n",
              "0  alfa-romero       gas        std          two  convertible          rwd   \n",
              "1  alfa-romero       gas        std          two  convertible          rwd   \n",
              "\n",
              "  engine-location fuel-system  \n",
              "0           front        mpfi  \n",
              "1           front        mpfi  "
            ],
            "text/html": [
              "\n",
              "  <div id=\"df-15870d97-52f6-409d-a60a-06cb22511edd\">\n",
              "    <div class=\"colab-df-container\">\n",
              "      <div>\n",
              "<style scoped>\n",
              "    .dataframe tbody tr th:only-of-type {\n",
              "        vertical-align: middle;\n",
              "    }\n",
              "\n",
              "    .dataframe tbody tr th {\n",
              "        vertical-align: top;\n",
              "    }\n",
              "\n",
              "    .dataframe thead th {\n",
              "        text-align: right;\n",
              "    }\n",
              "</style>\n",
              "<table border=\"1\" class=\"dataframe\">\n",
              "  <thead>\n",
              "    <tr style=\"text-align: right;\">\n",
              "      <th></th>\n",
              "      <th>make</th>\n",
              "      <th>fuel-type</th>\n",
              "      <th>aspiration</th>\n",
              "      <th>num-of-doors</th>\n",
              "      <th>body-style</th>\n",
              "      <th>drive-wheels</th>\n",
              "      <th>engine-location</th>\n",
              "      <th>fuel-system</th>\n",
              "    </tr>\n",
              "  </thead>\n",
              "  <tbody>\n",
              "    <tr>\n",
              "      <th>0</th>\n",
              "      <td>alfa-romero</td>\n",
              "      <td>gas</td>\n",
              "      <td>std</td>\n",
              "      <td>two</td>\n",
              "      <td>convertible</td>\n",
              "      <td>rwd</td>\n",
              "      <td>front</td>\n",
              "      <td>mpfi</td>\n",
              "    </tr>\n",
              "    <tr>\n",
              "      <th>1</th>\n",
              "      <td>alfa-romero</td>\n",
              "      <td>gas</td>\n",
              "      <td>std</td>\n",
              "      <td>two</td>\n",
              "      <td>convertible</td>\n",
              "      <td>rwd</td>\n",
              "      <td>front</td>\n",
              "      <td>mpfi</td>\n",
              "    </tr>\n",
              "  </tbody>\n",
              "</table>\n",
              "</div>\n",
              "      <button class=\"colab-df-convert\" onclick=\"convertToInteractive('df-15870d97-52f6-409d-a60a-06cb22511edd')\"\n",
              "              title=\"Convert this dataframe to an interactive table.\"\n",
              "              style=\"display:none;\">\n",
              "        \n",
              "  <svg xmlns=\"http://www.w3.org/2000/svg\" height=\"24px\"viewBox=\"0 0 24 24\"\n",
              "       width=\"24px\">\n",
              "    <path d=\"M0 0h24v24H0V0z\" fill=\"none\"/>\n",
              "    <path d=\"M18.56 5.44l.94 2.06.94-2.06 2.06-.94-2.06-.94-.94-2.06-.94 2.06-2.06.94zm-11 1L8.5 8.5l.94-2.06 2.06-.94-2.06-.94L8.5 2.5l-.94 2.06-2.06.94zm10 10l.94 2.06.94-2.06 2.06-.94-2.06-.94-.94-2.06-.94 2.06-2.06.94z\"/><path d=\"M17.41 7.96l-1.37-1.37c-.4-.4-.92-.59-1.43-.59-.52 0-1.04.2-1.43.59L10.3 9.45l-7.72 7.72c-.78.78-.78 2.05 0 2.83L4 21.41c.39.39.9.59 1.41.59.51 0 1.02-.2 1.41-.59l7.78-7.78 2.81-2.81c.8-.78.8-2.07 0-2.86zM5.41 20L4 18.59l7.72-7.72 1.47 1.35L5.41 20z\"/>\n",
              "  </svg>\n",
              "      </button>\n",
              "      \n",
              "  <style>\n",
              "    .colab-df-container {\n",
              "      display:flex;\n",
              "      flex-wrap:wrap;\n",
              "      gap: 12px;\n",
              "    }\n",
              "\n",
              "    .colab-df-convert {\n",
              "      background-color: #E8F0FE;\n",
              "      border: none;\n",
              "      border-radius: 50%;\n",
              "      cursor: pointer;\n",
              "      display: none;\n",
              "      fill: #1967D2;\n",
              "      height: 32px;\n",
              "      padding: 0 0 0 0;\n",
              "      width: 32px;\n",
              "    }\n",
              "\n",
              "    .colab-df-convert:hover {\n",
              "      background-color: #E2EBFA;\n",
              "      box-shadow: 0px 1px 2px rgba(60, 64, 67, 0.3), 0px 1px 3px 1px rgba(60, 64, 67, 0.15);\n",
              "      fill: #174EA6;\n",
              "    }\n",
              "\n",
              "    [theme=dark] .colab-df-convert {\n",
              "      background-color: #3B4455;\n",
              "      fill: #D2E3FC;\n",
              "    }\n",
              "\n",
              "    [theme=dark] .colab-df-convert:hover {\n",
              "      background-color: #434B5C;\n",
              "      box-shadow: 0px 1px 3px 1px rgba(0, 0, 0, 0.15);\n",
              "      filter: drop-shadow(0px 1px 2px rgba(0, 0, 0, 0.3));\n",
              "      fill: #FFFFFF;\n",
              "    }\n",
              "  </style>\n",
              "\n",
              "      <script>\n",
              "        const buttonEl =\n",
              "          document.querySelector('#df-15870d97-52f6-409d-a60a-06cb22511edd button.colab-df-convert');\n",
              "        buttonEl.style.display =\n",
              "          google.colab.kernel.accessAllowed ? 'block' : 'none';\n",
              "\n",
              "        async function convertToInteractive(key) {\n",
              "          const element = document.querySelector('#df-15870d97-52f6-409d-a60a-06cb22511edd');\n",
              "          const dataTable =\n",
              "            await google.colab.kernel.invokeFunction('convertToInteractive',\n",
              "                                                     [key], {});\n",
              "          if (!dataTable) return;\n",
              "\n",
              "          const docLinkHtml = 'Like what you see? Visit the ' +\n",
              "            '<a target=\"_blank\" href=https://colab.research.google.com/notebooks/data_table.ipynb>data table notebook</a>'\n",
              "            + ' to learn more about interactive tables.';\n",
              "          element.innerHTML = '';\n",
              "          dataTable['output_type'] = 'display_data';\n",
              "          await google.colab.output.renderOutput(dataTable, element);\n",
              "          const docLink = document.createElement('div');\n",
              "          docLink.innerHTML = docLinkHtml;\n",
              "          element.appendChild(docLink);\n",
              "        }\n",
              "      </script>\n",
              "    </div>\n",
              "  </div>\n",
              "  "
            ]
          },
          "metadata": {},
          "execution_count": 82
        }
      ]
    },
    {
      "cell_type": "code",
      "source": [
        "from sklearn.model_selection import train_test_split\n",
        "\n",
        "X_train_full, X_test = train_test_split(df[all_feature_names + [target]], test_size = 0.2, random_state = 1)\n",
        "X_train, X_val = train_test_split(X_train_full, test_size = 0.33, random_state = 1)\n",
        "\n",
        "y_train = X_train[target].values\n",
        "y_val = X_val[target].values\n",
        "y_test = X_test[target].values\n",
        "\n",
        "X_train.drop([target], axis = 1, inplace = True)\n",
        "X_val.drop([target], axis = 1, inplace = True)\n",
        "X_test.drop([target], axis = 1, inplace = True)\n",
        "\n",
        "X_train.head(2)"
      ],
      "metadata": {
        "id": "OcLbta_9FpUv",
        "colab": {
          "base_uri": "https://localhost:8080/",
          "height": 240
        },
        "outputId": "97f20308-9a8f-4199-e0e4-1fdfd4e7ea82"
      },
      "execution_count": 84,
      "outputs": [
        {
          "output_type": "execute_result",
          "data": {
            "text/plain": [
              "     wheel-base  normalized-losses    length     width    height  urb-weight  \\\n",
              "140   -0.266726          -0.623121 -0.195635 -0.137030  0.218425   -0.312550   \n",
              "53    -0.570425           1.287229 -0.444250  0.045778 -1.706444   -0.322683   \n",
              "\n",
              "     engine-size      bore    stroke  compression-ratio  ...  city-mpg  \\\n",
              "140    -0.437695  1.081914 -0.021165           0.159223  ... -0.157116   \n",
              "53     -1.805020 -0.003516 -0.224987           0.931327  ... -1.326753   \n",
              "\n",
              "     highway-mpg    make  fuel-type aspiration num-of-doors body-style  \\\n",
              "140    -0.856389  subaru        gas        std         four      sedan   \n",
              "53     -1.176341   mazda        gas        std          two  hatchback   \n",
              "\n",
              "    drive-wheels engine-location fuel-system  \n",
              "140          4wd           front        2bbl  \n",
              "53           rwd           front        4bbl  \n",
              "\n",
              "[2 rows x 22 columns]"
            ],
            "text/html": [
              "\n",
              "  <div id=\"df-e63ec43d-935e-4bbf-beb1-a58ec592f3b8\">\n",
              "    <div class=\"colab-df-container\">\n",
              "      <div>\n",
              "<style scoped>\n",
              "    .dataframe tbody tr th:only-of-type {\n",
              "        vertical-align: middle;\n",
              "    }\n",
              "\n",
              "    .dataframe tbody tr th {\n",
              "        vertical-align: top;\n",
              "    }\n",
              "\n",
              "    .dataframe thead th {\n",
              "        text-align: right;\n",
              "    }\n",
              "</style>\n",
              "<table border=\"1\" class=\"dataframe\">\n",
              "  <thead>\n",
              "    <tr style=\"text-align: right;\">\n",
              "      <th></th>\n",
              "      <th>wheel-base</th>\n",
              "      <th>normalized-losses</th>\n",
              "      <th>length</th>\n",
              "      <th>width</th>\n",
              "      <th>height</th>\n",
              "      <th>urb-weight</th>\n",
              "      <th>engine-size</th>\n",
              "      <th>bore</th>\n",
              "      <th>stroke</th>\n",
              "      <th>compression-ratio</th>\n",
              "      <th>...</th>\n",
              "      <th>city-mpg</th>\n",
              "      <th>highway-mpg</th>\n",
              "      <th>make</th>\n",
              "      <th>fuel-type</th>\n",
              "      <th>aspiration</th>\n",
              "      <th>num-of-doors</th>\n",
              "      <th>body-style</th>\n",
              "      <th>drive-wheels</th>\n",
              "      <th>engine-location</th>\n",
              "      <th>fuel-system</th>\n",
              "    </tr>\n",
              "  </thead>\n",
              "  <tbody>\n",
              "    <tr>\n",
              "      <th>140</th>\n",
              "      <td>-0.266726</td>\n",
              "      <td>-0.623121</td>\n",
              "      <td>-0.195635</td>\n",
              "      <td>-0.137030</td>\n",
              "      <td>0.218425</td>\n",
              "      <td>-0.312550</td>\n",
              "      <td>-0.437695</td>\n",
              "      <td>1.081914</td>\n",
              "      <td>-0.021165</td>\n",
              "      <td>0.159223</td>\n",
              "      <td>...</td>\n",
              "      <td>-0.157116</td>\n",
              "      <td>-0.856389</td>\n",
              "      <td>subaru</td>\n",
              "      <td>gas</td>\n",
              "      <td>std</td>\n",
              "      <td>four</td>\n",
              "      <td>sedan</td>\n",
              "      <td>4wd</td>\n",
              "      <td>front</td>\n",
              "      <td>2bbl</td>\n",
              "    </tr>\n",
              "    <tr>\n",
              "      <th>53</th>\n",
              "      <td>-0.570425</td>\n",
              "      <td>1.287229</td>\n",
              "      <td>-0.444250</td>\n",
              "      <td>0.045778</td>\n",
              "      <td>-1.706444</td>\n",
              "      <td>-0.322683</td>\n",
              "      <td>-1.805020</td>\n",
              "      <td>-0.003516</td>\n",
              "      <td>-0.224987</td>\n",
              "      <td>0.931327</td>\n",
              "      <td>...</td>\n",
              "      <td>-1.326753</td>\n",
              "      <td>-1.176341</td>\n",
              "      <td>mazda</td>\n",
              "      <td>gas</td>\n",
              "      <td>std</td>\n",
              "      <td>two</td>\n",
              "      <td>hatchback</td>\n",
              "      <td>rwd</td>\n",
              "      <td>front</td>\n",
              "      <td>4bbl</td>\n",
              "    </tr>\n",
              "  </tbody>\n",
              "</table>\n",
              "<p>2 rows × 22 columns</p>\n",
              "</div>\n",
              "      <button class=\"colab-df-convert\" onclick=\"convertToInteractive('df-e63ec43d-935e-4bbf-beb1-a58ec592f3b8')\"\n",
              "              title=\"Convert this dataframe to an interactive table.\"\n",
              "              style=\"display:none;\">\n",
              "        \n",
              "  <svg xmlns=\"http://www.w3.org/2000/svg\" height=\"24px\"viewBox=\"0 0 24 24\"\n",
              "       width=\"24px\">\n",
              "    <path d=\"M0 0h24v24H0V0z\" fill=\"none\"/>\n",
              "    <path d=\"M18.56 5.44l.94 2.06.94-2.06 2.06-.94-2.06-.94-.94-2.06-.94 2.06-2.06.94zm-11 1L8.5 8.5l.94-2.06 2.06-.94-2.06-.94L8.5 2.5l-.94 2.06-2.06.94zm10 10l.94 2.06.94-2.06 2.06-.94-2.06-.94-.94-2.06-.94 2.06-2.06.94z\"/><path d=\"M17.41 7.96l-1.37-1.37c-.4-.4-.92-.59-1.43-.59-.52 0-1.04.2-1.43.59L10.3 9.45l-7.72 7.72c-.78.78-.78 2.05 0 2.83L4 21.41c.39.39.9.59 1.41.59.51 0 1.02-.2 1.41-.59l7.78-7.78 2.81-2.81c.8-.78.8-2.07 0-2.86zM5.41 20L4 18.59l7.72-7.72 1.47 1.35L5.41 20z\"/>\n",
              "  </svg>\n",
              "      </button>\n",
              "      \n",
              "  <style>\n",
              "    .colab-df-container {\n",
              "      display:flex;\n",
              "      flex-wrap:wrap;\n",
              "      gap: 12px;\n",
              "    }\n",
              "\n",
              "    .colab-df-convert {\n",
              "      background-color: #E8F0FE;\n",
              "      border: none;\n",
              "      border-radius: 50%;\n",
              "      cursor: pointer;\n",
              "      display: none;\n",
              "      fill: #1967D2;\n",
              "      height: 32px;\n",
              "      padding: 0 0 0 0;\n",
              "      width: 32px;\n",
              "    }\n",
              "\n",
              "    .colab-df-convert:hover {\n",
              "      background-color: #E2EBFA;\n",
              "      box-shadow: 0px 1px 2px rgba(60, 64, 67, 0.3), 0px 1px 3px 1px rgba(60, 64, 67, 0.15);\n",
              "      fill: #174EA6;\n",
              "    }\n",
              "\n",
              "    [theme=dark] .colab-df-convert {\n",
              "      background-color: #3B4455;\n",
              "      fill: #D2E3FC;\n",
              "    }\n",
              "\n",
              "    [theme=dark] .colab-df-convert:hover {\n",
              "      background-color: #434B5C;\n",
              "      box-shadow: 0px 1px 3px 1px rgba(0, 0, 0, 0.15);\n",
              "      filter: drop-shadow(0px 1px 2px rgba(0, 0, 0, 0.3));\n",
              "      fill: #FFFFFF;\n",
              "    }\n",
              "  </style>\n",
              "\n",
              "      <script>\n",
              "        const buttonEl =\n",
              "          document.querySelector('#df-e63ec43d-935e-4bbf-beb1-a58ec592f3b8 button.colab-df-convert');\n",
              "        buttonEl.style.display =\n",
              "          google.colab.kernel.accessAllowed ? 'block' : 'none';\n",
              "\n",
              "        async function convertToInteractive(key) {\n",
              "          const element = document.querySelector('#df-e63ec43d-935e-4bbf-beb1-a58ec592f3b8');\n",
              "          const dataTable =\n",
              "            await google.colab.kernel.invokeFunction('convertToInteractive',\n",
              "                                                     [key], {});\n",
              "          if (!dataTable) return;\n",
              "\n",
              "          const docLinkHtml = 'Like what you see? Visit the ' +\n",
              "            '<a target=\"_blank\" href=https://colab.research.google.com/notebooks/data_table.ipynb>data table notebook</a>'\n",
              "            + ' to learn more about interactive tables.';\n",
              "          element.innerHTML = '';\n",
              "          dataTable['output_type'] = 'display_data';\n",
              "          await google.colab.output.renderOutput(dataTable, element);\n",
              "          const docLink = document.createElement('div');\n",
              "          docLink.innerHTML = docLinkHtml;\n",
              "          element.appendChild(docLink);\n",
              "        }\n",
              "      </script>\n",
              "    </div>\n",
              "  </div>\n",
              "  "
            ]
          },
          "metadata": {},
          "execution_count": 84
        }
      ]
    },
    {
      "cell_type": "markdown",
      "source": [
        "# Ingeniería de propiedades"
      ],
      "metadata": {
        "id": "R4P_-MF1FvPX"
      }
    },
    {
      "cell_type": "markdown",
      "source": [
        "Una vez realizada la división del conjunto de datos, procederemos a codificar el conjunto de propiedades en un vector de propiedades. Utilizaremos la clase DictVectorizer para realizar la codificación one-hot de las variables categóricas."
      ],
      "metadata": {
        "id": "I2hNtfuA1_6A"
      }
    },
    {
      "cell_type": "code",
      "source": [
        "train_dict = X_train[all_feature_names].to_dict(orient = 'records')\n",
        "dict(sorted(train_dict[0].items()))"
      ],
      "metadata": {
        "id": "BpWjtdjrFzg4"
      },
      "execution_count": null,
      "outputs": []
    },
    {
      "cell_type": "code",
      "source": [
        "from sklearn.feature_extraction import DictVectorizer\n",
        "\n",
        "dv = DictVectorizer(sparse = False)\n",
        "dv.fit(train_dict)\n",
        "\n",
        "X_train = dv.transform(train_dict)\n",
        "X_train[0]"
      ],
      "metadata": {
        "id": "22iE6ADOF3Nt"
      },
      "execution_count": null,
      "outputs": []
    },
    {
      "cell_type": "code",
      "source": [
        "dv.get_feature_names_out()"
      ],
      "metadata": {
        "id": "qChsjVfPF_AL"
      },
      "execution_count": null,
      "outputs": []
    },
    {
      "cell_type": "markdown",
      "source": [
        "# Entrenamiento del modelo"
      ],
      "metadata": {
        "id": "kZ9G877cGFSP"
      }
    },
    {
      "cell_type": "code",
      "source": [
        "from sklearn.linear_model import LinearRegression\n",
        "\n",
        "model = LinearRegression()\n",
        "model.fit(X_train, y_train)"
      ],
      "metadata": {
        "id": "L5TkraEgGIpP",
        "colab": {
          "base_uri": "https://localhost:8080/",
          "height": 51
        },
        "outputId": "966c1e87-8468-4d54-b7e2-3d7a6fce32cd"
      },
      "execution_count": 88,
      "outputs": [
        {
          "output_type": "execute_result",
          "data": {
            "text/plain": [
              "LinearRegression()"
            ],
            "text/html": [
              "<style>#sk-container-id-1 {color: black;background-color: white;}#sk-container-id-1 pre{padding: 0;}#sk-container-id-1 div.sk-toggleable {background-color: white;}#sk-container-id-1 label.sk-toggleable__label {cursor: pointer;display: block;width: 100%;margin-bottom: 0;padding: 0.3em;box-sizing: border-box;text-align: center;}#sk-container-id-1 label.sk-toggleable__label-arrow:before {content: \"▸\";float: left;margin-right: 0.25em;color: #696969;}#sk-container-id-1 label.sk-toggleable__label-arrow:hover:before {color: black;}#sk-container-id-1 div.sk-estimator:hover label.sk-toggleable__label-arrow:before {color: black;}#sk-container-id-1 div.sk-toggleable__content {max-height: 0;max-width: 0;overflow: hidden;text-align: left;background-color: #f0f8ff;}#sk-container-id-1 div.sk-toggleable__content pre {margin: 0.2em;color: black;border-radius: 0.25em;background-color: #f0f8ff;}#sk-container-id-1 input.sk-toggleable__control:checked~div.sk-toggleable__content {max-height: 200px;max-width: 100%;overflow: auto;}#sk-container-id-1 input.sk-toggleable__control:checked~label.sk-toggleable__label-arrow:before {content: \"▾\";}#sk-container-id-1 div.sk-estimator input.sk-toggleable__control:checked~label.sk-toggleable__label {background-color: #d4ebff;}#sk-container-id-1 div.sk-label input.sk-toggleable__control:checked~label.sk-toggleable__label {background-color: #d4ebff;}#sk-container-id-1 input.sk-hidden--visually {border: 0;clip: rect(1px 1px 1px 1px);clip: rect(1px, 1px, 1px, 1px);height: 1px;margin: -1px;overflow: hidden;padding: 0;position: absolute;width: 1px;}#sk-container-id-1 div.sk-estimator {font-family: monospace;background-color: #f0f8ff;border: 1px dotted black;border-radius: 0.25em;box-sizing: border-box;margin-bottom: 0.5em;}#sk-container-id-1 div.sk-estimator:hover {background-color: #d4ebff;}#sk-container-id-1 div.sk-parallel-item::after {content: \"\";width: 100%;border-bottom: 1px solid gray;flex-grow: 1;}#sk-container-id-1 div.sk-label:hover label.sk-toggleable__label {background-color: #d4ebff;}#sk-container-id-1 div.sk-serial::before {content: \"\";position: absolute;border-left: 1px solid gray;box-sizing: border-box;top: 0;bottom: 0;left: 50%;z-index: 0;}#sk-container-id-1 div.sk-serial {display: flex;flex-direction: column;align-items: center;background-color: white;padding-right: 0.2em;padding-left: 0.2em;position: relative;}#sk-container-id-1 div.sk-item {position: relative;z-index: 1;}#sk-container-id-1 div.sk-parallel {display: flex;align-items: stretch;justify-content: center;background-color: white;position: relative;}#sk-container-id-1 div.sk-item::before, #sk-container-id-1 div.sk-parallel-item::before {content: \"\";position: absolute;border-left: 1px solid gray;box-sizing: border-box;top: 0;bottom: 0;left: 50%;z-index: -1;}#sk-container-id-1 div.sk-parallel-item {display: flex;flex-direction: column;z-index: 1;position: relative;background-color: white;}#sk-container-id-1 div.sk-parallel-item:first-child::after {align-self: flex-end;width: 50%;}#sk-container-id-1 div.sk-parallel-item:last-child::after {align-self: flex-start;width: 50%;}#sk-container-id-1 div.sk-parallel-item:only-child::after {width: 0;}#sk-container-id-1 div.sk-dashed-wrapped {border: 1px dashed gray;margin: 0 0.4em 0.5em 0.4em;box-sizing: border-box;padding-bottom: 0.4em;background-color: white;}#sk-container-id-1 div.sk-label label {font-family: monospace;font-weight: bold;display: inline-block;line-height: 1.2em;}#sk-container-id-1 div.sk-label-container {text-align: center;}#sk-container-id-1 div.sk-container {/* jupyter's `normalize.less` sets `[hidden] { display: none; }` but bootstrap.min.css set `[hidden] { display: none !important; }` so we also need the `!important` here to be able to override the default hidden behavior on the sphinx rendered scikit-learn.org. See: https://github.com/scikit-learn/scikit-learn/issues/21755 */display: inline-block !important;position: relative;}#sk-container-id-1 div.sk-text-repr-fallback {display: none;}</style><div id=\"sk-container-id-1\" class=\"sk-top-container\"><div class=\"sk-text-repr-fallback\"><pre>LinearRegression()</pre><b>In a Jupyter environment, please rerun this cell to show the HTML representation or trust the notebook. <br />On GitHub, the HTML representation is unable to render, please try loading this page with nbviewer.org.</b></div><div class=\"sk-container\" hidden><div class=\"sk-item\"><div class=\"sk-estimator sk-toggleable\"><input class=\"sk-toggleable__control sk-hidden--visually\" id=\"sk-estimator-id-1\" type=\"checkbox\" checked><label for=\"sk-estimator-id-1\" class=\"sk-toggleable__label sk-toggleable__label-arrow\">LinearRegression</label><div class=\"sk-toggleable__content\"><pre>LinearRegression()</pre></div></div></div></div></div>"
            ]
          },
          "metadata": {},
          "execution_count": 88
        }
      ]
    },
    {
      "cell_type": "code",
      "source": [
        "# precisión del modelo con los datos de entrenamiento\n",
        "model.score(X_train, y_train)"
      ],
      "metadata": {
        "id": "wCy-QPFVGNBh",
        "colab": {
          "base_uri": "https://localhost:8080/"
        },
        "outputId": "43195af6-4064-49cc-c96c-27b6b9277130"
      },
      "execution_count": 89,
      "outputs": [
        {
          "output_type": "execute_result",
          "data": {
            "text/plain": [
              "0.9681892224777451"
            ]
          },
          "metadata": {},
          "execution_count": 89
        }
      ]
    },
    {
      "cell_type": "code",
      "source": [
        "# precisión con los datos de validación\n",
        "X_val = dv.transform(X_val[all_feature_names].to_dict(orient = 'records'))\n",
        "model.score(X_val, y_val)"
      ],
      "metadata": {
        "id": "bnOuhYPNGSQQ",
        "colab": {
          "base_uri": "https://localhost:8080/"
        },
        "outputId": "f3015928-9b60-4c1e-d14c-9f69bf08a90f"
      },
      "execution_count": 90,
      "outputs": [
        {
          "output_type": "execute_result",
          "data": {
            "text/plain": [
              "0.7621954685195813"
            ]
          },
          "metadata": {},
          "execution_count": 90
        }
      ]
    },
    {
      "cell_type": "code",
      "source": [
        "# precisón con los datos de prueba\n",
        "X_test = dv.transform(X_test[all_feature_names].to_dict(orient = 'records'))\n",
        "y_pred = model.predict(X_test)\n",
        "model.score(X_test, y_test)"
      ],
      "metadata": {
        "id": "H_jyJN3tGV_h",
        "colab": {
          "base_uri": "https://localhost:8080/"
        },
        "outputId": "582592c4-2783-4bf2-879c-e224e7f591bb"
      },
      "execution_count": 91,
      "outputs": [
        {
          "output_type": "execute_result",
          "data": {
            "text/plain": [
              "0.9437661490041857"
            ]
          },
          "metadata": {},
          "execution_count": 91
        }
      ]
    },
    {
      "cell_type": "code",
      "source": [
        "# representando las predicciones para los datos de prueba de los\n",
        "# 15 primeros coches\n",
        "\n",
        "import matplotlib.pyplot as plt\n",
        "import numpy as np\n",
        "\n",
        "ind = np.arange(15)\n",
        "width = 0.35\n",
        "\n",
        "plt.figure(figsize = (9, 4))\n",
        "plt.bar(ind, y_test[:15], width, label = 'Precio de venta real')\n",
        "plt.bar(ind+width, y_pred[:15], width, label = 'Precio de venta predicho')\n",
        "\n",
        "plt.xticks(ind+width / 2, np.arange(1, 16))\n",
        "plt.legend(loc = 'best')\n",
        "\n",
        "plt.xlabel('Coches')\n",
        "plt.ylabel('Precio de venta')\n",
        "plt.title('Precio de venta - Real vs. Predicho')\n",
        "\n",
        "plt.show()"
      ],
      "metadata": {
        "colab": {
          "base_uri": "https://localhost:8080/",
          "height": 295
        },
        "id": "Lpl0vm-MGZ9F",
        "outputId": "672240bb-84a4-4622-d912-77102bdf3e11"
      },
      "execution_count": 92,
      "outputs": [
        {
          "output_type": "display_data",
          "data": {
            "text/plain": [
              "<Figure size 648x288 with 1 Axes>"
            ],
            "image/png": "[encoded data removed]"
          },
          "metadata": {
            "needs_background": "light"
          }
        }
      ]
    },
    {
      "cell_type": "markdown",
      "source": [
        "# Modelo basado en una red neuronal"
      ],
      "metadata": {
        "id": "w_ALdnsK3PJ1"
      }
    },
    {
      "cell_type": "code",
      "source": [
        "# implementa una red neuronal para realizar las mismas predicciones\n",
        "\n",
        "from tensorflow.keras.models import Sequential\n",
        "from tensorflow.keras.layers import Dense"
      ],
      "metadata": {
        "id": "fmSXlHTm2_dQ"
      },
      "execution_count": 98,
      "outputs": []
    },
    {
      "cell_type": "code",
      "source": [
        "len(X_train[0])"
      ],
      "metadata": {
        "colab": {
          "base_uri": "https://localhost:8080/"
        },
        "id": "2peNPoVOkbwF",
        "outputId": "1c70509a-a2e8-4221-ee3c-b2bfd2988910"
      },
      "execution_count": 96,
      "outputs": [
        {
          "output_type": "execute_result",
          "data": {
            "text/plain": [
              "58"
            ]
          },
          "metadata": {},
          "execution_count": 96
        }
      ]
    },
    {
      "cell_type": "code",
      "source": [
        "# define the keras model\n",
        "modelnn = Sequential()\n",
        "modelnn.add(Dense(6, input_shape=(len(X_train[0]),), activation='relu'))\n",
        "modelnn.add(Dense(8, input_shape=(12,8), activation='relu'))\n",
        "modelnn.add(Dense(1, input_shape=(6,), activation='linear'))\n",
        "\n",
        "modelnn.summary()"
      ],
      "metadata": {
        "colab": {
          "base_uri": "https://localhost:8080/"
        },
        "id": "Y7XWZmkSkfNF",
        "outputId": "149bb07e-86d4-4545-8beb-0ca04a29e8e9"
      },
      "execution_count": 144,
      "outputs": [
        {
          "output_type": "stream",
          "name": "stdout",
          "text": [
            "Model: \"sequential_5\"\n",
            "_________________________________________________________________\n",
            " Layer (type)                Output Shape              Param #   \n",
            "=================================================================\n",
            " dense_14 (Dense)            (None, 6)                 354       \n",
            "                                                                 \n",
            " dense_15 (Dense)            (None, 8)                 56        \n",
            "                                                                 \n",
            " dense_16 (Dense)            (None, 1)                 9         \n",
            "                                                                 \n",
            "=================================================================\n",
            "Total params: 419\n",
            "Trainable params: 419\n",
            "Non-trainable params: 0\n",
            "_________________________________________________________________\n"
          ]
        }
      ]
    },
    {
      "cell_type": "code",
      "source": [
        "modelnn.compile(loss='mean_squared_error', optimizer='adam')"
      ],
      "metadata": {
        "id": "wMbzR7YZm-k3"
      },
      "execution_count": 145,
      "outputs": []
    },
    {
      "cell_type": "code",
      "source": [
        "history =modelnn.fit(X_train, y_train, epochs=500, batch_size=384)"
      ],
      "metadata": {
        "colab": {
          "base_uri": "https://localhost:8080/"
        },
        "id": "XdTjXhHPnB2m",
        "outputId": "ec3a513f-50a5-4f03-f853-b4ee7b71b43d"
      },
      "execution_count": 146,
      "outputs": [
        {
          "output_type": "stream",
          "name": "stdout",
          "text": [
            "Epoch 1/500\n",
            "1/1 [==============================] - 1s 1s/step - loss: 219936576.0000\n",
            "Epoch 2/500\n",
            "1/1 [==============================] - 0s 16ms/step - loss: 219936208.0000\n",
            "Epoch 3/500\n",
            "1/1 [==============================] - 0s 16ms/step - loss: 219935872.0000\n",
            "Epoch 4/500\n",
            "1/1 [==============================] - 0s 16ms/step - loss: 219935504.0000\n",
            "Epoch 5/500\n",
            "1/1 [==============================] - 0s 15ms/step - loss: 219935184.0000\n",
            "Epoch 6/500\n",
            "1/1 [==============================] - 0s 16ms/step - loss: 219934848.0000\n",
            "Epoch 7/500\n",
            "1/1 [==============================] - 0s 11ms/step - loss: 219934528.0000\n",
            "Epoch 8/500\n",
            "1/1 [==============================] - 0s 10ms/step - loss: 219934192.0000\n",
            "Epoch 9/500\n",
            "1/1 [==============================] - 0s 19ms/step - loss: 219933856.0000\n",
            "Epoch 10/500\n",
            "1/1 [==============================] - 0s 10ms/step - loss: 219933568.0000\n",
            "Epoch 11/500\n",
            "1/1 [==============================] - 0s 9ms/step - loss: 219933264.0000\n",
            "Epoch 12/500\n",
            "1/1 [==============================] - 0s 14ms/step - loss: 219932976.0000\n",
            "Epoch 13/500\n",
            "1/1 [==============================] - 0s 13ms/step - loss: 219932672.0000\n",
            "Epoch 14/500\n",
            "1/1 [==============================] - 0s 10ms/step - loss: 219932400.0000\n",
            "Epoch 15/500\n",
            "1/1 [==============================] - 0s 10ms/step - loss: 219932112.0000\n",
            "Epoch 16/500\n",
            "1/1 [==============================] - 0s 11ms/step - loss: 219931872.0000\n",
            "Epoch 17/500\n",
            "1/1 [==============================] - 0s 10ms/step - loss: 219931584.0000\n",
            "Epoch 18/500\n",
            "1/1 [==============================] - 0s 10ms/step - loss: 219931312.0000\n",
            "Epoch 19/500\n",
            "1/1 [==============================] - 0s 10ms/step - loss: 219931040.0000\n",
            "Epoch 20/500\n",
            "1/1 [==============================] - 0s 10ms/step - loss: 219930816.0000\n",
            "Epoch 21/500\n",
            "1/1 [==============================] - 0s 14ms/step - loss: 219930560.0000\n",
            "Epoch 22/500\n",
            "1/1 [==============================] - 0s 13ms/step - loss: 219930320.0000\n",
            "Epoch 23/500\n",
            "1/1 [==============================] - 0s 12ms/step - loss: 219930096.0000\n",
            "Epoch 24/500\n",
            "1/1 [==============================] - 0s 11ms/step - loss: 219929840.0000\n",
            "Epoch 25/500\n",
            "1/1 [==============================] - 0s 10ms/step - loss: 219929584.0000\n",
            "Epoch 26/500\n",
            "1/1 [==============================] - 0s 9ms/step - loss: 219929376.0000\n",
            "Epoch 27/500\n",
            "1/1 [==============================] - 0s 9ms/step - loss: 219929136.0000\n",
            "Epoch 28/500\n",
            "1/1 [==============================] - 0s 10ms/step - loss: 219928880.0000\n",
            "Epoch 29/500\n",
            "1/1 [==============================] - 0s 10ms/step - loss: 219928640.0000\n",
            "Epoch 30/500\n",
            "1/1 [==============================] - 0s 10ms/step - loss: 219928384.0000\n",
            "Epoch 31/500\n",
            "1/1 [==============================] - 0s 12ms/step - loss: 219928128.0000\n",
            "Epoch 32/500\n",
            "1/1 [==============================] - 0s 10ms/step - loss: 219927888.0000\n",
            "Epoch 33/500\n",
            "1/1 [==============================] - 0s 10ms/step - loss: 219927664.0000\n",
            "Epoch 34/500\n",
            "1/1 [==============================] - 0s 11ms/step - loss: 219927424.0000\n",
            "Epoch 35/500\n",
            "1/1 [==============================] - 0s 11ms/step - loss: 219927184.0000\n",
            "Epoch 36/500\n",
            "1/1 [==============================] - 0s 10ms/step - loss: 219926912.0000\n",
            "Epoch 37/500\n",
            "1/1 [==============================] - 0s 10ms/step - loss: 219926688.0000\n",
            "Epoch 38/500\n",
            "1/1 [==============================] - 0s 10ms/step - loss: 219926432.0000\n",
            "Epoch 39/500\n",
            "1/1 [==============================] - 0s 10ms/step - loss: 219926208.0000\n",
            "Epoch 40/500\n",
            "1/1 [==============================] - 0s 10ms/step - loss: 219925968.0000\n",
            "Epoch 41/500\n",
            "1/1 [==============================] - 0s 10ms/step - loss: 219925728.0000\n",
            "Epoch 42/500\n",
            "1/1 [==============================] - 0s 9ms/step - loss: 219925456.0000\n",
            "Epoch 43/500\n",
            "1/1 [==============================] - 0s 9ms/step - loss: 219925184.0000\n",
            "Epoch 44/500\n",
            "1/1 [==============================] - 0s 11ms/step - loss: 219924960.0000\n",
            "Epoch 45/500\n",
            "1/1 [==============================] - 0s 10ms/step - loss: 219924704.0000\n",
            "Epoch 46/500\n",
            "1/1 [==============================] - 0s 9ms/step - loss: 219924448.0000\n",
            "Epoch 47/500\n",
            "1/1 [==============================] - 0s 12ms/step - loss: 219924160.0000\n",
            "Epoch 48/500\n",
            "1/1 [==============================] - 0s 14ms/step - loss: 219923888.0000\n",
            "Epoch 49/500\n",
            "1/1 [==============================] - 0s 11ms/step - loss: 219923600.0000\n",
            "Epoch 50/500\n",
            "1/1 [==============================] - 0s 10ms/step - loss: 219923312.0000\n",
            "Epoch 51/500\n",
            "1/1 [==============================] - 0s 8ms/step - loss: 219923024.0000\n",
            "Epoch 52/500\n",
            "1/1 [==============================] - 0s 9ms/step - loss: 219922720.0000\n",
            "Epoch 53/500\n",
            "1/1 [==============================] - 0s 10ms/step - loss: 219922400.0000\n",
            "Epoch 54/500\n",
            "1/1 [==============================] - 0s 12ms/step - loss: 219922080.0000\n",
            "Epoch 55/500\n",
            "1/1 [==============================] - 0s 11ms/step - loss: 219921760.0000\n",
            "Epoch 56/500\n",
            "1/1 [==============================] - 0s 10ms/step - loss: 219921424.0000\n",
            "Epoch 57/500\n",
            "1/1 [==============================] - 0s 11ms/step - loss: 219921072.0000\n",
            "Epoch 58/500\n",
            "1/1 [==============================] - 0s 9ms/step - loss: 219920704.0000\n",
            "Epoch 59/500\n",
            "1/1 [==============================] - 0s 9ms/step - loss: 219920368.0000\n",
            "Epoch 60/500\n",
            "1/1 [==============================] - 0s 10ms/step - loss: 219919984.0000\n",
            "Epoch 61/500\n",
            "1/1 [==============================] - 0s 10ms/step - loss: 219919568.0000\n",
            "Epoch 62/500\n",
            "1/1 [==============================] - 0s 8ms/step - loss: 219919184.0000\n",
            "Epoch 63/500\n",
            "1/1 [==============================] - 0s 13ms/step - loss: 219918800.0000\n",
            "Epoch 64/500\n",
            "1/1 [==============================] - 0s 12ms/step - loss: 219918368.0000\n",
            "Epoch 65/500\n",
            "1/1 [==============================] - 0s 14ms/step - loss: 219917936.0000\n",
            "Epoch 66/500\n",
            "1/1 [==============================] - 0s 14ms/step - loss: 219917488.0000\n",
            "Epoch 67/500\n",
            "1/1 [==============================] - 0s 13ms/step - loss: 219917040.0000\n",
            "Epoch 68/500\n",
            "1/1 [==============================] - 0s 11ms/step - loss: 219916560.0000\n",
            "Epoch 69/500\n",
            "1/1 [==============================] - 0s 9ms/step - loss: 219916096.0000\n",
            "Epoch 70/500\n",
            "1/1 [==============================] - 0s 10ms/step - loss: 219915616.0000\n",
            "Epoch 71/500\n",
            "1/1 [==============================] - 0s 9ms/step - loss: 219915136.0000\n",
            "Epoch 72/500\n",
            "1/1 [==============================] - 0s 8ms/step - loss: 219914624.0000\n",
            "Epoch 73/500\n",
            "1/1 [==============================] - 0s 10ms/step - loss: 219914112.0000\n",
            "Epoch 74/500\n",
            "1/1 [==============================] - 0s 10ms/step - loss: 219913568.0000\n",
            "Epoch 75/500\n",
            "1/1 [==============================] - 0s 12ms/step - loss: 219913040.0000\n",
            "Epoch 76/500\n",
            "1/1 [==============================] - 0s 8ms/step - loss: 219912496.0000\n",
            "Epoch 77/500\n",
            "1/1 [==============================] - 0s 9ms/step - loss: 219911920.0000\n",
            "Epoch 78/500\n",
            "1/1 [==============================] - 0s 11ms/step - loss: 219911328.0000\n",
            "Epoch 79/500\n",
            "1/1 [==============================] - 0s 10ms/step - loss: 219910752.0000\n",
            "Epoch 80/500\n",
            "1/1 [==============================] - 0s 9ms/step - loss: 219910144.0000\n",
            "Epoch 81/500\n",
            "1/1 [==============================] - 0s 10ms/step - loss: 219909520.0000\n",
            "Epoch 82/500\n",
            "1/1 [==============================] - 0s 12ms/step - loss: 219908880.0000\n",
            "Epoch 83/500\n",
            "1/1 [==============================] - 0s 10ms/step - loss: 219908208.0000\n",
            "Epoch 84/500\n",
            "1/1 [==============================] - 0s 9ms/step - loss: 219907568.0000\n",
            "Epoch 85/500\n",
            "1/1 [==============================] - 0s 10ms/step - loss: 219906864.0000\n",
            "Epoch 86/500\n",
            "1/1 [==============================] - 0s 10ms/step - loss: 219906176.0000\n",
            "Epoch 87/500\n",
            "1/1 [==============================] - 0s 10ms/step - loss: 219905488.0000\n",
            "Epoch 88/500\n",
            "1/1 [==============================] - 0s 11ms/step - loss: 219904768.0000\n",
            "Epoch 89/500\n",
            "1/1 [==============================] - 0s 12ms/step - loss: 219904032.0000\n",
            "Epoch 90/500\n",
            "1/1 [==============================] - 0s 11ms/step - loss: 219903296.0000\n",
            "Epoch 91/500\n",
            "1/1 [==============================] - 0s 12ms/step - loss: 219902528.0000\n",
            "Epoch 92/500\n",
            "1/1 [==============================] - 0s 11ms/step - loss: 219901728.0000\n",
            "Epoch 93/500\n",
            "1/1 [==============================] - 0s 10ms/step - loss: 219900944.0000\n",
            "Epoch 94/500\n",
            "1/1 [==============================] - 0s 10ms/step - loss: 219900160.0000\n",
            "Epoch 95/500\n",
            "1/1 [==============================] - 0s 9ms/step - loss: 219899312.0000\n",
            "Epoch 96/500\n",
            "1/1 [==============================] - 0s 9ms/step - loss: 219898448.0000\n",
            "Epoch 97/500\n",
            "1/1 [==============================] - 0s 8ms/step - loss: 219897584.0000\n",
            "Epoch 98/500\n",
            "1/1 [==============================] - 0s 9ms/step - loss: 219896704.0000\n",
            "Epoch 99/500\n",
            "1/1 [==============================] - 0s 12ms/step - loss: 219895808.0000\n",
            "Epoch 100/500\n",
            "1/1 [==============================] - 0s 12ms/step - loss: 219894864.0000\n",
            "Epoch 101/500\n",
            "1/1 [==============================] - 0s 8ms/step - loss: 219893952.0000\n",
            "Epoch 102/500\n",
            "1/1 [==============================] - 0s 12ms/step - loss: 219892992.0000\n",
            "Epoch 103/500\n",
            "1/1 [==============================] - 0s 12ms/step - loss: 219892000.0000\n",
            "Epoch 104/500\n",
            "1/1 [==============================] - 0s 11ms/step - loss: 219891008.0000\n",
            "Epoch 105/500\n",
            "1/1 [==============================] - 0s 13ms/step - loss: 219889984.0000\n",
            "Epoch 106/500\n",
            "1/1 [==============================] - 0s 11ms/step - loss: 219888912.0000\n",
            "Epoch 107/500\n",
            "1/1 [==============================] - 0s 9ms/step - loss: 219887872.0000\n",
            "Epoch 108/500\n",
            "1/1 [==============================] - 0s 14ms/step - loss: 219886800.0000\n",
            "Epoch 109/500\n",
            "1/1 [==============================] - 0s 14ms/step - loss: 219885680.0000\n",
            "Epoch 110/500\n",
            "1/1 [==============================] - 0s 20ms/step - loss: 219884528.0000\n",
            "Epoch 111/500\n",
            "1/1 [==============================] - 0s 10ms/step - loss: 219883408.0000\n",
            "Epoch 112/500\n",
            "1/1 [==============================] - 0s 9ms/step - loss: 219882176.0000\n",
            "Epoch 113/500\n",
            "1/1 [==============================] - 0s 10ms/step - loss: 219880960.0000\n",
            "Epoch 114/500\n",
            "1/1 [==============================] - 0s 10ms/step - loss: 219879728.0000\n",
            "Epoch 115/500\n",
            "1/1 [==============================] - 0s 10ms/step - loss: 219878448.0000\n",
            "Epoch 116/500\n",
            "1/1 [==============================] - 0s 10ms/step - loss: 219877152.0000\n",
            "Epoch 117/500\n",
            "1/1 [==============================] - 0s 10ms/step - loss: 219875792.0000\n",
            "Epoch 118/500\n",
            "1/1 [==============================] - 0s 11ms/step - loss: 219874432.0000\n",
            "Epoch 119/500\n",
            "1/1 [==============================] - 0s 9ms/step - loss: 219873008.0000\n",
            "Epoch 120/500\n",
            "1/1 [==============================] - 0s 10ms/step - loss: 219871536.0000\n",
            "Epoch 121/500\n",
            "1/1 [==============================] - 0s 9ms/step - loss: 219870064.0000\n",
            "Epoch 122/500\n",
            "1/1 [==============================] - 0s 11ms/step - loss: 219868560.0000\n",
            "Epoch 123/500\n",
            "1/1 [==============================] - 0s 10ms/step - loss: 219867008.0000\n",
            "Epoch 124/500\n",
            "1/1 [==============================] - 0s 10ms/step - loss: 219865392.0000\n",
            "Epoch 125/500\n",
            "1/1 [==============================] - 0s 10ms/step - loss: 219863728.0000\n",
            "Epoch 126/500\n",
            "1/1 [==============================] - 0s 10ms/step - loss: 219862048.0000\n",
            "Epoch 127/500\n",
            "1/1 [==============================] - 0s 9ms/step - loss: 219860288.0000\n",
            "Epoch 128/500\n",
            "1/1 [==============================] - 0s 9ms/step - loss: 219858496.0000\n",
            "Epoch 129/500\n",
            "1/1 [==============================] - 0s 10ms/step - loss: 219856688.0000\n",
            "Epoch 130/500\n",
            "1/1 [==============================] - 0s 10ms/step - loss: 219854832.0000\n",
            "Epoch 131/500\n",
            "1/1 [==============================] - 0s 10ms/step - loss: 219852960.0000\n",
            "Epoch 132/500\n",
            "1/1 [==============================] - 0s 10ms/step - loss: 219850944.0000\n",
            "Epoch 133/500\n",
            "1/1 [==============================] - 0s 10ms/step - loss: 219848928.0000\n",
            "Epoch 134/500\n",
            "1/1 [==============================] - 0s 12ms/step - loss: 219846848.0000\n",
            "Epoch 135/500\n",
            "1/1 [==============================] - 0s 11ms/step - loss: 219844768.0000\n",
            "Epoch 136/500\n",
            "1/1 [==============================] - 0s 11ms/step - loss: 219842576.0000\n",
            "Epoch 137/500\n",
            "1/1 [==============================] - 0s 11ms/step - loss: 219840400.0000\n",
            "Epoch 138/500\n",
            "1/1 [==============================] - 0s 12ms/step - loss: 219838160.0000\n",
            "Epoch 139/500\n",
            "1/1 [==============================] - 0s 11ms/step - loss: 219835888.0000\n",
            "Epoch 140/500\n",
            "1/1 [==============================] - 0s 9ms/step - loss: 219833568.0000\n",
            "Epoch 141/500\n",
            "1/1 [==============================] - 0s 10ms/step - loss: 219831184.0000\n",
            "Epoch 142/500\n",
            "1/1 [==============================] - 0s 9ms/step - loss: 219828784.0000\n",
            "Epoch 143/500\n",
            "1/1 [==============================] - 0s 8ms/step - loss: 219826288.0000\n",
            "Epoch 144/500\n",
            "1/1 [==============================] - 0s 9ms/step - loss: 219823808.0000\n",
            "Epoch 145/500\n",
            "1/1 [==============================] - 0s 9ms/step - loss: 219821280.0000\n",
            "Epoch 146/500\n",
            "1/1 [==============================] - 0s 9ms/step - loss: 219818688.0000\n",
            "Epoch 147/500\n",
            "1/1 [==============================] - 0s 9ms/step - loss: 219816064.0000\n",
            "Epoch 148/500\n",
            "1/1 [==============================] - 0s 8ms/step - loss: 219813408.0000\n",
            "Epoch 149/500\n",
            "1/1 [==============================] - 0s 8ms/step - loss: 219810688.0000\n",
            "Epoch 150/500\n",
            "1/1 [==============================] - 0s 10ms/step - loss: 219807968.0000\n",
            "Epoch 151/500\n",
            "1/1 [==============================] - 0s 9ms/step - loss: 219805184.0000\n",
            "Epoch 152/500\n",
            "1/1 [==============================] - 0s 12ms/step - loss: 219802368.0000\n",
            "Epoch 153/500\n",
            "1/1 [==============================] - 0s 10ms/step - loss: 219799520.0000\n",
            "Epoch 154/500\n",
            "1/1 [==============================] - 0s 9ms/step - loss: 219796608.0000\n",
            "Epoch 155/500\n",
            "1/1 [==============================] - 0s 9ms/step - loss: 219793664.0000\n",
            "Epoch 156/500\n",
            "1/1 [==============================] - 0s 11ms/step - loss: 219790736.0000\n",
            "Epoch 157/500\n",
            "1/1 [==============================] - 0s 11ms/step - loss: 219787680.0000\n",
            "Epoch 158/500\n",
            "1/1 [==============================] - 0s 8ms/step - loss: 219784656.0000\n",
            "Epoch 159/500\n",
            "1/1 [==============================] - 0s 11ms/step - loss: 219781584.0000\n",
            "Epoch 160/500\n",
            "1/1 [==============================] - 0s 8ms/step - loss: 219778464.0000\n",
            "Epoch 161/500\n",
            "1/1 [==============================] - 0s 11ms/step - loss: 219775280.0000\n",
            "Epoch 162/500\n",
            "1/1 [==============================] - 0s 8ms/step - loss: 219772048.0000\n",
            "Epoch 163/500\n",
            "1/1 [==============================] - 0s 7ms/step - loss: 219768768.0000\n",
            "Epoch 164/500\n",
            "1/1 [==============================] - 0s 13ms/step - loss: 219765488.0000\n",
            "Epoch 165/500\n",
            "1/1 [==============================] - 0s 7ms/step - loss: 219762128.0000\n",
            "Epoch 166/500\n",
            "1/1 [==============================] - 0s 7ms/step - loss: 219758752.0000\n",
            "Epoch 167/500\n",
            "1/1 [==============================] - 0s 7ms/step - loss: 219755312.0000\n",
            "Epoch 168/500\n",
            "1/1 [==============================] - 0s 13ms/step - loss: 219751824.0000\n",
            "Epoch 169/500\n",
            "1/1 [==============================] - 0s 8ms/step - loss: 219748272.0000\n",
            "Epoch 170/500\n",
            "1/1 [==============================] - 0s 7ms/step - loss: 219744736.0000\n",
            "Epoch 171/500\n",
            "1/1 [==============================] - 0s 8ms/step - loss: 219741120.0000\n",
            "Epoch 172/500\n",
            "1/1 [==============================] - 0s 10ms/step - loss: 219737456.0000\n",
            "Epoch 173/500\n",
            "1/1 [==============================] - 0s 7ms/step - loss: 219733744.0000\n",
            "Epoch 174/500\n",
            "1/1 [==============================] - 0s 9ms/step - loss: 219730000.0000\n",
            "Epoch 175/500\n",
            "1/1 [==============================] - 0s 7ms/step - loss: 219726208.0000\n",
            "Epoch 176/500\n",
            "1/1 [==============================] - 0s 12ms/step - loss: 219722352.0000\n",
            "Epoch 177/500\n",
            "1/1 [==============================] - 0s 7ms/step - loss: 219718480.0000\n",
            "Epoch 178/500\n",
            "1/1 [==============================] - 0s 7ms/step - loss: 219714576.0000\n",
            "Epoch 179/500\n",
            "1/1 [==============================] - 0s 8ms/step - loss: 219710576.0000\n",
            "Epoch 180/500\n",
            "1/1 [==============================] - 0s 12ms/step - loss: 219706576.0000\n",
            "Epoch 181/500\n",
            "1/1 [==============================] - 0s 9ms/step - loss: 219702480.0000\n",
            "Epoch 182/500\n",
            "1/1 [==============================] - 0s 10ms/step - loss: 219698384.0000\n",
            "Epoch 183/500\n",
            "1/1 [==============================] - 0s 12ms/step - loss: 219694208.0000\n",
            "Epoch 184/500\n",
            "1/1 [==============================] - 0s 7ms/step - loss: 219690000.0000\n",
            "Epoch 185/500\n",
            "1/1 [==============================] - 0s 13ms/step - loss: 219685728.0000\n",
            "Epoch 186/500\n",
            "1/1 [==============================] - 0s 9ms/step - loss: 219681392.0000\n",
            "Epoch 187/500\n",
            "1/1 [==============================] - 0s 10ms/step - loss: 219677040.0000\n",
            "Epoch 188/500\n",
            "1/1 [==============================] - 0s 36ms/step - loss: 219672608.0000\n",
            "Epoch 189/500\n",
            "1/1 [==============================] - 0s 9ms/step - loss: 219668160.0000\n",
            "Epoch 190/500\n",
            "1/1 [==============================] - 0s 10ms/step - loss: 219663632.0000\n",
            "Epoch 191/500\n",
            "1/1 [==============================] - 0s 10ms/step - loss: 219659056.0000\n",
            "Epoch 192/500\n",
            "1/1 [==============================] - 0s 11ms/step - loss: 219654464.0000\n",
            "Epoch 193/500\n",
            "1/1 [==============================] - 0s 9ms/step - loss: 219649776.0000\n",
            "Epoch 194/500\n",
            "1/1 [==============================] - 0s 11ms/step - loss: 219645056.0000\n",
            "Epoch 195/500\n",
            "1/1 [==============================] - 0s 8ms/step - loss: 219640288.0000\n",
            "Epoch 196/500\n",
            "1/1 [==============================] - 0s 9ms/step - loss: 219635440.0000\n",
            "Epoch 197/500\n",
            "1/1 [==============================] - 0s 11ms/step - loss: 219630608.0000\n",
            "Epoch 198/500\n",
            "1/1 [==============================] - 0s 9ms/step - loss: 219625648.0000\n",
            "Epoch 199/500\n",
            "1/1 [==============================] - 0s 8ms/step - loss: 219620656.0000\n",
            "Epoch 200/500\n",
            "1/1 [==============================] - 0s 11ms/step - loss: 219615632.0000\n",
            "Epoch 201/500\n",
            "1/1 [==============================] - 0s 9ms/step - loss: 219610528.0000\n",
            "Epoch 202/500\n",
            "1/1 [==============================] - 0s 8ms/step - loss: 219605392.0000\n",
            "Epoch 203/500\n",
            "1/1 [==============================] - 0s 12ms/step - loss: 219600192.0000\n",
            "Epoch 204/500\n",
            "1/1 [==============================] - 0s 7ms/step - loss: 219594944.0000\n",
            "Epoch 205/500\n",
            "1/1 [==============================] - 0s 9ms/step - loss: 219589648.0000\n",
            "Epoch 206/500\n",
            "1/1 [==============================] - 0s 10ms/step - loss: 219584288.0000\n",
            "Epoch 207/500\n",
            "1/1 [==============================] - 0s 12ms/step - loss: 219578864.0000\n",
            "Epoch 208/500\n",
            "1/1 [==============================] - 0s 10ms/step - loss: 219573392.0000\n",
            "Epoch 209/500\n",
            "1/1 [==============================] - 0s 8ms/step - loss: 219567856.0000\n",
            "Epoch 210/500\n",
            "1/1 [==============================] - 0s 15ms/step - loss: 219562288.0000\n",
            "Epoch 211/500\n",
            "1/1 [==============================] - 0s 12ms/step - loss: 219556688.0000\n",
            "Epoch 212/500\n",
            "1/1 [==============================] - 0s 10ms/step - loss: 219550976.0000\n",
            "Epoch 213/500\n",
            "1/1 [==============================] - 0s 11ms/step - loss: 219545248.0000\n",
            "Epoch 214/500\n",
            "1/1 [==============================] - 0s 10ms/step - loss: 219539456.0000\n",
            "Epoch 215/500\n",
            "1/1 [==============================] - 0s 12ms/step - loss: 219533616.0000\n",
            "Epoch 216/500\n",
            "1/1 [==============================] - 0s 10ms/step - loss: 219527696.0000\n",
            "Epoch 217/500\n",
            "1/1 [==============================] - 0s 10ms/step - loss: 219521744.0000\n",
            "Epoch 218/500\n",
            "1/1 [==============================] - 0s 8ms/step - loss: 219515760.0000\n",
            "Epoch 219/500\n",
            "1/1 [==============================] - 0s 11ms/step - loss: 219509648.0000\n",
            "Epoch 220/500\n",
            "1/1 [==============================] - 0s 11ms/step - loss: 219503552.0000\n",
            "Epoch 221/500\n",
            "1/1 [==============================] - 0s 10ms/step - loss: 219497360.0000\n",
            "Epoch 222/500\n",
            "1/1 [==============================] - 0s 8ms/step - loss: 219491088.0000\n",
            "Epoch 223/500\n",
            "1/1 [==============================] - 0s 8ms/step - loss: 219484784.0000\n",
            "Epoch 224/500\n",
            "1/1 [==============================] - 0s 8ms/step - loss: 219478416.0000\n",
            "Epoch 225/500\n",
            "1/1 [==============================] - 0s 9ms/step - loss: 219472000.0000\n",
            "Epoch 226/500\n",
            "1/1 [==============================] - 0s 9ms/step - loss: 219465536.0000\n",
            "Epoch 227/500\n",
            "1/1 [==============================] - 0s 9ms/step - loss: 219458992.0000\n",
            "Epoch 228/500\n",
            "1/1 [==============================] - 0s 11ms/step - loss: 219452384.0000\n",
            "Epoch 229/500\n",
            "1/1 [==============================] - 0s 11ms/step - loss: 219445728.0000\n",
            "Epoch 230/500\n",
            "1/1 [==============================] - 0s 13ms/step - loss: 219438992.0000\n",
            "Epoch 231/500\n",
            "1/1 [==============================] - 0s 10ms/step - loss: 219432240.0000\n",
            "Epoch 232/500\n",
            "1/1 [==============================] - 0s 9ms/step - loss: 219425392.0000\n",
            "Epoch 233/500\n",
            "1/1 [==============================] - 0s 9ms/step - loss: 219418464.0000\n",
            "Epoch 234/500\n",
            "1/1 [==============================] - 0s 9ms/step - loss: 219411536.0000\n",
            "Epoch 235/500\n",
            "1/1 [==============================] - 0s 10ms/step - loss: 219404512.0000\n",
            "Epoch 236/500\n",
            "1/1 [==============================] - 0s 11ms/step - loss: 219397424.0000\n",
            "Epoch 237/500\n",
            "1/1 [==============================] - 0s 8ms/step - loss: 219390272.0000\n",
            "Epoch 238/500\n",
            "1/1 [==============================] - 0s 9ms/step - loss: 219383104.0000\n",
            "Epoch 239/500\n",
            "1/1 [==============================] - 0s 11ms/step - loss: 219375824.0000\n",
            "Epoch 240/500\n",
            "1/1 [==============================] - 0s 9ms/step - loss: 219368496.0000\n",
            "Epoch 241/500\n",
            "1/1 [==============================] - 0s 9ms/step - loss: 219361152.0000\n",
            "Epoch 242/500\n",
            "1/1 [==============================] - 0s 9ms/step - loss: 219353696.0000\n",
            "Epoch 243/500\n",
            "1/1 [==============================] - 0s 9ms/step - loss: 219346192.0000\n",
            "Epoch 244/500\n",
            "1/1 [==============================] - 0s 9ms/step - loss: 219338640.0000\n",
            "Epoch 245/500\n",
            "1/1 [==============================] - 0s 9ms/step - loss: 219331024.0000\n",
            "Epoch 246/500\n",
            "1/1 [==============================] - 0s 9ms/step - loss: 219323312.0000\n",
            "Epoch 247/500\n",
            "1/1 [==============================] - 0s 11ms/step - loss: 219315568.0000\n",
            "Epoch 248/500\n",
            "1/1 [==============================] - 0s 8ms/step - loss: 219307760.0000\n",
            "Epoch 249/500\n",
            "1/1 [==============================] - 0s 10ms/step - loss: 219299872.0000\n",
            "Epoch 250/500\n",
            "1/1 [==============================] - 0s 12ms/step - loss: 219291952.0000\n",
            "Epoch 251/500\n",
            "1/1 [==============================] - 0s 9ms/step - loss: 219283968.0000\n",
            "Epoch 252/500\n",
            "1/1 [==============================] - 0s 8ms/step - loss: 219275888.0000\n",
            "Epoch 253/500\n",
            "1/1 [==============================] - 0s 8ms/step - loss: 219267760.0000\n",
            "Epoch 254/500\n",
            "1/1 [==============================] - 0s 8ms/step - loss: 219259568.0000\n",
            "Epoch 255/500\n",
            "1/1 [==============================] - 0s 8ms/step - loss: 219251312.0000\n",
            "Epoch 256/500\n",
            "1/1 [==============================] - 0s 7ms/step - loss: 219243008.0000\n",
            "Epoch 257/500\n",
            "1/1 [==============================] - 0s 7ms/step - loss: 219234608.0000\n",
            "Epoch 258/500\n",
            "1/1 [==============================] - 0s 10ms/step - loss: 219226192.0000\n",
            "Epoch 259/500\n",
            "1/1 [==============================] - 0s 8ms/step - loss: 219217664.0000\n",
            "Epoch 260/500\n",
            "1/1 [==============================] - 0s 7ms/step - loss: 219209072.0000\n",
            "Epoch 261/500\n",
            "1/1 [==============================] - 0s 8ms/step - loss: 219200432.0000\n",
            "Epoch 262/500\n",
            "1/1 [==============================] - 0s 10ms/step - loss: 219191712.0000\n",
            "Epoch 263/500\n",
            "1/1 [==============================] - 0s 13ms/step - loss: 219182912.0000\n",
            "Epoch 264/500\n",
            "1/1 [==============================] - 0s 9ms/step - loss: 219174064.0000\n",
            "Epoch 265/500\n",
            "1/1 [==============================] - 0s 14ms/step - loss: 219165168.0000\n",
            "Epoch 266/500\n",
            "1/1 [==============================] - 0s 14ms/step - loss: 219156176.0000\n",
            "Epoch 267/500\n",
            "1/1 [==============================] - 0s 16ms/step - loss: 219147120.0000\n",
            "Epoch 268/500\n",
            "1/1 [==============================] - 0s 13ms/step - loss: 219137984.0000\n",
            "Epoch 269/500\n",
            "1/1 [==============================] - 0s 9ms/step - loss: 219128784.0000\n",
            "Epoch 270/500\n",
            "1/1 [==============================] - 0s 10ms/step - loss: 219119584.0000\n",
            "Epoch 271/500\n",
            "1/1 [==============================] - 0s 11ms/step - loss: 219110240.0000\n",
            "Epoch 272/500\n",
            "1/1 [==============================] - 0s 10ms/step - loss: 219100816.0000\n",
            "Epoch 273/500\n",
            "1/1 [==============================] - 0s 8ms/step - loss: 219091392.0000\n",
            "Epoch 274/500\n",
            "1/1 [==============================] - 0s 8ms/step - loss: 219081840.0000\n",
            "Epoch 275/500\n",
            "1/1 [==============================] - 0s 10ms/step - loss: 219072240.0000\n",
            "Epoch 276/500\n",
            "1/1 [==============================] - 0s 9ms/step - loss: 219062576.0000\n",
            "Epoch 277/500\n",
            "1/1 [==============================] - 0s 11ms/step - loss: 219052832.0000\n",
            "Epoch 278/500\n",
            "1/1 [==============================] - 0s 9ms/step - loss: 219043040.0000\n",
            "Epoch 279/500\n",
            "1/1 [==============================] - 0s 9ms/step - loss: 219033152.0000\n",
            "Epoch 280/500\n",
            "1/1 [==============================] - 0s 10ms/step - loss: 219023232.0000\n",
            "Epoch 281/500\n",
            "1/1 [==============================] - 0s 11ms/step - loss: 219013216.0000\n",
            "Epoch 282/500\n",
            "1/1 [==============================] - 0s 9ms/step - loss: 219003104.0000\n",
            "Epoch 283/500\n",
            "1/1 [==============================] - 0s 10ms/step - loss: 218992960.0000\n",
            "Epoch 284/500\n",
            "1/1 [==============================] - 0s 11ms/step - loss: 218982720.0000\n",
            "Epoch 285/500\n",
            "1/1 [==============================] - 0s 10ms/step - loss: 218972432.0000\n",
            "Epoch 286/500\n",
            "1/1 [==============================] - 0s 8ms/step - loss: 218962080.0000\n",
            "Epoch 287/500\n",
            "1/1 [==============================] - 0s 8ms/step - loss: 218951616.0000\n",
            "Epoch 288/500\n",
            "1/1 [==============================] - 0s 10ms/step - loss: 218941120.0000\n",
            "Epoch 289/500\n",
            "1/1 [==============================] - 0s 15ms/step - loss: 218930528.0000\n",
            "Epoch 290/500\n",
            "1/1 [==============================] - 0s 11ms/step - loss: 218919904.0000\n",
            "Epoch 291/500\n",
            "1/1 [==============================] - 0s 9ms/step - loss: 218909168.0000\n",
            "Epoch 292/500\n",
            "1/1 [==============================] - 0s 10ms/step - loss: 218898352.0000\n",
            "Epoch 293/500\n",
            "1/1 [==============================] - 0s 9ms/step - loss: 218887488.0000\n",
            "Epoch 294/500\n",
            "1/1 [==============================] - 0s 9ms/step - loss: 218876528.0000\n",
            "Epoch 295/500\n",
            "1/1 [==============================] - 0s 10ms/step - loss: 218865536.0000\n",
            "Epoch 296/500\n",
            "1/1 [==============================] - 0s 10ms/step - loss: 218854432.0000\n",
            "Epoch 297/500\n",
            "1/1 [==============================] - 0s 10ms/step - loss: 218843296.0000\n",
            "Epoch 298/500\n",
            "1/1 [==============================] - 0s 9ms/step - loss: 218832016.0000\n",
            "Epoch 299/500\n",
            "1/1 [==============================] - 0s 10ms/step - loss: 218820704.0000\n",
            "Epoch 300/500\n",
            "1/1 [==============================] - 0s 13ms/step - loss: 218809328.0000\n",
            "Epoch 301/500\n",
            "1/1 [==============================] - 0s 10ms/step - loss: 218797872.0000\n",
            "Epoch 302/500\n",
            "1/1 [==============================] - 0s 11ms/step - loss: 218786320.0000\n",
            "Epoch 303/500\n",
            "1/1 [==============================] - 0s 15ms/step - loss: 218774736.0000\n",
            "Epoch 304/500\n",
            "1/1 [==============================] - 0s 15ms/step - loss: 218763040.0000\n",
            "Epoch 305/500\n",
            "1/1 [==============================] - 0s 11ms/step - loss: 218751280.0000\n",
            "Epoch 306/500\n",
            "1/1 [==============================] - 0s 10ms/step - loss: 218739408.0000\n",
            "Epoch 307/500\n",
            "1/1 [==============================] - 0s 11ms/step - loss: 218727504.0000\n",
            "Epoch 308/500\n",
            "1/1 [==============================] - 0s 9ms/step - loss: 218715488.0000\n",
            "Epoch 309/500\n",
            "1/1 [==============================] - 0s 8ms/step - loss: 218703408.0000\n",
            "Epoch 310/500\n",
            "1/1 [==============================] - 0s 10ms/step - loss: 218691264.0000\n",
            "Epoch 311/500\n",
            "1/1 [==============================] - 0s 18ms/step - loss: 218679040.0000\n",
            "Epoch 312/500\n",
            "1/1 [==============================] - 0s 9ms/step - loss: 218666736.0000\n",
            "Epoch 313/500\n",
            "1/1 [==============================] - 0s 10ms/step - loss: 218654352.0000\n",
            "Epoch 314/500\n",
            "1/1 [==============================] - 0s 9ms/step - loss: 218641904.0000\n",
            "Epoch 315/500\n",
            "1/1 [==============================] - 0s 11ms/step - loss: 218629360.0000\n",
            "Epoch 316/500\n",
            "1/1 [==============================] - 0s 10ms/step - loss: 218616720.0000\n",
            "Epoch 317/500\n",
            "1/1 [==============================] - 0s 10ms/step - loss: 218604032.0000\n",
            "Epoch 318/500\n",
            "1/1 [==============================] - 0s 10ms/step - loss: 218591248.0000\n",
            "Epoch 319/500\n",
            "1/1 [==============================] - 0s 8ms/step - loss: 218578368.0000\n",
            "Epoch 320/500\n",
            "1/1 [==============================] - 0s 11ms/step - loss: 218565456.0000\n",
            "Epoch 321/500\n",
            "1/1 [==============================] - 0s 8ms/step - loss: 218552432.0000\n",
            "Epoch 322/500\n",
            "1/1 [==============================] - 0s 7ms/step - loss: 218539344.0000\n",
            "Epoch 323/500\n",
            "1/1 [==============================] - 0s 8ms/step - loss: 218526144.0000\n",
            "Epoch 324/500\n",
            "1/1 [==============================] - 0s 9ms/step - loss: 218512896.0000\n",
            "Epoch 325/500\n",
            "1/1 [==============================] - 0s 9ms/step - loss: 218499552.0000\n",
            "Epoch 326/500\n",
            "1/1 [==============================] - 0s 9ms/step - loss: 218486112.0000\n",
            "Epoch 327/500\n",
            "1/1 [==============================] - 0s 10ms/step - loss: 218472608.0000\n",
            "Epoch 328/500\n",
            "1/1 [==============================] - 0s 10ms/step - loss: 218459024.0000\n",
            "Epoch 329/500\n",
            "1/1 [==============================] - 0s 9ms/step - loss: 218445360.0000\n",
            "Epoch 330/500\n",
            "1/1 [==============================] - 0s 9ms/step - loss: 218431600.0000\n",
            "Epoch 331/500\n",
            "1/1 [==============================] - 0s 9ms/step - loss: 218417776.0000\n",
            "Epoch 332/500\n",
            "1/1 [==============================] - 0s 10ms/step - loss: 218403856.0000\n",
            "Epoch 333/500\n",
            "1/1 [==============================] - 0s 9ms/step - loss: 218389872.0000\n",
            "Epoch 334/500\n",
            "1/1 [==============================] - 0s 12ms/step - loss: 218375744.0000\n",
            "Epoch 335/500\n",
            "1/1 [==============================] - 0s 10ms/step - loss: 218361600.0000\n",
            "Epoch 336/500\n",
            "1/1 [==============================] - 0s 10ms/step - loss: 218347328.0000\n",
            "Epoch 337/500\n",
            "1/1 [==============================] - 0s 9ms/step - loss: 218332992.0000\n",
            "Epoch 338/500\n",
            "1/1 [==============================] - 0s 11ms/step - loss: 218318560.0000\n",
            "Epoch 339/500\n",
            "1/1 [==============================] - 0s 10ms/step - loss: 218304048.0000\n",
            "Epoch 340/500\n",
            "1/1 [==============================] - 0s 9ms/step - loss: 218289472.0000\n",
            "Epoch 341/500\n",
            "1/1 [==============================] - 0s 10ms/step - loss: 218274784.0000\n",
            "Epoch 342/500\n",
            "1/1 [==============================] - 0s 9ms/step - loss: 218260016.0000\n",
            "Epoch 343/500\n",
            "1/1 [==============================] - 0s 9ms/step - loss: 218245152.0000\n",
            "Epoch 344/500\n",
            "1/1 [==============================] - 0s 9ms/step - loss: 218230192.0000\n",
            "Epoch 345/500\n",
            "1/1 [==============================] - 0s 9ms/step - loss: 218215184.0000\n",
            "Epoch 346/500\n",
            "1/1 [==============================] - 0s 10ms/step - loss: 218200048.0000\n",
            "Epoch 347/500\n",
            "1/1 [==============================] - 0s 10ms/step - loss: 218184848.0000\n",
            "Epoch 348/500\n",
            "1/1 [==============================] - 0s 9ms/step - loss: 218169568.0000\n",
            "Epoch 349/500\n",
            "1/1 [==============================] - 0s 9ms/step - loss: 218154144.0000\n",
            "Epoch 350/500\n",
            "1/1 [==============================] - 0s 9ms/step - loss: 218138704.0000\n",
            "Epoch 351/500\n",
            "1/1 [==============================] - 0s 10ms/step - loss: 218123136.0000\n",
            "Epoch 352/500\n",
            "1/1 [==============================] - 0s 9ms/step - loss: 218107488.0000\n",
            "Epoch 353/500\n",
            "1/1 [==============================] - 0s 10ms/step - loss: 218091744.0000\n",
            "Epoch 354/500\n",
            "1/1 [==============================] - 0s 11ms/step - loss: 218075904.0000\n",
            "Epoch 355/500\n",
            "1/1 [==============================] - 0s 10ms/step - loss: 218059984.0000\n",
            "Epoch 356/500\n",
            "1/1 [==============================] - 0s 11ms/step - loss: 218043968.0000\n",
            "Epoch 357/500\n",
            "1/1 [==============================] - 0s 10ms/step - loss: 218027856.0000\n",
            "Epoch 358/500\n",
            "1/1 [==============================] - 0s 11ms/step - loss: 218011664.0000\n",
            "Epoch 359/500\n",
            "1/1 [==============================] - 0s 15ms/step - loss: 217995376.0000\n",
            "Epoch 360/500\n",
            "1/1 [==============================] - 0s 10ms/step - loss: 217979008.0000\n",
            "Epoch 361/500\n",
            "1/1 [==============================] - 0s 10ms/step - loss: 217962560.0000\n",
            "Epoch 362/500\n",
            "1/1 [==============================] - 0s 10ms/step - loss: 217945984.0000\n",
            "Epoch 363/500\n",
            "1/1 [==============================] - 0s 11ms/step - loss: 217929312.0000\n",
            "Epoch 364/500\n",
            "1/1 [==============================] - 0s 11ms/step - loss: 217912544.0000\n",
            "Epoch 365/500\n",
            "1/1 [==============================] - 0s 10ms/step - loss: 217895696.0000\n",
            "Epoch 366/500\n",
            "1/1 [==============================] - 0s 9ms/step - loss: 217878784.0000\n",
            "Epoch 367/500\n",
            "1/1 [==============================] - 0s 9ms/step - loss: 217861728.0000\n",
            "Epoch 368/500\n",
            "1/1 [==============================] - 0s 10ms/step - loss: 217844592.0000\n",
            "Epoch 369/500\n",
            "1/1 [==============================] - 0s 9ms/step - loss: 217827360.0000\n",
            "Epoch 370/500\n",
            "1/1 [==============================] - 0s 12ms/step - loss: 217810048.0000\n",
            "Epoch 371/500\n",
            "1/1 [==============================] - 0s 9ms/step - loss: 217792624.0000\n",
            "Epoch 372/500\n",
            "1/1 [==============================] - 0s 9ms/step - loss: 217775088.0000\n",
            "Epoch 373/500\n",
            "1/1 [==============================] - 0s 9ms/step - loss: 217757488.0000\n",
            "Epoch 374/500\n",
            "1/1 [==============================] - 0s 8ms/step - loss: 217739760.0000\n",
            "Epoch 375/500\n",
            "1/1 [==============================] - 0s 9ms/step - loss: 217721968.0000\n",
            "Epoch 376/500\n",
            "1/1 [==============================] - 0s 9ms/step - loss: 217704032.0000\n",
            "Epoch 377/500\n",
            "1/1 [==============================] - 0s 8ms/step - loss: 217686000.0000\n",
            "Epoch 378/500\n",
            "1/1 [==============================] - 0s 8ms/step - loss: 217667872.0000\n",
            "Epoch 379/500\n",
            "1/1 [==============================] - 0s 8ms/step - loss: 217649632.0000\n",
            "Epoch 380/500\n",
            "1/1 [==============================] - 0s 8ms/step - loss: 217631344.0000\n",
            "Epoch 381/500\n",
            "1/1 [==============================] - 0s 8ms/step - loss: 217612880.0000\n",
            "Epoch 382/500\n",
            "1/1 [==============================] - 0s 8ms/step - loss: 217594368.0000\n",
            "Epoch 383/500\n",
            "1/1 [==============================] - 0s 8ms/step - loss: 217575728.0000\n",
            "Epoch 384/500\n",
            "1/1 [==============================] - 0s 9ms/step - loss: 217556992.0000\n",
            "Epoch 385/500\n",
            "1/1 [==============================] - 0s 9ms/step - loss: 217538160.0000\n",
            "Epoch 386/500\n",
            "1/1 [==============================] - 0s 9ms/step - loss: 217519216.0000\n",
            "Epoch 387/500\n",
            "1/1 [==============================] - 0s 11ms/step - loss: 217500160.0000\n",
            "Epoch 388/500\n",
            "1/1 [==============================] - 0s 12ms/step - loss: 217481008.0000\n",
            "Epoch 389/500\n",
            "1/1 [==============================] - 0s 10ms/step - loss: 217461776.0000\n",
            "Epoch 390/500\n",
            "1/1 [==============================] - 0s 16ms/step - loss: 217442400.0000\n",
            "Epoch 391/500\n",
            "1/1 [==============================] - 0s 12ms/step - loss: 217422912.0000\n",
            "Epoch 392/500\n",
            "1/1 [==============================] - 0s 9ms/step - loss: 217403360.0000\n",
            "Epoch 393/500\n",
            "1/1 [==============================] - 0s 10ms/step - loss: 217383680.0000\n",
            "Epoch 394/500\n",
            "1/1 [==============================] - 0s 7ms/step - loss: 217363888.0000\n",
            "Epoch 395/500\n",
            "1/1 [==============================] - 0s 10ms/step - loss: 217343984.0000\n",
            "Epoch 396/500\n",
            "1/1 [==============================] - 0s 10ms/step - loss: 217323984.0000\n",
            "Epoch 397/500\n",
            "1/1 [==============================] - 0s 9ms/step - loss: 217303840.0000\n",
            "Epoch 398/500\n",
            "1/1 [==============================] - 0s 13ms/step - loss: 217283648.0000\n",
            "Epoch 399/500\n",
            "1/1 [==============================] - 0s 8ms/step - loss: 217263328.0000\n",
            "Epoch 400/500\n",
            "1/1 [==============================] - 0s 11ms/step - loss: 217242864.0000\n",
            "Epoch 401/500\n",
            "1/1 [==============================] - 0s 12ms/step - loss: 217222304.0000\n",
            "Epoch 402/500\n",
            "1/1 [==============================] - 0s 10ms/step - loss: 217201632.0000\n",
            "Epoch 403/500\n",
            "1/1 [==============================] - 0s 12ms/step - loss: 217180848.0000\n",
            "Epoch 404/500\n",
            "1/1 [==============================] - 0s 13ms/step - loss: 217159968.0000\n",
            "Epoch 405/500\n",
            "1/1 [==============================] - 0s 13ms/step - loss: 217138976.0000\n",
            "Epoch 406/500\n",
            "1/1 [==============================] - 0s 11ms/step - loss: 217117856.0000\n",
            "Epoch 407/500\n",
            "1/1 [==============================] - 0s 8ms/step - loss: 217096640.0000\n",
            "Epoch 408/500\n",
            "1/1 [==============================] - 0s 12ms/step - loss: 217075296.0000\n",
            "Epoch 409/500\n",
            "1/1 [==============================] - 0s 11ms/step - loss: 217053840.0000\n",
            "Epoch 410/500\n",
            "1/1 [==============================] - 0s 13ms/step - loss: 217032256.0000\n",
            "Epoch 411/500\n",
            "1/1 [==============================] - 0s 10ms/step - loss: 217010560.0000\n",
            "Epoch 412/500\n",
            "1/1 [==============================] - 0s 11ms/step - loss: 216988784.0000\n",
            "Epoch 413/500\n",
            "1/1 [==============================] - 0s 13ms/step - loss: 216966816.0000\n",
            "Epoch 414/500\n",
            "1/1 [==============================] - 0s 11ms/step - loss: 216944800.0000\n",
            "Epoch 415/500\n",
            "1/1 [==============================] - 0s 10ms/step - loss: 216922624.0000\n",
            "Epoch 416/500\n",
            "1/1 [==============================] - 0s 10ms/step - loss: 216900368.0000\n",
            "Epoch 417/500\n",
            "1/1 [==============================] - 0s 12ms/step - loss: 216877968.0000\n",
            "Epoch 418/500\n",
            "1/1 [==============================] - 0s 11ms/step - loss: 216855440.0000\n",
            "Epoch 419/500\n",
            "1/1 [==============================] - 0s 13ms/step - loss: 216832816.0000\n",
            "Epoch 420/500\n",
            "1/1 [==============================] - 0s 9ms/step - loss: 216810080.0000\n",
            "Epoch 421/500\n",
            "1/1 [==============================] - 0s 12ms/step - loss: 216787232.0000\n",
            "Epoch 422/500\n",
            "1/1 [==============================] - 0s 11ms/step - loss: 216764256.0000\n",
            "Epoch 423/500\n",
            "1/1 [==============================] - 0s 12ms/step - loss: 216741136.0000\n",
            "Epoch 424/500\n",
            "1/1 [==============================] - 0s 11ms/step - loss: 216717920.0000\n",
            "Epoch 425/500\n",
            "1/1 [==============================] - 0s 8ms/step - loss: 216694608.0000\n",
            "Epoch 426/500\n",
            "1/1 [==============================] - 0s 8ms/step - loss: 216671152.0000\n",
            "Epoch 427/500\n",
            "1/1 [==============================] - 0s 11ms/step - loss: 216647568.0000\n",
            "Epoch 428/500\n",
            "1/1 [==============================] - 0s 8ms/step - loss: 216623872.0000\n",
            "Epoch 429/500\n",
            "1/1 [==============================] - 0s 11ms/step - loss: 216600064.0000\n",
            "Epoch 430/500\n",
            "1/1 [==============================] - 0s 8ms/step - loss: 216576128.0000\n",
            "Epoch 431/500\n",
            "1/1 [==============================] - 0s 8ms/step - loss: 216552080.0000\n",
            "Epoch 432/500\n",
            "1/1 [==============================] - 0s 11ms/step - loss: 216527904.0000\n",
            "Epoch 433/500\n",
            "1/1 [==============================] - 0s 7ms/step - loss: 216503616.0000\n",
            "Epoch 434/500\n",
            "1/1 [==============================] - 0s 7ms/step - loss: 216479216.0000\n",
            "Epoch 435/500\n",
            "1/1 [==============================] - 0s 7ms/step - loss: 216454656.0000\n",
            "Epoch 436/500\n",
            "1/1 [==============================] - 0s 8ms/step - loss: 216430016.0000\n",
            "Epoch 437/500\n",
            "1/1 [==============================] - 0s 7ms/step - loss: 216405216.0000\n",
            "Epoch 438/500\n",
            "1/1 [==============================] - 0s 8ms/step - loss: 216380336.0000\n",
            "Epoch 439/500\n",
            "1/1 [==============================] - 0s 8ms/step - loss: 216355312.0000\n",
            "Epoch 440/500\n",
            "1/1 [==============================] - 0s 8ms/step - loss: 216330160.0000\n",
            "Epoch 441/500\n",
            "1/1 [==============================] - 0s 12ms/step - loss: 216304864.0000\n",
            "Epoch 442/500\n",
            "1/1 [==============================] - 0s 6ms/step - loss: 216279504.0000\n",
            "Epoch 443/500\n",
            "1/1 [==============================] - 0s 8ms/step - loss: 216253984.0000\n",
            "Epoch 444/500\n",
            "1/1 [==============================] - 0s 9ms/step - loss: 216228336.0000\n",
            "Epoch 445/500\n",
            "1/1 [==============================] - 0s 6ms/step - loss: 216202576.0000\n",
            "Epoch 446/500\n",
            "1/1 [==============================] - 0s 6ms/step - loss: 216176672.0000\n",
            "Epoch 447/500\n",
            "1/1 [==============================] - 0s 10ms/step - loss: 216150672.0000\n",
            "Epoch 448/500\n",
            "1/1 [==============================] - 0s 7ms/step - loss: 216124528.0000\n",
            "Epoch 449/500\n",
            "1/1 [==============================] - 0s 13ms/step - loss: 216098256.0000\n",
            "Epoch 450/500\n",
            "1/1 [==============================] - 0s 7ms/step - loss: 216071840.0000\n",
            "Epoch 451/500\n",
            "1/1 [==============================] - 0s 11ms/step - loss: 216045360.0000\n",
            "Epoch 452/500\n",
            "1/1 [==============================] - 0s 8ms/step - loss: 216018720.0000\n",
            "Epoch 453/500\n",
            "1/1 [==============================] - 0s 11ms/step - loss: 215991936.0000\n",
            "Epoch 454/500\n",
            "1/1 [==============================] - 0s 8ms/step - loss: 215965040.0000\n",
            "Epoch 455/500\n",
            "1/1 [==============================] - 0s 12ms/step - loss: 215938016.0000\n",
            "Epoch 456/500\n",
            "1/1 [==============================] - 0s 10ms/step - loss: 215910880.0000\n",
            "Epoch 457/500\n",
            "1/1 [==============================] - 0s 10ms/step - loss: 215883616.0000\n",
            "Epoch 458/500\n",
            "1/1 [==============================] - 0s 10ms/step - loss: 215856208.0000\n",
            "Epoch 459/500\n",
            "1/1 [==============================] - 0s 9ms/step - loss: 215828688.0000\n",
            "Epoch 460/500\n",
            "1/1 [==============================] - 0s 9ms/step - loss: 215801072.0000\n",
            "Epoch 461/500\n",
            "1/1 [==============================] - 0s 10ms/step - loss: 215773280.0000\n",
            "Epoch 462/500\n",
            "1/1 [==============================] - 0s 11ms/step - loss: 215745376.0000\n",
            "Epoch 463/500\n",
            "1/1 [==============================] - 0s 13ms/step - loss: 215717328.0000\n",
            "Epoch 464/500\n",
            "1/1 [==============================] - 0s 9ms/step - loss: 215689184.0000\n",
            "Epoch 465/500\n",
            "1/1 [==============================] - 0s 9ms/step - loss: 215660928.0000\n",
            "Epoch 466/500\n",
            "1/1 [==============================] - 0s 10ms/step - loss: 215632496.0000\n",
            "Epoch 467/500\n",
            "1/1 [==============================] - 0s 10ms/step - loss: 215603952.0000\n",
            "Epoch 468/500\n",
            "1/1 [==============================] - 0s 9ms/step - loss: 215575312.0000\n",
            "Epoch 469/500\n",
            "1/1 [==============================] - 0s 9ms/step - loss: 215546512.0000\n",
            "Epoch 470/500\n",
            "1/1 [==============================] - 0s 10ms/step - loss: 215517568.0000\n",
            "Epoch 471/500\n",
            "1/1 [==============================] - 0s 10ms/step - loss: 215488528.0000\n",
            "Epoch 472/500\n",
            "1/1 [==============================] - 0s 10ms/step - loss: 215459328.0000\n",
            "Epoch 473/500\n",
            "1/1 [==============================] - 0s 10ms/step - loss: 215430000.0000\n",
            "Epoch 474/500\n",
            "1/1 [==============================] - 0s 10ms/step - loss: 215400560.0000\n",
            "Epoch 475/500\n",
            "1/1 [==============================] - 0s 9ms/step - loss: 215371008.0000\n",
            "Epoch 476/500\n",
            "1/1 [==============================] - 0s 10ms/step - loss: 215341280.0000\n",
            "Epoch 477/500\n",
            "1/1 [==============================] - 0s 10ms/step - loss: 215311440.0000\n",
            "Epoch 478/500\n",
            "1/1 [==============================] - 0s 10ms/step - loss: 215281472.0000\n",
            "Epoch 479/500\n",
            "1/1 [==============================] - 0s 10ms/step - loss: 215251408.0000\n",
            "Epoch 480/500\n",
            "1/1 [==============================] - 0s 10ms/step - loss: 215221184.0000\n",
            "Epoch 481/500\n",
            "1/1 [==============================] - 0s 8ms/step - loss: 215190800.0000\n",
            "Epoch 482/500\n",
            "1/1 [==============================] - 0s 10ms/step - loss: 215160320.0000\n",
            "Epoch 483/500\n",
            "1/1 [==============================] - 0s 9ms/step - loss: 215129712.0000\n",
            "Epoch 484/500\n",
            "1/1 [==============================] - 0s 8ms/step - loss: 215098976.0000\n",
            "Epoch 485/500\n",
            "1/1 [==============================] - 0s 9ms/step - loss: 215068096.0000\n",
            "Epoch 486/500\n",
            "1/1 [==============================] - 0s 9ms/step - loss: 215037088.0000\n",
            "Epoch 487/500\n",
            "1/1 [==============================] - 0s 10ms/step - loss: 215005936.0000\n",
            "Epoch 488/500\n",
            "1/1 [==============================] - 0s 10ms/step - loss: 214974656.0000\n",
            "Epoch 489/500\n",
            "1/1 [==============================] - 0s 9ms/step - loss: 214943264.0000\n",
            "Epoch 490/500\n",
            "1/1 [==============================] - 0s 10ms/step - loss: 214911696.0000\n",
            "Epoch 491/500\n",
            "1/1 [==============================] - 0s 9ms/step - loss: 214880048.0000\n",
            "Epoch 492/500\n",
            "1/1 [==============================] - 0s 8ms/step - loss: 214848240.0000\n",
            "Epoch 493/500\n",
            "1/1 [==============================] - 0s 9ms/step - loss: 214816304.0000\n",
            "Epoch 494/500\n",
            "1/1 [==============================] - 0s 9ms/step - loss: 214784208.0000\n",
            "Epoch 495/500\n",
            "1/1 [==============================] - 0s 10ms/step - loss: 214752032.0000\n",
            "Epoch 496/500\n",
            "1/1 [==============================] - 0s 10ms/step - loss: 214719696.0000\n",
            "Epoch 497/500\n",
            "1/1 [==============================] - 0s 9ms/step - loss: 214687232.0000\n",
            "Epoch 498/500\n",
            "1/1 [==============================] - 0s 18ms/step - loss: 214654624.0000\n",
            "Epoch 499/500\n",
            "1/1 [==============================] - 0s 13ms/step - loss: 214621904.0000\n",
            "Epoch 500/500\n",
            "1/1 [==============================] - 0s 12ms/step - loss: 214589024.0000\n"
          ]
        }
      ]
    },
    {
      "cell_type": "code",
      "source": [
        "mse  = modelnn.evaluate(X_val, y_val)\n",
        "print('Mean Squared Error: ', mse)"
      ],
      "metadata": {
        "colab": {
          "base_uri": "https://localhost:8080/"
        },
        "id": "KE4zL-DYnKNO",
        "outputId": "52225d8e-90ef-4368-c74b-a994000b4cfa"
      },
      "execution_count": 148,
      "outputs": [
        {
          "output_type": "stream",
          "name": "stdout",
          "text": [
            "2/2 [==============================] - 0s 6ms/step - loss: 289877312.0000\n",
            "Mean Squared Error:  289877312.0\n"
          ]
        }
      ]
    },
    {
      "cell_type": "code",
      "source": [
        "modelnn.history"
      ],
      "metadata": {
        "colab": {
          "base_uri": "https://localhost:8080/"
        },
        "id": "xj5F8ItDnNxG",
        "outputId": "a950035c-db82-49c6-8b72-3d62a927d4ac"
      },
      "execution_count": 149,
      "outputs": [
        {
          "output_type": "execute_result",
          "data": {
            "text/plain": [
              "<keras.callbacks.History at 0x7f688c7d1a00>"
            ]
          },
          "metadata": {},
          "execution_count": 149
        }
      ]
    },
    {
      "cell_type": "code",
      "source": [
        "import matplotlib.pyplot as plt\n",
        "\n",
        "# summarize history for loss\n",
        "plt.plot(history.history['loss'])\n",
        "plt.title('model loss')\n",
        "plt.ylabel('loss')\n",
        "plt.xlabel('epoch')\n",
        "plt.legend(['train'], loc='upper right')\n",
        "plt.show()"
      ],
      "metadata": {
        "colab": {
          "base_uri": "https://localhost:8080/",
          "height": 295
        },
        "id": "XoiBjYNBnRI3",
        "outputId": "5aeb39e1-2c6e-4410-89a2-f15ed700aae0"
      },
      "execution_count": 150,
      "outputs": [
        {
          "output_type": "display_data",
          "data": {
            "text/plain": [
              "<Figure size 432x288 with 1 Axes>"
            ],
            "image/png": "[encoded data removed]"
          },
          "metadata": {
            "needs_background": "light"
          }
        }
      ]
    }
  ]
}