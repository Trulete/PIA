{
  "nbformat": 4,
  "nbformat_minor": 0,
  "metadata": {
    "colab": {
      "provenance": [],
      "collapsed_sections": [],
      "authorship_tag": "ABX9TyO18s0PlAVdWJsEStXKPzYF",
      "include_colab_link": true
    },
    "kernelspec": {
      "name": "python3",
      "display_name": "Python 3"
    },
    "language_info": {
      "name": "python"
    }
  },
  "cells": [
    {
      "cell_type": "markdown",
      "metadata": {
        "id": "view-in-github",
        "colab_type": "text"
      },
      "source": [
        "<a href=\"https://colab.research.google.com/github/Trulete/PIA/blob/main/Curso_de_Python.ipynb\" target=\"_parent\"><img src=\"https://colab.research.google.com/assets/colab-badge.svg\" alt=\"Open In Colab\"/></a>"
      ]
    },
    {
      "cell_type": "code",
      "execution_count": null,
      "metadata": {
        "id": "CkGK0bGw9QN8"
      },
      "outputs": [],
      "source": []
    },
    {
      "cell_type": "markdown",
      "source": [
        "**INTRODUCCION**\n",
        "\n",
        "Python es un lenguaje de programación de propósito general, por lo que no se centra en ningún aspecto específico de la programación\n",
        "\n",
        "Sus principales características son las siguientes:\n",
        "\n",
        "- Es un lenguaje de **alto nivel**, es decir, no puede ser interpretado directamente por las máquinas sin una conversión previa\n",
        "\n",
        "- Su sintaxis es muy simple, asemejándose mucho al inglés, haciendo su legibilidad, aprendizaje y comprensión una tarea sencilla (baja curva de aprendizaje)\n",
        "\n",
        "- Se trata de un lenguaje **interpretado**, por tanto no necesita ser compilado en un ejecutable. Su código se puede ejecutar linea por linea directamente\n",
        "\n",
        "Actualmente el lenguaje se encuentra en su **Versión 3**\n",
        "\n",
        "**IMPRESION DE DATOS**\n",
        "\n",
        "La función para imprimir en pantalla es **print()**. Esta funcion permite imprimir varios elementos, separando los argumentos con comas (,)\n",
        "\n",
        "El sistema de comentarios consiste en el uso de **hash/almohadilla (#)** al comienzo de cada linea de comentario o comentarios multilinea con un bloque abierto y cerrado con triples comillas.\n"
      ],
      "metadata": {
        "id": "r7bE0E_89o6y"
      }
    },
    {
      "cell_type": "code",
      "source": [
        "print(\"Hello World\")\n",
        "\n",
        "print(50, 1000, 3.142, \"Hello World\")\n"
      ],
      "metadata": {
        "id": "o9HucWsCe1u9"
      },
      "execution_count": null,
      "outputs": []
    },
    {
      "cell_type": "markdown",
      "source": [
        "**TIPOS DE DATOS**\n",
        "\n",
        "Python trabaja con 3 tipos de datos fundamentales: Números, strings y booleanos. A pesar de ser un lenguaje fuertemente tipado, apenas hace énfasis en la definicion de los tipos cuando se declaran variables\n",
        "\n",
        "Sobre las reglas de nombrado (y estilo) de variables, aplican las siguientes:\n",
        "\n",
        "- Deben de comenzar con una letra, mayuscula o minúscula\n",
        "- Python es \"CASE SENSITIVE\" por lo que diferencia entre mayúsculas y minúsculas\n",
        "- Pueden contener números, pero NUNCA como primer carácter del nombre\n",
        "- Se puede usar el snakecase/barra baja (_) en cualquier lugar, incluso al principio\n",
        "- No se permiten los espacios, en su lugar se usa la citada barra baja (_)\n",
        "\n",
        "1. **NÚMEROS**\n",
        "\n",
        "Enteros: comprende números enteros, tanto positivos como negativos. La cantidad de memoria usada por la variable dependerá de su valor\n",
        "\n",
        "De coma flotante: tambien conocidos como \"floats\" comprende números con decimales, tanto positivos como negativos, permitiendo una gran cantidad de decimales.\n",
        "\n",
        "Complejos: son números con una parte real y una imaginaria. Se usan mediante la función **complex()**, a la que se le pasan dos parámetros, uno la parte real y otro la imaginaria"
      ],
      "metadata": {
        "id": "xRLaJzQd_6At"
      }
    },
    {
      "cell_type": "code",
      "source": [
        "print(5)  # Entero positivo\n",
        "print(-500)  # A negative integer\n",
        "\n",
        "num = 123456789  # Asignación de entero a una variable\n",
        "print(num)\n",
        "num = -16000  # Nueva asignación\n",
        "print(num)\n",
        "\n",
        "print(1.00000000005)  # un float positivo\n",
        "print(-85.6701)  # Un float negativo\n",
        "\n",
        "flt_pt = 1.23456789  #Asignación\n",
        "print(flt_pt)\n",
        "\n",
        "print(complex(10, 20))  # Representa el número complejo (10 + 20j)\n",
        "print(complex(2.5, -18.2))  # Representa el número complejo (2.5 - 18.2j)\n",
        "\n",
        "complex_1 = complex(0, 2)\n",
        "complex_2 = complex(2, 0)\n",
        "print(complex_1)\n",
        "print(complex_2)\n"
      ],
      "metadata": {
        "id": "_bLQ83cLkuRe"
      },
      "execution_count": null,
      "outputs": []
    },
    {
      "cell_type": "markdown",
      "source": [
        "2. **BOOLEANOS**\n",
        "\n",
        "Es un tipo de dato que puede tener sólo dos valores: **True** y **False**. Se usa para evaluar lógica y comparación de datos\n",
        "\n",
        "3. **STRINGS O CADENAS**\n",
        "\n",
        "Una cadena es un grupo de caracteres, aunque una variable cadena puede estar formada por un sólo caracter o incluso estar vacía. Dicho grupo está acotado por comillas simples, dobles o triples. Los espacios en blanco también son considerados un caracter.\n",
        "\n",
        "Podemos obtener su longitud gracias a la función **len()**\n",
        "\n",
        "Las cadenas usan una indexación en la que el primer elemento de la cadena tendrá el índice **0**. Se puede acceder al elemento que queramos de la cadena a través de su índice en corchetes. También se puede realizar una indexación inversa comenzando por el último elemento, cuyo índice es **-1**\n",
        "\n",
        "Las cadenas son inmutables, por lo que una vez asignado un valor no se pueden modificar. Si se hiciese una nueva asignación de valor, el identificador sería distinto, dejando claro que se trata de un nuevo elemento\n"
      ],
      "metadata": {
        "id": "Hi5xbve3lxuh"
      }
    },
    {
      "cell_type": "code",
      "source": [
        "mi_cadena = \"Hola Mundo\"  # 10 caracteres\n",
        "print(len(mi_cadena))\n",
        "\n",
        "Python = \"Es el lenguaje que estamos aprendiendo\"\n",
        "\n",
        "first = Python[0]  # Accedemos al primer caracter\n",
        "print(first)\n",
        "\n",
        "last = Python[len(Python) - 1] # Accedemos al ultimo caracter\n",
        "print(last)\n",
        "\n",
        "print(Python[-1])  # Accedemos al último caracter, que es Python[5]\n",
        "print(Python[-2])  # Corresponde a Python[4]\n"
      ],
      "metadata": {
        "id": "CCvZseFkpoBL"
      },
      "execution_count": null,
      "outputs": []
    },
    {
      "cell_type": "markdown",
      "source": [
        "4. **NONE**\n",
        "\n",
        "Este tipo de dato solo tiene el valor **None**, que se puede asignar a cualquier variable. None NO es el valor por defecto de ninguna variable, tampoco es lo mismo que False, ni que una cadena vacía ni que el número 0\n",
        "\n",
        "**TROCEADO DE CADENAS**\n",
        "\n",
        "A raiz de una cadena podemos obtener porciones de la misma (subcadenas) a través del uso de su indexación. Debemos indicar el índice de comienzo y el índice de fin\n",
        "\n",
        "También podemos aplicar saltos de caracteres en el rango, así como poder realizar la indexación inversa\n",
        "\n",
        "Si se omiten los parámetros al indicar el rango, se usarán los valores por defecto de cada uno\n",
        "\n"
      ],
      "metadata": {
        "id": "RoCKFR2VrOmo"
      }
    },
    {
      "cell_type": "code",
      "source": [
        "my_string = \"This is MY string!\"\n",
        "print(my_string[0:4]) # Desde el comienzo hasta antes del índice 4\n",
        "print(my_string[1:7])\n",
        "print(my_string[8:len(my_string)]) # Desde el octavo índice hasta el final\n",
        "\n",
        "my_string = \"This is MY string!\"\n",
        "print(my_string[0:7])  # Un salto de 1 (por defecto)\n",
        "print(my_string[0:7:2])  # Un salto de 2 caracteres\n",
        "print(my_string[0:7:5])  # Un salto de 5 caracteres\n",
        "\n",
        "my_string = \"This is MY string!\"\n",
        "print(my_string[13:2:-1]) # Recorrido con indexacion inversa, salto de 1\n",
        "print(my_string[17:0:-2]) # Recorrido con indexación inversa y salto de 2\n",
        "\n",
        "my_string = \"This is MY string!\"\n",
        "print(my_string[:8])  # Omitido el primer parametro, desde el principio por defecto\n",
        "print(my_string[8:])  # Omitido el segundo parámetro, hasta el final por defecto\n",
        "print(my_string[:])  # Omitidos ambos, toda la cadena\n",
        "print(my_string[::-1])  # Toda la cadena inversa por el paso -1\n",
        "\n"
      ],
      "metadata": {
        "id": "FeHxFxgsthka"
      },
      "execution_count": null,
      "outputs": []
    },
    {
      "cell_type": "markdown",
      "source": [
        "**FORMATEO DE CADENAS**\n",
        "\n",
        "El formateado de cadenas nos permite sustituir valores dentro de la cadena. El uso más frecuente es la inserción de valores (enteros, flotantes o cadenas). En la cadena se dejará marcado dónde se insertará el dato mediante un especificador de formato:\n",
        "\n",
        "- **%s** para indicar que en ese lugar se insertará una cadena\n",
        "- **%i** para indicar que en ese lugar se insertará un entero\n",
        "- **%f** para indicar que en ese lugar se insertará un flotante. Se puede añadir un número entre % y f para truncar la visualización e indicar la cantidad de decimales que queremos mostrar\n",
        "\n",
        "Los valores numéricos serán convertidos a cadena para su visualización dentro de la cadena"
      ],
      "metadata": {
        "id": "BqD4sHufvEsa"
      }
    },
    {
      "cell_type": "code",
      "source": [
        "string1 = \"I like %s\" % \"Python\" # Cadena con el especificador, seguida de la cadena que se posicionará donde el especificador\n",
        "print(string1)\n",
        "\n",
        "temp = \"Educative\"\n",
        "string2 = \"I like %s\" % temp # Aquí el valor de la variable temp se posicionará\n",
        "print(string2) \n",
        "\n",
        "string3 = \"I like %s and %s\" % (\"Python\", temp) # Se posicionan varias cadenas en distintos posicionadores siguiendo el orden izquierda-derecha\n",
        "print(string3)  \n",
        "\n",
        "my_string = \"%i + %i = %i\" % (1,2,3) # Se insertan varios enteros\n",
        "print(my_string)\n",
        "\n",
        "string1 = \"%f\" % (1.11)\n",
        "print(string1) # '1.110000'\n",
        "\n",
        "string2 = \"%.2f\" % (1.11)\n",
        "print(string2) # '1.11'\n",
        "\n",
        "string3 = \"%.2f\" % (1.117)\n",
        "print(string3) # '1.12'"
      ],
      "metadata": {
        "id": "7i_rtMovxZIJ"
      },
      "execution_count": null,
      "outputs": []
    },
    {
      "cell_type": "markdown",
      "source": [
        "**OPERADORES**\n",
        "\n",
        "Se usan para operaciones aritméticas y lógicas. Se representan con caracteres o palabras especiales. Los operadores pueden aparecer entre dos operandos o bien a modo de prefijo antes de un operando. Los 5 tipos de operador son:\n",
        "\n",
        "- Aritméticos\n",
        "- De comparación\n",
        "- De Asignación\n",
        "- Lógicos\n",
        "- De bits\n",
        "\n",
        "1. **ARITMÉTICOS**\n",
        "\n",
        "Al igual que en las matemáticas, dentro de estos operadores hay un orden de preferencia dividido en 4 niveles:\n",
        "\n",
        "- Paréntesis **()**\n",
        "- Potencia **\n",
        "- Multiplicación *, División /, Division de enteros //, Módulo o Resto %\n",
        "- Suma **+**, Resta **-**\n",
        "\n",
        "2. **DE COMPARACIÓN**\n",
        "\n",
        "El resultado de una comparación siempre es un booleano\n",
        "**==** y **!=** comparan el valor de los elementos mientras **is** e **is not** comparan si son el mismo objeto\n",
        "\n",
        "Los operadores son:\n",
        "- >      Mayor que\n",
        "- <      Menor que\n",
        "- >=     Mayor o igual que\n",
        "- <=     Menor o igual que\n",
        "- ==     Igual que\n",
        "- !=     Distinto a\n",
        "- is     Igual que (identidad)\n",
        "- is not Distinto a (identidad)\n",
        "\n",
        "3. **DE ASIGNACIÓN**\n",
        "\n",
        "Son los usados para asignar valor a una variable. El más habitual es = pero no es el único\n",
        "\n",
        "- =\t  Asigna\n",
        "- +=\tSuma y asigna\n",
        "- -=  Resta y asigna\n",
        "- *=\tMultiplica y asigna\n",
        "- /=\tDivide y asigna\n",
        "- //=\tDivision de enteros y asigna\n",
        "- **=\tPotencia y asigna\n",
        "- %=\ttoma el módulo y lo asigna\n",
        "- |=\tComparador OR y asigna\n",
        "- &=\tComparador AND y asigna\n",
        "- ^=\tComparador XOR y asigna\n",
        "- >>=\tRight-shift and Assign\n",
        "- <<=\tLeft-shift and Assign\n",
        "\n",
        "4. **LÓGICOS**\n",
        "\n",
        "Sirven para manipular la lógica de los booleanos. Son:\n",
        "\n",
        "- and\n",
        "- or\n",
        "- not\n",
        "\n",
        "Al igual que en otros lenguajes de programación, podemos usar lógica de bits, por tanto **1 es True** y **0 es False**  \n",
        "\n",
        "5. **DE BITS**\n",
        "\n",
        "Además de la lógica de bits mostrada en el punto anterior, hay más operadores lógicos a nivel de bits\n",
        "\n",
        "- &\tBitwise AND\t\n",
        "- |\tBitwise OR\t\n",
        "- ^\tBitwise XOR\n",
        "- ~\tBitwise NOT\n",
        "- <<\tShift a la izquierda\n",
        "- >>\tShift a la derecha\n",
        "\n",
        "**OPERACIONES CON CADENAS**\n",
        "\n",
        "Las cadenas tambien admiten operadores de comparación. Cada carácter tiene su valor Unicode, Por tanto la palabra que venga antes en el diccionario se dice que tiene un valor más bajo\n",
        "\n",
        "El operador + sirve para concatenar dos cadenas\n",
        "\n",
        "El operador * sirve para repetir la cadena cierto número de veces\n",
        "\n",
        "El operador in nos sirve para buscar una subcadena dentro de una cadena, devolviendo True o False si se encuentra o no\n",
        "\n",
        "**AGRUPANDO VALORES**\n",
        "\n",
        "Se pueden agrupar múltiples valores en una sola variable, hay distintas maneras de hacerlo pero la más popilar es a través de las **listas**. Al igual que las cadenas son una colección de caracteres, las listas son una colección de valores, que pueden ser de distinto tipo entre si.\n",
        "\n",
        "Basta con encerrar los distintos elementos entre corchetes **([])** y separarlos por comas **(,)**\n"
      ],
      "metadata": {
        "id": "Q7ixILaDzG9R"
      }
    },
    {
      "cell_type": "code",
      "source": [
        "mi_lista = [1, 2.5, \"Una cadena\", True]\n",
        "print(mi_lista)\n",
        "\n",
        "print(len(mi_lista))\n"
      ],
      "metadata": {
        "id": "0o3L8uCX1dok"
      },
      "execution_count": null,
      "outputs": []
    },
    {
      "cell_type": "markdown",
      "source": [
        "**SENTENCIAS CONDICIONALES**\n",
        "\n",
        "Una sentencia condicional es una intrucción que tras una evaluación lógica, ejecutará una acción u otra. Permiten abrir varios caminos distintos en el **flujo** de la lógica y son conocidos como **estructuras de control**\n",
        "\n",
        "Hay 3 tipos de sentencias condicionales en Python:\n",
        "\n",
        "- if\n",
        "- if-else\n",
        "- if-elif-else\n",
        "\n",
        "1. **SENTENCIA IF**\n",
        "\n",
        "Es la más simple, se compone de la evaluación lógica y del bloque de código que se ejecutará si el resultado de la evaluación lógica es True. Su sintaxis es\n",
        "\n",
        "if (evaluación lógica):\n",
        "bloque de código indentado\n",
        "\n",
        "La indentación tiene que ser toda uniforme, a la misma altura, pues para Python, una indentación a diferente altura es interpretada como un distinto bloque de código\n",
        "\n",
        "Si el resultado de la evaluación lógica es negativo, el bloque será ignorado\n",
        "\n",
        "\n",
        "\n"
      ],
      "metadata": {
        "id": "8h_gfFad4LUT"
      }
    },
    {
      "cell_type": "code",
      "source": [
        "num = 6  # Si introducimos un número menor que 4 el programa no entrará en ninguno de los bloques y terminará sin mostrar nada\n",
        "\n",
        "if (num == 5): \n",
        "    print(\"El numero es igual a 5\") \n",
        "\n",
        "if num > 5: \n",
        "    print(\"El número es mayor que 5\")"
      ],
      "metadata": {
        "id": "NcQPW6rq7KuD"
      },
      "execution_count": null,
      "outputs": []
    },
    {
      "cell_type": "markdown",
      "source": [
        "**1.1 IFS ANIDADOS**\n",
        "\n",
        "Dentro de un bloque de código podemos incluir una nueva sentencia if, lo que se conoce como ifs anidados, así, si la primera evaluación lógica es True, podremos realizar otra evaluación distinta y por tanto realizar flujos más complejos"
      ],
      "metadata": {
        "id": "nIWQOxMx8l12"
      }
    },
    {
      "cell_type": "code",
      "source": [
        "num = 60\n",
        "\n",
        "if num >= 0 and num <= 100:\n",
        "    if num >= 50 and num <= 75:\n",
        "        if num >= 60 and num <= 70:\n",
        "            print(\"El número está en el rango entre 60 y 70\")"
      ],
      "metadata": {
        "colab": {
          "base_uri": "https://localhost:8080/"
        },
        "id": "Pzsvf1_0_e6L",
        "outputId": "1cdc7f50-cf88-4f59-b895-5012be1e013a"
      },
      "execution_count": null,
      "outputs": [
        {
          "output_type": "stream",
          "name": "stdout",
          "text": [
            "El número está en el rango entre 60 y 70\n"
          ]
        }
      ]
    },
    {
      "cell_type": "markdown",
      "source": [
        "Dentro del bloque de sentencias del if podremos asignar valor a variables e incluso crear nuevas variables\n",
        "\n",
        "2. **SENTENCIA IF-ELSE**\n",
        "\n",
        "Esta sentencia nos permite ejecutar dos bloques de código, uno si la evaluación da como resultado True y el otro en caso de obtener False. Por tanto, siempre se ejecutará uno de los dos bloques. Se podría realizar lo mismo con un segundo if tras la primera evaluación pero de esta forma es mucho mas eficiente, ahorrandose tener que realizar la segunda evaluación lógica"
      ],
      "metadata": {
        "id": "2OFoVCJb_2iH"
      }
    },
    {
      "cell_type": "code",
      "source": [
        "num = 30\n",
        "\n",
        "if num <= 50:\n",
        "    print(\"El número es menor o igual a 50\")\n",
        "else:\n",
        "    print(\"El número es mayor que 50\")\n"
      ],
      "metadata": {
        "id": "sPCwOJPJEdG0"
      },
      "execution_count": null,
      "outputs": []
    },
    {
      "cell_type": "markdown",
      "source": [
        "3. **SENTENCIA IF-ELIF-ELSE**\n",
        "\n",
        "Esta sentencia permite crear multiples condiciones de manera sencilla, realizando una nueva evaluación lógica tras resultado False, lo que da un sistema de múltiples bloques por descarte"
      ],
      "metadata": {
        "id": "lcrkj7JZExDD"
      }
    },
    {
      "cell_type": "code",
      "source": [
        "light = \"Blue\"\n",
        "\n",
        "if light == \"Green\":\n",
        "    print(\"Go\")  #Se muestra si la primera evaluación es correcta\n",
        "\n",
        "elif light == \"Yellow\": #Se realiza esta segunda evaluación si la primera dio False\n",
        "    print(\"Caution\")\n",
        "\n",
        "elif light == \"Red\":  #Se realiza esta tercera evaluación si las dos anteriores dieron False\n",
        "    print(\"Stop\")\n",
        "\n",
        "else:\n",
        "    print(\"Incorrect light signal\") #Se ejecuta este código en caso de que todas las evaluaciones anteriores dieran False\n"
      ],
      "metadata": {
        "id": "czbHfa-9OANa"
      },
      "execution_count": null,
      "outputs": []
    },
    {
      "cell_type": "markdown",
      "source": [
        "**FUNCIONES**\n",
        "\n",
        "Se pueden definir a las funciones como un conjunto reutilizable de operaciones. Su analogía es el de una caja que realiza tareas: le das una entrada y te devuelve una salida (aunque no siempre tienen esa entrada o salida), pudiendo ser invocadas una y otra vez para diferentes resultados. Son tremendamente útiles ya que hacen que el código sea simple y conciso.\n",
        "\n",
        "Las funciones pueden ser reutilizadas una y otra vez sin necesidad de escribir código redundante.\n",
        "\n",
        "Las funciones son fáciles de usar, pues tan solo hace falta conocer su nombre y los datos de entrada que se le vayan a facilitar. El resto de la tarea es completamente abstracta y no hace falta saber nada de ella, por lo que el programador no pierde tiempo ni la atención en resolver esa tarea, pues será cometido de la función resolverla\n",
        "\n",
        "Existen dos tipos de funciones: **integradas** y **definidas por el usuario**\n",
        "\n",
        "**CREACIÓN DE FUNCIONES**\n",
        "\n",
        "Una funcion se crea usando la palabra clave def seguida del nombre de funcion, paréntesis con los argumentos si los tuviese y dos puntos : para acto seguido introducir el bloque de código indentado que formará la función\n"
      ],
      "metadata": {
        "id": "AV1almgfBpvC"
      }
    },
    {
      "cell_type": "code",
      "source": [
        "def mi_funcion():  # No se le pasan argumentos\n",
        "    print(\"Esta\")\n",
        "    print(\"es\")\n",
        "    print(\"mi\")\n",
        "    print(\"función\")\n",
        "# Aquí termina la definicion de la función\n",
        "\n",
        "# Llamamos a la función dos veces\n",
        "mi_funcion()\n",
        "mi_funcion()"
      ],
      "metadata": {
        "id": "GUU6yXsdFP15"
      },
      "execution_count": null,
      "outputs": []
    },
    {
      "cell_type": "markdown",
      "source": [
        "Como se ha nombrado, a la función se le pueden pasar unos parámetros con los que trabajar. Dichos parámetros son conocidos como **argumentos**. Deben ser nombrados en la definicón de la funcion. Su nombre solo será relevante en el ámbito de la función y no afectará a variables fuera de ella. Los argumentos deberán ser enumerados entre paréntesis y separados por comas"
      ],
      "metadata": {
        "id": "PxWqqkdmFypr"
      }
    },
    {
      "cell_type": "code",
      "source": [
        "def minimo(primero, segundo): #Se definen 2 argumentos, las variables primero y segundo que solo existen en el ámbito de la función\n",
        "    if (primero < segundo):\n",
        "        print(primero)\n",
        "    else:\n",
        "        print(segundo)\n",
        "\n",
        "\n",
        "num1 = 10\n",
        "num2 = 20\n",
        "\n",
        "minimo(num1, num2) #La funcion es llamada y se usan las variables num1 y num2 como argumentos"
      ],
      "metadata": {
        "id": "r0oyv9goKKNq"
      },
      "execution_count": null,
      "outputs": []
    },
    {
      "cell_type": "markdown",
      "source": [
        "Hay que tener muy en cuenta el orden de los parámetros, ya que estos no son intercambiables\n",
        "\n",
        "Las funciones pueden tener un retorno, es decir, que al terminar su ejecución darán de vuelta un valor que puede ser almacenado en una variable (y por tanto trabajar después con dicho valor en el entorno del programa. Eso es llevado a cabo con la sentencia **return**"
      ],
      "metadata": {
        "id": "tQT_hptcKum4"
      }
    },
    {
      "cell_type": "code",
      "source": [
        "def minimo(primero, segundo): \n",
        "    if (primero < segundo):\n",
        "        return primero # Si se cumple la condición del if, se retornará el valor de la variable primero\n",
        "    else:\n",
        "        return segundo # Si no se cumple la condición del if entonces se retornará el valor de la variable segundo\n",
        "\n",
        "\n",
        "num1 = 10\n",
        "num2 = 20\n",
        "\n",
        "resultado = minimo(num1, num2) #La funcion es llamada y su retorno será almacenado en la variable resultado\n",
        "print(resultado)"
      ],
      "metadata": {
        "id": "PPx7IsIdMzez"
      },
      "execution_count": null,
      "outputs": []
    },
    {
      "cell_type": "markdown",
      "source": [
        "**FUNCIONES INTEGRADAS**\n",
        "\n",
        "Python incluye una enorme cantidad de funciones integradas (o predefinidas), listas para ser usadas. Si dichas funciones pertenecen a entidades concretas son conocidas como **métodos**\n",
        "\n",
        "1. **FUNCIONES CON CADENAS**\n",
        "\n",
        "Una alternativa al operador **in** para buscar subcadenas dentro de cadenas es el método **find()**. A este método le deberemos pasar la subcadena a buscar y opcionalmente el índice de comienzo y final de búsqueda para establecer un rango"
      ],
      "metadata": {
        "id": "LdyLHvdrOent"
      }
    },
    {
      "cell_type": "code",
      "source": [
        "random_string = \"Esto es una cadena de texto\"\n",
        "print(random_string.find(\"es\"))  # Busca la subcadena en toda la cadena\n",
        "print(random_string.find(\"es\", 9, 13))  # Busca la cadena entre los índices 9 y 13"
      ],
      "metadata": {
        "id": "q4-JLptK5yxY"
      },
      "execution_count": null,
      "outputs": []
    },
    {
      "cell_type": "markdown",
      "source": [
        "El método **replace()** permite sustituir una subcadena por otra. No modifica la cadena origina, en su lugar devuelve una nueva cadena cadena. Como argumentos se le pasan la subcadena a ser sustituida y la nueva subcadena"
      ],
      "metadata": {
        "id": "K2PGJ5ZO6efl"
      }
    },
    {
      "cell_type": "code",
      "source": [
        "una_cadena = \"Bienvenidos al mundo de Python\"\n",
        "nueva_cadena = una_cadena.replace(\"Python\", \"Pe Hache Pe\")\n",
        "print(una_cadena)\n",
        "print(nueva_cadena)"
      ],
      "metadata": {
        "id": "bG1lmywI62SP"
      },
      "execution_count": null,
      "outputs": []
    },
    {
      "cell_type": "markdown",
      "source": [
        "Los métodos **upper()** y **lower()** permiten pasar los caracteres a mayúsculas y minúsculas respectivamente"
      ],
      "metadata": {
        "id": "t-UVDB8b7lvP"
      }
    },
    {
      "cell_type": "code",
      "source": [
        "print(\"MayusCulas\".upper())\n",
        "print(\"MinusCulas\".lower())"
      ],
      "metadata": {
        "id": "kKgBKtfP7_5L"
      },
      "execution_count": null,
      "outputs": []
    },
    {
      "cell_type": "markdown",
      "source": [
        "El método **join()** permite unir cadenas facilmente"
      ],
      "metadata": {
        "id": "-jv2HHn18ThZ"
      }
    },
    {
      "cell_type": "code",
      "source": [
        "llist = [\"aaa\", \"bbb\", \"ccc\"]\n",
        "print('>>'.join(llist)) \n",
        "print('<<'.join(llist)) \n",
        "print(', '.join(llist)) "
      ],
      "metadata": {
        "id": "qZX25zAG8pCI"
      },
      "execution_count": null,
      "outputs": []
    },
    {
      "cell_type": "markdown",
      "source": [
        "El modo **format()** permite formatear incluyendo cadenas en los lugares demarcados por los placeholders (marcadores). Estos marcadores están contenidos por llaves **{}**"
      ],
      "metadata": {
        "id": "cKvie9Rt9l04"
      }
    },
    {
      "cell_type": "code",
      "source": [
        "string1 = \"Aprende Python {version} en {name}\".format(version = 3, name = \"IES Zaidin-Vergeles\")\n",
        "string2 = \"Aprende {0} en {1}\".format(3, \"IES Zaidin-Vergeles\")\n",
        "string3 = \"Aprende Python {} en {}\".format(3, \"IES Zaidin-Vergeles\")\n",
        "\n",
        "print(string1)\n",
        "print(string2)\n",
        "print(string3)"
      ],
      "metadata": {
        "id": "3RtwBJL4_ajr",
        "outputId": "9ac7a8ea-410e-4d35-b470-b837b5fde815",
        "colab": {
          "base_uri": "https://localhost:8080/"
        }
      },
      "execution_count": null,
      "outputs": [
        {
          "output_type": "stream",
          "name": "stdout",
          "text": [
            "Aprende Python 3 en IES Zaidin-Vergeles\n",
            "Aprende 3 en IES Zaidin-Vergeles\n",
            "Aprende Python 3 en IES Zaidin-Vergeles\n"
          ]
        }
      ]
    },
    {
      "cell_type": "markdown",
      "source": [
        "2. **CONVERSION DE TIPO**\n",
        "\n",
        "También conocido como como parseo. Hay ciertos métodos que permiten hacer una conversión explicita del tipo de dato\n",
        "\n",
        "El metodo **int()** permite convertir a tipo entero. Convertir una cadena a entero sólo funcionará si la cadena está  compuesta en exclusiva por números"
      ],
      "metadata": {
        "id": "kd8vkgiaB7mN"
      }
    },
    {
      "cell_type": "code",
      "source": [
        "print(int(\"12\") * 10)  # Cadena a entero\n",
        "print(int(20.6))  # De float a entero, truncando los decimales\n",
        "print(int(False))  # Convierte el booleano a su equivalente en bit, 1 o 0"
      ],
      "metadata": {
        "id": "TgGybzVxC2jw"
      },
      "execution_count": null,
      "outputs": []
    },
    {
      "cell_type": "markdown",
      "source": [
        "El método **float()** hace la conversión a número real con decimales"
      ],
      "metadata": {
        "id": "Ucva6maiDTKS"
      }
    },
    {
      "cell_type": "code",
      "source": [
        "print(float(24))\n",
        "print(float('24.5'))\n",
        "print(float(True)) # Convierte el booleano a su equivalente en bit, 1 o 0 y añade decimales"
      ],
      "metadata": {
        "colab": {
          "base_uri": "https://localhost:8080/"
        },
        "id": "4hRIyEM5Da8Z",
        "outputId": "6673759f-9fbf-4cda-ccda-10e21f990c68"
      },
      "execution_count": null,
      "outputs": [
        {
          "output_type": "stream",
          "name": "stdout",
          "text": [
            "24.0\n",
            "24.5\n",
            "1.0\n"
          ]
        }
      ]
    },
    {
      "cell_type": "markdown",
      "source": [
        "El método **str()** convierte a cadena"
      ],
      "metadata": {
        "id": "FUDdiM1pDzFE"
      }
    },
    {
      "cell_type": "code",
      "source": [
        "print(str(12) + '.345')\n",
        "print(str(False))\n",
        "print(str(12.345) + ' es una cadena')"
      ],
      "metadata": {
        "id": "ORxtg23nD44f"
      },
      "execution_count": null,
      "outputs": []
    },
    {
      "cell_type": "markdown",
      "source": [
        "el método **bool()** devuelve el valor booleano. Una cadena siempre será True a no ser que esté vacía. Para números, como se ha visto anterioremente, la correspondencia en bits es 1 y 0"
      ],
      "metadata": {
        "id": "kGzE1yHcEemO"
      }
    },
    {
      "cell_type": "code",
      "source": [
        "print(bool(10))\n",
        "print(bool(0.0))\n",
        "print(bool(\"Hola\"))\n",
        "print(bool(\"\"))"
      ],
      "metadata": {
        "id": "__tLn3EcGM5r"
      },
      "execution_count": null,
      "outputs": []
    },
    {
      "cell_type": "markdown",
      "source": [
        "El método **ord()** convierte un caracter a su valor Unicode"
      ],
      "metadata": {
        "id": "5JJ_r0xuGiQz"
      }
    },
    {
      "cell_type": "code",
      "source": [
        "print(ord('a'))\n",
        "print(ord('0'))"
      ],
      "metadata": {
        "id": "sWjViLG9Gp9v"
      },
      "execution_count": null,
      "outputs": []
    },
    {
      "cell_type": "markdown",
      "source": [
        "3. **ENTRADA DE DATOS**\n",
        "\n",
        "El método **input()** permite la entrada de datos por parte del usuario. Todo dato que se recoja será almacenado como **cadena**, por tanto los números deberán ser parseados a su tipo correspondiente para poder operar con ellos"
      ],
      "metadata": {
        "id": "Er28fEEWHIS4"
      }
    },
    {
      "cell_type": "code",
      "source": [
        "name = input(\"Cómo te llamas? \")\n",
        "print(\"\\nHola,\", name)"
      ],
      "metadata": {
        "id": "GsBZg5BNHuta"
      },
      "execution_count": null,
      "outputs": []
    },
    {
      "cell_type": "markdown",
      "source": [
        "4. **LAMBDAS**\n",
        "\n",
        "Las lambdas son un tipo especial de función anónima que devuelve ciertos datos. Se definen usando la palabra clave **lambda**. Son usadas cuando una función necesita otra función como argumento"
      ],
      "metadata": {
        "id": "EXuVKlHOH_ki"
      }
    },
    {
      "cell_type": "code",
      "source": [
        "triple = lambda num : num * 3  # Assigning the lambda to a variable\n",
        "\n",
        "print(triple(10))  # Calling the lambda and giving it a parameter\n",
        "\n",
        "concat_strings = lambda a, b, c: a[0] + b[0] + c[0]\n",
        "\n",
        "print(concat_strings(\"World\", \"Wide\", \"Web\"))\n"
      ],
      "metadata": {
        "id": "wEICnyU5LXt2"
      },
      "execution_count": null,
      "outputs": []
    },
    {
      "cell_type": "markdown",
      "source": [
        "5. **FUNCIONES COMO ARGUMENTOS**\n",
        "\n",
        "Ser pueden usar funciones como argumentos de función"
      ],
      "metadata": {
        "id": "H-S1qj5Ze6CW"
      }
    },
    {
      "cell_type": "code",
      "source": [
        "def suma(n1, n2):\n",
        "    return n1 + n2\n",
        "\n",
        "def resta(n1, n2):\n",
        "    return n1 - n2\n",
        "\n",
        "def multiplica(n1, n2):\n",
        "    return n1 * n2\n",
        "\n",
        "def divide(n1, n2):\n",
        "    return n1 / n2\n",
        "\n",
        "def calculadora(operation, n1, n2):\n",
        "    return operation(n1, n2)\n",
        "\n",
        "\n",
        "resultado = calculadora(multiplica, 10, 20)\n",
        "print(resultado)\n",
        "print(calculadora(suma, 10, 20))\n"
      ],
      "metadata": {
        "id": "UmMKeomlf3kL"
      },
      "execution_count": null,
      "outputs": []
    },
    {
      "cell_type": "markdown",
      "source": [
        "El ejercicio anterior puede ser optimizado con el uso de una lambda"
      ],
      "metadata": {
        "id": "Eq1N_OGsgf3R"
      }
    },
    {
      "cell_type": "code",
      "source": [
        "def calculadora(operacion, n1, n2):\n",
        "    return operacion(n1, n2)\n",
        "\n",
        "resultado = calculadora(lambda n1, n2: n1 * n2, 10, 20)\n",
        "\n",
        "print(resultado)\n",
        "\n",
        "print(calculadora(lambda n1, n2: n1 + n2, 10, 20))"
      ],
      "metadata": {
        "colab": {
          "base_uri": "https://localhost:8080/"
        },
        "id": "FLxy4iteglTF",
        "outputId": "f000a9af-d2a2-4718-fe92-cec0bc4cff25"
      },
      "execution_count": null,
      "outputs": [
        {
          "output_type": "stream",
          "name": "stdout",
          "text": [
            "200\n",
            "30\n"
          ]
        }
      ]
    },
    {
      "cell_type": "markdown",
      "source": [
        "6. **RECURSIVIDAD**\n",
        "\n",
        "La recursividad es el proceso en el que una función se llama a si misma dentro de la ejecución. Cada llamada crea un nuevo ámbito de actuación a un nivel más profundo"
      ],
      "metadata": {
        "id": "OQwqXq1ZhNt3"
      }
    },
    {
      "cell_type": "code",
      "source": [
        "def rec_cont(numero):\n",
        "    print(numero)\n",
        "    if numero == 0:\n",
        "        return 0\n",
        "    rec_cont(numero - 1)  # Se llama a si misma con un argumento distino\n",
        "    print(numero)\n",
        "\n",
        "\n",
        "rec_cont(5)"
      ],
      "metadata": {
        "id": "sZGFwL0hiw5f"
      },
      "execution_count": null,
      "outputs": []
    },
    {
      "cell_type": "markdown",
      "source": [
        "**BUCLES**\n",
        "\n",
        "Los bucles son estructuras de control que ejecutan un conjunto de instrucciones un determinado número de veces. Evitan tener que repetir código de instrucciónes que se tienen que ejecutar más de una vez. Una de sus grandes ventajas es la capacidad de iterar sobre cirtas estructuras de datos, tales como cadenas, listas o tuplas entre otras. Los dos bucles que se utilizan en Python son:\n",
        "\n",
        "- For\n",
        "- While\n",
        "\n",
        "\n",
        "1. **FOR**\n",
        "\n",
        "Un bucle for consta de un iterador que recorre una secuencia, tal como números de un rango o elementos de una lista. Se compone de:\n",
        "- El nombre del iterador\n",
        "- La secuencia a recorrer\n",
        "- el bloque de operaciones a realizar\n",
        "\n",
        "Comienza por la palabra **for**. La palabra **in** indica que iterará por los elementos de la estructura que incluye. Todo el bloque de acciones irá indentado\n",
        "\n",
        "Python dispone de una funcion **range()** que crea una secuencia de enteros que puede ser recorrida, Permite indicar un comienzo, un fin y el salto entre paso. Si no se indica nada, comienza en **0**, el número del final **NO** se ejecuta\n"
      ],
      "metadata": {
        "id": "9qZSarE1jnVk"
      }
    },
    {
      "cell_type": "code",
      "source": [
        "for i in range(1, 11):  # Secuencia de 1 a 10\n",
        "    if i % 2 == 0:\n",
        "        print(i, \" es par\")\n",
        "    else:\n",
        "        print(i, \" es impar\")"
      ],
      "metadata": {
        "id": "RhebGZuvjcAy"
      },
      "execution_count": null,
      "outputs": []
    },
    {
      "cell_type": "markdown",
      "source": [
        "Para iterar sobre una lista, cadena o array, el iterador cogerá el valor del índice"
      ],
      "metadata": {
        "id": "W0e4R_Aej7tW"
      }
    },
    {
      "cell_type": "code",
      "source": [
        "float_list = [2.5, 16.42, 10.77, 8.3, 34.21]\n",
        "mayor_que_10 = 0\n",
        "\n",
        "for num in float_list: # El iterador recorrerá toda la lista\n",
        "    if num > 10:\n",
        "        mayor_que_10 += 1\n",
        "\n",
        "print(mayor_que_10)"
      ],
      "metadata": {
        "id": "1lWppL-Xkg8H"
      },
      "execution_count": null,
      "outputs": []
    },
    {
      "cell_type": "markdown",
      "source": [
        "Se pueden anidar bucles for. Para cada iteración del bucle principal, se realizará un bucle completo (salvo que se interrumpa) del bucle anidado. El bucle anidado siempre tiene que finalizar su acción para que el bucle principal avance a la siguiente iteración"
      ],
      "metadata": {
        "id": "xkQpHe2llNS6"
      }
    },
    {
      "cell_type": "code",
      "source": [
        "n = 50\n",
        "num_list = [10, 25, 4, 23, 6, 18, 27, 47]\n",
        "\n",
        "for n1 in num_list:\n",
        "    for n2 in num_list:  # Ahora hay 2 iteradores\n",
        "        if(n1 != n2):\n",
        "            if(n1 + n2 == n):\n",
        "                print(n1, n2)"
      ],
      "metadata": {
        "id": "MMUnKy8olnod"
      },
      "execution_count": null,
      "outputs": []
    },
    {
      "cell_type": "markdown",
      "source": [
        "Se puede interrumpir completamente un bucle con la orden **break**. Por contra, se puede indicar que se dejen de ejecutar las sentencias del bloque y que se pase a la siguiente iteración del bucle con la orden **continue**. Tambien existe la palabras **pass**, que no realiza nada pero puede ser usada como placeholder cuando se necesite escribir código que todavía no ha sido implementado"
      ],
      "metadata": {
        "id": "4zD0pjksnoe1"
      }
    },
    {
      "cell_type": "code",
      "source": [
        "n = 10\n",
        "x = 4\n",
        "found = False  # Pasará a True si se encuentra el número\n",
        "\n",
        "for i in range(0, n):\n",
        "  if x == i+1:\n",
        "      found = True\n",
        "      print(\"Numero encontrado\")\n",
        "      break # Puesto que se ha encontrado, no tiene sentido iterar el bucle hasta el final\n",
        "else:\n",
        "    print(\"Numero no encontrado\")"
      ],
      "metadata": {
        "id": "kKvRfsAVofTT"
      },
      "execution_count": null,
      "outputs": []
    },
    {
      "cell_type": "code",
      "source": [
        "for i in range(0, 10):\n",
        "    if i%2 == 0:\n",
        "        continue # Se salta los números pares\n",
        "    print(i) # Imprime sólo los numeros impares"
      ],
      "metadata": {
        "id": "-LVDHKedo6cC"
      },
      "execution_count": null,
      "outputs": []
    },
    {
      "cell_type": "markdown",
      "source": [
        "2. **WHILE**\n",
        "\n",
        "El bucle **while** repite un bloque de acciones mientras siempre y cuando se mantenga una evaluación lógica como **True**. En cada iteración, la condición que se evalua debe de ser cambiada o el bucle nunca terminará. "
      ],
      "metadata": {
        "id": "odliQKbOqJGt"
      }
    },
    {
      "cell_type": "code",
      "source": [
        "n = 11  # Puede ser cualquier número\n",
        "power = 0\n",
        "val = n\n",
        "while val < 1000:\n",
        "    power += 1\n",
        "    val *= n\n",
        "print(power)"
      ],
      "metadata": {
        "id": "Z1CXsglLq80i"
      },
      "execution_count": null,
      "outputs": []
    },
    {
      "cell_type": "markdown",
      "source": [
        "Al igual que con for, las palabras break, continue y pass pueden ser usadas."
      ],
      "metadata": {
        "id": "OX6-V4GhrZLn"
      }
    },
    {
      "cell_type": "markdown",
      "source": [
        "**ESTRUCTURAS DE DATOS**\n",
        "\n",
        "Una estructura de datos es una manera de almacenar y organizar datos acorde a cierta forma. Las estructuras de datos en Python son:\n",
        "- Lista\n",
        "- Tupla\n",
        "- Diccionario\n",
        "- Conjunto\n",
        "\n",
        "**1. LISTAS**\n",
        "\n",
        "Es el tipo más comun, permite guardar elementos de distinto tipo en un contenedor. El contenido de una lista está encerrado entre corchetes **[]**. Al igual que las cadenas de texto, las listas tienen un orden indexado."
      ],
      "metadata": {
        "id": "fdzEKK0yur95"
      }
    },
    {
      "cell_type": "code",
      "source": [
        "jon_snow = [\"Jon Snow\", \"Winterfell\", 30]\n",
        "print(jon_snow)\n",
        "\n",
        "# Indexing\n",
        "print(jon_snow[0])\n",
        "\n",
        "# Length\n",
        "print(len(jon_snow))\n"
      ],
      "metadata": {
        "id": "N5NAAoyWwBa2"
      },
      "execution_count": null,
      "outputs": []
    },
    {
      "cell_type": "markdown",
      "source": [
        "Una lista puede contener otras listas dentro, a las que se puede acceder mediante indexación secuencial"
      ],
      "metadata": {
        "id": "DP2F5aX8wWcX"
      }
    },
    {
      "cell_type": "code",
      "source": [
        "world_cup_winners = [[2006, \"Italy\"], [2010, \"Spain\"],\n",
        "                     [2014, \"Germany\"], [2018, \"France\"]]\n",
        "print(world_cup_winners[1]) # Accediendo a [2010, \"Spain\"]\n",
        "print(world_cup_winners[1][1])  # Accediendo a Spain\n",
        "print(world_cup_winners[1][1][0])  # Accediendo a 'S'\n"
      ],
      "metadata": {
        "id": "QwKccH2hwkEm"
      },
      "execution_count": null,
      "outputs": []
    },
    {
      "cell_type": "markdown",
      "source": [
        "Las listas se pueden unir de dos formas, tanto con la suma de varias listas como a través de la propiedad **extend()** de una lista"
      ],
      "metadata": {
        "id": "lkalsL2Zw-jD"
      }
    },
    {
      "cell_type": "code",
      "source": [
        "part_A = [1, 2, 3, 4, 5]\n",
        "part_B = [6, 7, 8, 9, 10]\n",
        "merged_list = part_A + part_B # Se realiza la suma de ambas y se almacena en una nueva lista\n",
        "print(merged_list)\n",
        "\n",
        "part_C = [1, 2, 3, 4, 5]\n",
        "part_D = [6, 7, 8, 9, 10]\n",
        "part_C.extend(part_D) # Se añade la lista D a la lista C\n",
        "print(part_C)\n"
      ],
      "metadata": {
        "id": "eP8TcgcBxPJ6"
      },
      "execution_count": null,
      "outputs": []
    },
    {
      "cell_type": "markdown",
      "source": [
        "1.1 **OPERACIONES CON LISTAS**\n",
        "\n",
        "Se pueden añadir elementos con la propiedad **append()**, que añade un nuevo elemento al final de la lista"
      ],
      "metadata": {
        "id": "HvOrqfDKxv6e"
      }
    },
    {
      "cell_type": "code",
      "source": [
        "num_list = []  # Se inicializa una lista vacia\n",
        "num_list.append(1)\n",
        "num_list.append(2)\n",
        "num_list.append(3)\n",
        "print(num_list)\n"
      ],
      "metadata": {
        "id": "qaqL9fPt0U7F"
      },
      "execution_count": null,
      "outputs": []
    },
    {
      "cell_type": "markdown",
      "source": [
        "En cambio, si se desea añadir un elemento en una posición concreta, se usa la propiedad **insert()**"
      ],
      "metadata": {
        "id": "lWBlZTha0ede"
      }
    },
    {
      "cell_type": "code",
      "source": [
        "num_list = [1, 2, 3, 5, 6]\n",
        "num_list.insert(3, 4)  # Inserta 4 en la posicion de índice 3. Por tanto 5 y 6 son desplazados hacia el final\n",
        "print(num_list)"
      ],
      "metadata": {
        "id": "INFNWPom0zTE"
      },
      "execution_count": null,
      "outputs": []
    },
    {
      "cell_type": "markdown",
      "source": [
        "Para eliminar elementos de una lista, se puede usar la propiedad **pop()**, que elimina el último elemento además de devolverlo y poder almacenarlo"
      ],
      "metadata": {
        "id": "dB0WrSrN1K4g"
      }
    },
    {
      "cell_type": "code",
      "source": [
        "casas = [\"Gryffindor\", \"Hufflepuff\", \"Ravenclaw\", \"Slytherin\"]\n",
        "ultima_casa = casas.pop()\n",
        "print(ultima_casa)\n",
        "print(casas)\n"
      ],
      "metadata": {
        "id": "2h4nQa4y1cmV"
      },
      "execution_count": null,
      "outputs": []
    },
    {
      "cell_type": "markdown",
      "source": [
        "Para eliminar un elemento concreto se usa la propiedad **remove()**"
      ],
      "metadata": {
        "id": "bMj2QgU01tOq"
      }
    },
    {
      "cell_type": "code",
      "source": [
        "casas = [\"Gryffindor\", \"Hufflepuff\", \"Ravenclaw\", \"Slytherin\"]\n",
        "print(casas)\n",
        "casas.remove(\"Ravenclaw\")\n",
        "print(casas)\n",
        "\n",
        "# Para listas anidadas\n",
        "populations = [[\"Winterfell\", 10000], [\"King's Landing\", 50000],\n",
        "               [\"Iron Islands\", 5000]]\n",
        "print(populations)\n",
        "populations.remove([\"King's Landing\", 50000])\n",
        "print(populations)\n"
      ],
      "metadata": {
        "id": "sWvY9yXC2gow"
      },
      "execution_count": null,
      "outputs": []
    },
    {
      "cell_type": "markdown",
      "source": [
        "Se puede extraer un conjunto de elementos de una lista mediante el uso de rangos. Esto se conoce como \"troceado de listas\" o \"list slicing\" "
      ],
      "metadata": {
        "id": "X7J3snZ426mY"
      }
    },
    {
      "cell_type": "code",
      "source": [
        "num_list = [1, 2, 3, 4, 5, 6, 7, 8]\n",
        "print(num_list[2:5])\n",
        "print(num_list[0::2])\n"
      ],
      "metadata": {
        "id": "ep6jOLb-3Nw9"
      },
      "execution_count": null,
      "outputs": []
    },
    {
      "cell_type": "markdown",
      "source": [
        "Al igual que se puede acceder a un elemento de una lista a través de su índice, se puede averiguar el índice de un elemento concreto a través del método **index()** así como la presencia de un elemento con **in** o **not in**"
      ],
      "metadata": {
        "id": "evPq2JFL3fmV"
      }
    },
    {
      "cell_type": "code",
      "source": [
        "cities = [\"London\", \"Paris\", \"Los Angeles\", \"Beirut\"]\n",
        "print(cities.index(\"Los Angeles\"))  # Está en la posicion de indice 2\n",
        "\n",
        "cities = [\"London\", \"Paris\", \"Los Angeles\", \"Beirut\"]\n",
        "print(\"London\" in cities)\n",
        "print(\"Moscow\" not in cities)\n"
      ],
      "metadata": {
        "id": "AcNGQeSf4AFq"
      },
      "execution_count": null,
      "outputs": []
    },
    {
      "cell_type": "markdown",
      "source": [
        "Finalmente, una lista puede ser ordenada de manera ascendente con el metodo **sort()**. Para ordenarse de manera descendente se le debe pasar el parámetro **reverse=True**"
      ],
      "metadata": {
        "id": "EWOz7_W-4S3r"
      }
    },
    {
      "cell_type": "code",
      "source": [
        "num_list = [20, 40, 10, 50.4, 30, 100, 5]\n",
        "num_list.sort()\n",
        "print(num_list)\n",
        "\n",
        "num_list2 = [20, 40, 10, 50.4, 30, 100, 5]\n",
        "num_list2.sort(reverse = True)\n",
        "print(num_list2)\n"
      ],
      "metadata": {
        "id": "h6Vac_5640FC"
      },
      "execution_count": null,
      "outputs": []
    },
    {
      "cell_type": "markdown",
      "source": [
        "2. **TUPLAS**\n",
        "\n",
        "Una tupla es una estructura similar a una lista cuyo contenido no puede ser cambiado. Sus elementos están contenidos entre paréntesis **()**. Igual que las listas, tiene un orden indexado, se pueden unir para formar una nueva tupla y se pueden anidar tuplas dentro de otras tuplas"
      ],
      "metadata": {
        "id": "JrtvWSffcrWq"
      }
    },
    {
      "cell_type": "code",
      "source": [
        "car = (\"Ford\", \"Raptor\", 2019, \"Red\")\n",
        "print(car)\n",
        "\n",
        "# Longitud\n",
        "print(len(car))\n",
        "\n",
        "# Indexacion\n",
        "print(car[1])\n",
        "\n",
        "# Troceo\n",
        "print(car[2:])\n",
        "\n",
        "\n",
        "hero1 = (\"Batman\", \"Bruce Wayne\")\n",
        "hero2 = (\"Wonder Woman\", \"Diana Prince\")\n",
        "awesome_team = hero1 + hero2\n",
        "print(awesome_team)"
      ],
      "metadata": {
        "id": "o-BrsSYAd3-n"
      },
      "execution_count": null,
      "outputs": []
    },
    {
      "cell_type": "markdown",
      "source": [
        "3. **DICCIONARIOS**\n",
        "\n",
        "Un diccionario alberga parejas clave-valor en las cuales la clave funciona como índice del valor asociado. No siguen un orden específico ya que la clave es el propio índice. El contenido de los diccionarios está encerrado entre llaves **{}** y los dos elementos de la pareja separados por **:**\n",
        "Los diccionarios cuentan con un constructor **dict()** que permiten distintas formas de inicializarse"
      ],
      "metadata": {
        "id": "CDdRliJseP1g"
      }
    },
    {
      "cell_type": "code",
      "source": [
        "vacio = {}  # Diccionario vacío\n",
        "print(vacio)\n",
        "\n",
        "phone_book = {\"Batman\": 468426,\n",
        "              \"Cersei\": 237734,\n",
        "              \"Ghostbusters\": 44678}\n",
        "print(phone_book)\n",
        "\n",
        "phone_book2 = dict(Batman=468426, Cersei=237734, Ghostbusters=44678)\n",
        "print(phone_book2)\n",
        "\n",
        "phone_book3 = dict([('Batman', 468426),\n",
        "                   ('Cersei', 237734),\n",
        "                   ('Ghostbusters', 44678)])\n",
        "print(phone_book3)"
      ],
      "metadata": {
        "id": "6SltLdkqfY3G"
      },
      "execution_count": null,
      "outputs": []
    },
    {
      "cell_type": "markdown",
      "source": [
        "Para acceder a cualquier valor del diccionario, el acceso se hará mediante su clave, bien usándola como índice o bien con el atributo **get()**"
      ],
      "metadata": {
        "id": "FW21uWw2gwXx"
      }
    },
    {
      "cell_type": "code",
      "source": [
        "phone_book = {\"Batman\": 468426,\n",
        "              \"Cersei\": 237734,\n",
        "              \"Ghostbusters\": 44678}\n",
        "print(phone_book[\"Cersei\"])\n",
        "print(phone_book.get(\"Ghostbusters\"))"
      ],
      "metadata": {
        "id": "Q0inMroWhMF9"
      },
      "execution_count": null,
      "outputs": []
    },
    {
      "cell_type": "markdown",
      "source": [
        "3.1 **OPERACIONES CON DICCIONARIOS**\n",
        "\n",
        "Para añadir nuevas entradas al diccionario basta con añadirle un valor a una clave. Si la clave ya existe, el valor se actualizará"
      ],
      "metadata": {
        "id": "6G2XoX9XhlgM"
      }
    },
    {
      "cell_type": "code",
      "source": [
        "phone_book = {\"Batman\": 468426,\n",
        "              \"Cersei\": 237734,\n",
        "              \"Ghostbusters\": 44678}\n",
        "print(phone_book)\n",
        "\n",
        "phone_book[\"Godzilla\"] = 46394  # Nueva entrada\n",
        "print(phone_book)\n",
        "\n",
        "phone_book[\"Godzilla\"] = 9000  # Se actualiza el valor\n",
        "print(phone_book)"
      ],
      "metadata": {
        "id": "LhFCof3Nh_aR"
      },
      "execution_count": null,
      "outputs": []
    },
    {
      "cell_type": "markdown",
      "source": [
        "Para eliminar una entrada del diccionario, se usa la sentencia **del**. Igual que con las listas, el método **pop()** eliminará el registro a la par que devuelve el valor. Al no estar ordenados, en este caso no elimina el último registro y hay que especificarle la clave del registro a eliminar"
      ],
      "metadata": {
        "id": "yOizcmaliMPQ"
      }
    },
    {
      "cell_type": "code",
      "source": [
        "phone_book = {\"Batman\": 468426,\n",
        "              \"Cersei\": 237734,\n",
        "              \"Ghostbusters\": 44678}\n",
        "print(phone_book)\n",
        "\n",
        "del phone_book[\"Batman\"]\n",
        "print(phone_book)\n",
        "\n",
        "phone_book2 = {\"Batman\": 468426,\n",
        "              \"Cersei\": 237734,\n",
        "              \"Ghostbusters\": 44678}\n",
        "print(phone_book2)\n",
        "\n",
        "cersei = phone_book2.pop(\"Cersei\")\n",
        "print(phone_book2)\n",
        "print(cersei)"
      ],
      "metadata": {
        "id": "jRdt6puwiwiE"
      },
      "execution_count": null,
      "outputs": []
    },
    {
      "cell_type": "markdown",
      "source": [
        "Se puede comprobar la longitud de un diccionario así como la existencia o no de elementos"
      ],
      "metadata": {
        "id": "YzSY3SPijNMr"
      }
    },
    {
      "cell_type": "code",
      "source": [
        "phone_book = {\"Batman\": 468426,\n",
        "              \"Cersei\": 237734,\n",
        "              \"Ghostbusters\": 44678}\n",
        "print(len(phone_book))\n",
        "\n",
        "print(\"Batman\" in phone_book)\n",
        "print(\"Godzilla\" in phone_book)"
      ],
      "metadata": {
        "id": "eR0xKjc0jfpV"
      },
      "execution_count": null,
      "outputs": []
    },
    {
      "cell_type": "markdown",
      "source": [
        "Otra forma de añadir contenido a un diccionario es copiarndo el contenido de otro diccionario mediante **update()**"
      ],
      "metadata": {
        "id": "cLwDxiFjj-hw"
      }
    },
    {
      "cell_type": "code",
      "source": [
        "phone_book = {\"Batman\": 468426,\n",
        "              \"Cersei\": 237734,\n",
        "              \"Ghostbusters\": 44678}\n",
        "\n",
        "second_phone_book = {\"Catwoman\": 67423, \"Jaime\": 237734, \"Godzilla\": 37623}\n",
        "\n",
        "phone_book.update(second_phone_book)\n",
        "print(phone_book)"
      ],
      "metadata": {
        "id": "lWjKvlB0kOWM"
      },
      "execution_count": null,
      "outputs": []
    },
    {
      "cell_type": "markdown",
      "source": [
        "4. **CONJUNTOS**\n",
        "\n",
        "Un conjunto es un grupo desordenado de datos que pueden ser de todo tipo. Sus elementos son **inmutables**, por lo que se suelen usar como **constantes**. Al estar desordenados, no se puede usar indexación aunque sí que pueden ser iterados con un bucle for, aunque el orden será totalmente aleatorio. El contenido va encerrado entre llaves **{}** pero a diferencia del diccionario, los elementos no tienen que ser parejas clave-valor"
      ],
      "metadata": {
        "id": "8AnETNl0mjyy"
      }
    },
    {
      "cell_type": "code",
      "source": [
        "random_set = {\"Educative\", 1408, 3.142,\n",
        "              (True, False)} # Este conjunto contiene una cadena, un entero, un real y una tupla de booleanos\n",
        "print(random_set)\n",
        "print(len(random_set)) "
      ],
      "metadata": {
        "id": "e3qrNaJUnsUl"
      },
      "execution_count": null,
      "outputs": []
    },
    {
      "cell_type": "markdown",
      "source": [
        "Los conjuntos cuentan con un constructor **set()** que nos permite distintas inicializaciones, tales como un conjunto vacío al que añadir elementos. Para añadir elementos se usa el método **add()** para un solo elemento o el método **update()** cuando que quieren añadir varios"
      ],
      "metadata": {
        "id": "SqzesWaAo9Cf"
      }
    },
    {
      "cell_type": "code",
      "source": [
        "vacio = set()\n",
        "print(vacio)\n",
        "\n",
        "aleatorio = set({\"Educative\", 1408, 3.142, (True, False)})\n",
        "print(aleatorio)\n",
        "\n",
        "vacio.add(1)\n",
        "print(vacio)\n",
        "\n",
        "vacio.update([2, 3, 4, 5, 6])\n",
        "print(vacio)\n",
        "\n",
        "lista = [\"sota\", \"caballo\", \"rey\"]\n",
        "figuras = set(lista)\n",
        "print(figuras)"
      ],
      "metadata": {
        "id": "M-JlEoRYpkZR"
      },
      "execution_count": null,
      "outputs": []
    },
    {
      "cell_type": "markdown",
      "source": [
        "Para eliminar elementos del conjunto, se usan los métodos **discard()** y **remove()**. La diferencia entre ambos es que remove lanza un error si no encuentra el elemento"
      ],
      "metadata": {
        "id": "hGMi796ArMjP"
      }
    },
    {
      "cell_type": "code",
      "source": [
        "aleatorio = set({\"Educative\", 1408, 3.142, (True, False)})\n",
        "print(aleatorio)\n",
        "\n",
        "aleatorio.discard(1408)\n",
        "print(aleatorio)\n",
        "\n",
        "aleatorio.remove((True, False))\n",
        "print(aleatorio)\n"
      ],
      "metadata": {
        "id": "SH-0SFMBr31W"
      },
      "execution_count": null,
      "outputs": []
    },
    {
      "cell_type": "markdown",
      "source": [
        "4.1 **OPERACIONES DE TEORÍA DE CONJUNTOS**\n",
        "\n",
        "Al igual que en matemáticas, se pueden realizar ciertas operaciones de teoría de conjuntos, tales como la unión, la intersección y la diferencia\n",
        "\n",
        "La **unión** es el conjunto de los todos los elementos únicos de ambos conjuntos. Se realiza con el operador tubería **|** o bien con el metodo **union()**"
      ],
      "metadata": {
        "id": "fUvBBnpGsvr8"
      }
    },
    {
      "cell_type": "code",
      "source": [
        "set_A = {1, 2, 3, 4}\n",
        "set_B = {'a', 'b', 'c', 'd'}\n",
        "\n",
        "print(set_A | set_B)\n",
        "print(set_A.union(set_B))\n",
        "print(set_B.union(set_A))\n"
      ],
      "metadata": {
        "id": "bD6Ur8KZtYJ0"
      },
      "execution_count": null,
      "outputs": []
    },
    {
      "cell_type": "markdown",
      "source": [
        "La **intersección** es el conjunto de todos los elementos que están presentes en ambos conjuntos. Se realiza con el operador ampersand **&** o bien con el método **intersection()**"
      ],
      "metadata": {
        "id": "dpYPQC7it6yc"
      }
    },
    {
      "cell_type": "code",
      "source": [
        "set_A = {1, 2, 3, 4}\n",
        "set_B = {2, 8, 4, 16}\n",
        "\n",
        "print(set_A & set_B)\n",
        "print(set_A.intersection(set_B))\n",
        "print(set_B.intersection(set_A))"
      ],
      "metadata": {
        "id": "u3izJA4mueVb"
      },
      "execution_count": null,
      "outputs": []
    },
    {
      "cell_type": "markdown",
      "source": [
        "La diferencia es el es el conjunto de elementos que sólo estan en el primer conjunto pero no en el segundo, por tanto la posición de ambos en la operación afecta al resultado. Se realiza con el operador de resta **-** o con el método **difference()**"
      ],
      "metadata": {
        "id": "VGJIx4iEvhL1"
      }
    },
    {
      "cell_type": "code",
      "source": [
        "set_A = {1, 2, 3, 4}\n",
        "set_B = {2, 8, 4, 16}\n",
        "\n",
        "\n",
        "print(set_A - set_B)\n",
        "print(set_A.difference(set_B))\n",
        "\n",
        "print(set_B - set_A)\n",
        "print(set_B.difference(set_A))"
      ],
      "metadata": {
        "id": "4pWZ-tfcv_7P"
      },
      "execution_count": null,
      "outputs": []
    },
    {
      "cell_type": "markdown",
      "source": [
        "**IMPORTAR MÓDULOS**\n",
        "\n",
        "La PSL (Librería Estandar de Python) es una colección de módulos predefinidos que pueden ayudarnos a realizar ciertas tareas. Generalmente un módulo está compuesto por una cantidad de métodos y funciones relacionadas con un aspecto concreto de la programación.\n",
        "\n",
        "Para importar el módulo, se usa la palabra clave **import** al principio del código (como buena práctica)"
      ],
      "metadata": {
        "id": "Cbq7OY7ZyTq5"
      }
    },
    {
      "cell_type": "code",
      "source": [
        "import datetime\n",
        "\n",
        "date_today = datetime.date.today()  # Fecha actual\n",
        "print(date_today)\n",
        "\n",
        "time_today = datetime.datetime.now()\n",
        "print(time_today.strftime(\"%H:%M:%S\"))  # Hora actual"
      ],
      "metadata": {
        "id": "9lv4fz9nziC1"
      },
      "execution_count": null,
      "outputs": []
    },
    {
      "cell_type": "markdown",
      "source": [
        "Si en lugar de un módulo completo se quiere importar una clase concreta, se menciona la clase a importar seguida de **from** y el módulo a la que pertenece"
      ],
      "metadata": {
        "id": "bpwkM5qQz4j2"
      }
    },
    {
      "cell_type": "code",
      "source": [
        "from datetime import date\n",
        "\n",
        "# A diferencia del ejemplo anterior, que usaba dos clases distintas, ahora solo importamos una de ellas\n",
        "date_today = date.today()  # Fecha actual\n",
        "print(date_today)\n",
        "\n",
        "# Este fragmento de código no funcionaría puesto que no se ha importado la clase propietaria del método usado\n",
        "# time_today = datetime.datetime.now()\n",
        "# print (time_today.strftime(\"%H:%M:%S\"))# Current time"
      ],
      "metadata": {
        "id": "XUF6WuP20JHy"
      },
      "execution_count": null,
      "outputs": []
    },
    {
      "cell_type": "markdown",
      "source": [
        "Para un uso más cómodo de los módulos importados, se pueden renombrar en el momento de la importación"
      ],
      "metadata": {
        "id": "p1Lw_a6R0qLa"
      }
    },
    {
      "cell_type": "code",
      "source": [
        "import datetime as dt\n",
        "\n",
        "date_today = dt.date.today()\n",
        "print(date_today)\n",
        "\n",
        "time_today = dt.datetime.now()\n",
        "print(time_today.strftime(\"%H:%M:%S\"))"
      ],
      "metadata": {
        "id": "CRqo_5Zm0110"
      },
      "execution_count": null,
      "outputs": []
    },
    {
      "cell_type": "markdown",
      "source": [
        "Algunos módulos interesantes de uso frecuente son:\n",
        "\n",
        "- **math**, que ofrece un conjunto de métodos matematicos factoriales, trigonométricos...\n",
        "- **heapq**, que permite la creación heaps, una estructura de datos de árboles binarios\n",
        "- **random**, un generador de números aleatorios\n"
      ],
      "metadata": {
        "id": "6oS91Agc1AJo"
      }
    },
    {
      "cell_type": "markdown",
      "source": [
        "Además de los módulos incluidos en la PLS, existen una infinidad de módulos externos de lo más variada. Estos módulos se conocen como Packages o paquetes, Se pueden encontrar en el **Python Package Index** o **PyPI**. \n",
        "\n",
        "Algunos de los más populares paquetes de Python:\n",
        "\n",
        "- **NumPy** para el proceso de arrays\n",
        "- **Django** como framework para web\n",
        "- **Request** para comunicaciones HTTP\n",
        "- **Scrapy** como herramienta de \"webscraping\"\n",
        "- **pyGame** para el desarrollo de juegos 2D"
      ],
      "metadata": {
        "id": "je2CTday2W5U"
      }
    }
  ]
}