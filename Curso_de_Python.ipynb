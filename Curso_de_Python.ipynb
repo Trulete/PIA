{
  "nbformat": 4,
  "nbformat_minor": 0,
  "metadata": {
    "colab": {
      "provenance": [],
      "authorship_tag": "ABX9TyOIec8HPx0wUBf4boTW9jx5",
      "include_colab_link": true
    },
    "kernelspec": {
      "name": "python3",
      "display_name": "Python 3"
    },
    "language_info": {
      "name": "python"
    }
  },
  "cells": [
    {
      "cell_type": "markdown",
      "metadata": {
        "id": "view-in-github",
        "colab_type": "text"
      },
      "source": [
        "<a href=\"https://colab.research.google.com/github/Trulete/PIA/blob/main/Curso_de_Python.ipynb\" target=\"_parent\"><img src=\"https://colab.research.google.com/assets/colab-badge.svg\" alt=\"Open In Colab\"/></a>"
      ]
    },
    {
      "cell_type": "code",
      "execution_count": null,
      "metadata": {
        "id": "CkGK0bGw9QN8"
      },
      "outputs": [],
      "source": []
    },
    {
      "cell_type": "markdown",
      "source": [
        "**INTRODUCCION**\n",
        "\n",
        "Python es un lenguaje de programación de propósito general, por lo que no se centra en ningún aspecto específico de la programación\n",
        "\n",
        "Sus principales características son las siguientes:\n",
        "\n",
        "- Es un lenguaje de **alto nivel**, es decir, no puede ser interpretado directamente por las máquinas sin una conversión previa\n",
        "\n",
        "- Su sintaxis es muy simple, asemejándose mucho al inglés, haciendo su legibilidad, aprendizaje y comprensión una tarea sencilla (baja curva de aprendizaje)\n",
        "\n",
        "- Se trata de un lenguaje **interpretado**, por tanto no necesita ser compilado en un ejecutable. Su código se puede ejecutar linea por linea directamente\n",
        "\n",
        "Actualmente el lenguaje se encuentra en su **Versión 3**\n",
        "\n",
        "**IMPRESION DE DATOS**\n",
        "\n",
        "La función para imprimir en pantalla es **print()**. Esta funcion permite imprimir varios elementos, separando los argumentos con comas (,)\n",
        "\n",
        "El sistema de comentarios consiste en el uso de **hash/almohadilla (#)** al comienzo de cada linea de comentario o comentarios multilinea con un bloque abierto y cerrado con triples comillas.\n"
      ],
      "metadata": {
        "id": "r7bE0E_89o6y"
      }
    },
    {
      "cell_type": "code",
      "source": [
        "print(\"Hello World\")\n",
        "\n",
        "print(50, 1000, 3.142, \"Hello World\")\n"
      ],
      "metadata": {
        "id": "o9HucWsCe1u9"
      },
      "execution_count": null,
      "outputs": []
    },
    {
      "cell_type": "markdown",
      "source": [
        "**TIPOS DE DATOS**\n",
        "\n",
        "Python trabaja con 3 tipos de datos fundamentales: Números, strings y booleanos. A pesar de ser un lenguaje fuertemente tipado, apenas hace énfasis en la definicion de los tipos cuando se declaran variables\n",
        "\n",
        "Sobre las reglas de nombrado (y estilo) de variables, aplican las siguientes:\n",
        "\n",
        "- Deben de comenzar con una letra, mayuscula o minúscula\n",
        "- Python es \"CASE SENSITIVE\" por lo que diferencia entre mayúsculas y minúsculas\n",
        "- Pueden contener números, pero NUNCA como primer carácter del nombre\n",
        "- Se puede usar el snakecase/barra baja (_) en cualquier lugar, incluso al principio\n",
        "- No se permiten los espacios, en su lugar se usa la citada barra baja (_)\n",
        "\n",
        "1. **NÚMEROS**\n",
        "\n",
        "Enteros: comprende números enteros, tanto positivos como negativos. La cantidad de memoria usada por la variable dependerá de su valor\n",
        "\n",
        "De coma flotante: tambien conocidos como \"floats\" comprende números con decimales, tanto positivos como negativos, permitiendo una gran cantidad de decimales.\n",
        "\n",
        "Complejos: son números con una parte real y una imaginaria. Se usan mediante la función **complex()**, a la que se le pasan dos parámetros, uno la parte real y otro la imaginaria"
      ],
      "metadata": {
        "id": "xRLaJzQd_6At"
      }
    },
    {
      "cell_type": "code",
      "source": [
        "print(5)  # Entero positivo\n",
        "print(-500)  # A negative integer\n",
        "\n",
        "num = 123456789  # Asignación de entero a una variable\n",
        "print(num)\n",
        "num = -16000  # Nueva asignación\n",
        "print(num)\n",
        "\n",
        "print(1.00000000005)  # un float positivo\n",
        "print(-85.6701)  # Un float negativo\n",
        "\n",
        "flt_pt = 1.23456789  #Asignación\n",
        "print(flt_pt)\n",
        "\n",
        "print(complex(10, 20))  # Representa el número complejo (10 + 20j)\n",
        "print(complex(2.5, -18.2))  # Representa el número complejo (2.5 - 18.2j)\n",
        "\n",
        "complex_1 = complex(0, 2)\n",
        "complex_2 = complex(2, 0)\n",
        "print(complex_1)\n",
        "print(complex_2)\n"
      ],
      "metadata": {
        "id": "_bLQ83cLkuRe"
      },
      "execution_count": null,
      "outputs": []
    },
    {
      "cell_type": "markdown",
      "source": [
        "2. **BOOLEANOS**\n",
        "\n",
        "Es un tipo de dato que puede tener sólo dos valores: **True** y **False**. Se usa para evaluar lógica y comparación de datos\n",
        "\n",
        "3. **STRINGS O CADENAS**\n",
        "\n",
        "Una cadena es un grupo de caracteres, aunque una variable cadena puede estar formada por un sólo caracter o incluso estar vacía. Dicho grupo está acotado por comillas simples, dobles o triples. Los espacios en blanco también son considerados un caracter.\n",
        "\n",
        "Podemos obtener su longitud gracias a la función **len()**\n",
        "\n",
        "Las cadenas usan una indexación en la que el primer elemento de la cadena tendrá el índice **0**. Se puede acceder al elemento que queramos de la cadena a través de su índice en corchetes. También se puede realizar una indexación inversa comenzando por el último elemento, cuyo índice es **-1**\n",
        "\n",
        "Las cadenas son inmutables, por lo que una vez asignado un valor no se pueden modificar. Si se hiciese una nueva asignación de valor, el identificador sería distinto, dejando claro que se trata de un nuevo elemento\n"
      ],
      "metadata": {
        "id": "Hi5xbve3lxuh"
      }
    },
    {
      "cell_type": "code",
      "source": [
        "mi_cadena = \"Hola Mundo\"  # 10 caracteres\n",
        "print(len(mi_cadena))\n",
        "\n",
        "Python = \"Es el lenguaje que estamos aprendiendo\"\n",
        "\n",
        "first = Python[0]  # Accedemos al primer caracter\n",
        "print(first)\n",
        "\n",
        "last = Python[len(Python) - 1] # Accedemos al ultimo caracter\n",
        "print(last)\n",
        "\n",
        "print(Python[-1])  # Accedemos al último caracter, que es Python[5]\n",
        "print(Python[-2])  # Corresponde a Python[4]\n"
      ],
      "metadata": {
        "id": "CCvZseFkpoBL"
      },
      "execution_count": null,
      "outputs": []
    },
    {
      "cell_type": "markdown",
      "source": [
        "4. **NONE**\n",
        "\n",
        "Este tipo de dato solo tiene el valor **None**, que se puede asignar a cualquier variable. None NO es el valor por defecto de ninguna variable, tampoco es lo mismo que False, ni que una cadena vacía ni que el número 0\n",
        "\n",
        "**TROCEADO DE CADENAS**\n",
        "\n",
        "A raiz de una cadena podemos obtener porciones de la misma (subcadenas) a través del uso de su indexación. Debemos indicar el índice de comienzo y el índice de fin\n",
        "\n",
        "También podemos aplicar saltos de caracteres en el rango, así como poder realizar la indexación inversa\n",
        "\n",
        "Si se omiten los parámetros al indicar el rango, se usarán los valores por defecto de cada uno\n",
        "\n"
      ],
      "metadata": {
        "id": "RoCKFR2VrOmo"
      }
    },
    {
      "cell_type": "code",
      "source": [
        "my_string = \"This is MY string!\"\n",
        "print(my_string[0:4]) # Desde el comienzo hasta antes del índice 4\n",
        "print(my_string[1:7])\n",
        "print(my_string[8:len(my_string)]) # Desde el octavo índice hasta el final\n",
        "\n",
        "my_string = \"This is MY string!\"\n",
        "print(my_string[0:7])  # Un salto de 1 (por defecto)\n",
        "print(my_string[0:7:2])  # Un salto de 2 caracteres\n",
        "print(my_string[0:7:5])  # Un salto de 5 caracteres\n",
        "\n",
        "my_string = \"This is MY string!\"\n",
        "print(my_string[13:2:-1]) # Recorrido con indexacion inversa, salto de 1\n",
        "print(my_string[17:0:-2]) # Recorrido con indexación inversa y salto de 2\n",
        "\n",
        "my_string = \"This is MY string!\"\n",
        "print(my_string[:8])  # Omitido el primer parametro, desde el principio por defecto\n",
        "print(my_string[8:])  # Omitido el segundo parámetro, hasta el final por defecto\n",
        "print(my_string[:])  # Omitidos ambos, toda la cadena\n",
        "print(my_string[::-1])  # Toda la cadena inversa por el paso -1\n",
        "\n"
      ],
      "metadata": {
        "id": "FeHxFxgsthka"
      },
      "execution_count": null,
      "outputs": []
    },
    {
      "cell_type": "markdown",
      "source": [
        "**FORMATEO DE CADENAS**\n",
        "\n",
        "El formateado de cadenas nos permite sustituir valores dentro de la cadena. El uso más frecuente es la inserción de valores (enteros, flotantes o cadenas). En la cadena se dejará marcado dónde se insertará el dato mediante un especificador de formato:\n",
        "\n",
        "- **%s** para indicar que en ese lugar se insertará una cadena\n",
        "- **%i** para indicar que en ese lugar se insertará un entero\n",
        "- **%f** para indicar que en ese lugar se insertará un flotante. Se puede añadir un número entre % y f para truncar la visualización e indicar la cantidad de decimales que queremos mostrar\n",
        "\n",
        "Los valores numéricos serán convertidos a cadena para su visualización dentro de la cadena"
      ],
      "metadata": {
        "id": "BqD4sHufvEsa"
      }
    },
    {
      "cell_type": "code",
      "source": [
        "string1 = \"I like %s\" % \"Python\" # Cadena con el especificador, seguida de la cadena que se posicionará donde el especificador\n",
        "print(string1)\n",
        "\n",
        "temp = \"Educative\"\n",
        "string2 = \"I like %s\" % temp # Aquí el valor de la variable temp se posicionará\n",
        "print(string2) \n",
        "\n",
        "string3 = \"I like %s and %s\" % (\"Python\", temp) # Se posicionan varias cadenas en distintos posicionadores siguiendo el orden izquierda-derecha\n",
        "print(string3)  \n",
        "\n",
        "my_string = \"%i + %i = %i\" % (1,2,3) # Se insertan varios enteros\n",
        "print(my_string)\n",
        "\n",
        "string1 = \"%f\" % (1.11)\n",
        "print(string1) # '1.110000'\n",
        "\n",
        "string2 = \"%.2f\" % (1.11)\n",
        "print(string2) # '1.11'\n",
        "\n",
        "string3 = \"%.2f\" % (1.117)\n",
        "print(string3) # '1.12'"
      ],
      "metadata": {
        "id": "7i_rtMovxZIJ"
      },
      "execution_count": null,
      "outputs": []
    },
    {
      "cell_type": "markdown",
      "source": [
        "**OPERADORES**\n",
        "\n",
        "Se usan para operaciones aritméticas y lógicas. Se representan con caracteres o palabras especiales. Los operadores pueden aparecer entre dos operandos o bien a modo de prefijo antes de un operando. Los 5 tipos de operador son:\n",
        "\n",
        "- Aritméticos\n",
        "- De comparación\n",
        "- De Asignación\n",
        "- Lógicos\n",
        "- De bits\n",
        "\n",
        "1. **ARITMÉTICOS**\n",
        "\n",
        "Al igual que en las matemáticas, dentro de estos operadores hay un orden de preferencia dividido en 4 niveles:\n",
        "\n",
        "- Paréntesis **()**\n",
        "- Potencia **\n",
        "- Multiplicación *, División /, Division de enteros //, Módulo o Resto %\n",
        "- Suma **+**, Resta **-**\n",
        "\n",
        "2. **DE COMPARACIÓN**\n",
        "\n",
        "El resultado de una comparación siempre es un booleano\n",
        "**==** y **!=** comparan el valor de los elementos mientras **is** e **is not** comparan si son el mismo objeto\n",
        "\n",
        "Los operadores son:\n",
        "- >      Mayor que\n",
        "- <      Menor que\n",
        "- >=     Mayor o igual que\n",
        "- <=     Menor o igual que\n",
        "- ==     Igual que\n",
        "- !=     Distinto a\n",
        "- is     Igual que (identidad)\n",
        "- is not Distinto a (identidad)\n",
        "\n",
        "3. **DE ASIGNACIÓN**\n",
        "\n",
        "Son los usados para asignar valor a una variable. El más habitual es = pero no es el único\n",
        "\n",
        "- =\t  Asigna\n",
        "- +=\tSuma y asigna\n",
        "- -=  Resta y asigna\n",
        "- *=\tMultiplica y asigna\n",
        "- /=\tDivide y asigna\n",
        "- //=\tDivision de enteros y asigna\n",
        "- **=\tPotencia y asigna\n",
        "- %=\ttoma el módulo y lo asigna\n",
        "- |=\tComparador OR y asigna\n",
        "- &=\tComparador AND y asigna\n",
        "- ^=\tComparador XOR y asigna\n",
        "- >>=\tRight-shift and Assign\n",
        "- <<=\tLeft-shift and Assign\n",
        "\n",
        "4. **LÓGICOS**\n",
        "\n",
        "Sirven para manipular la lógica de los booleanos. Son:\n",
        "\n",
        "- and\n",
        "- or\n",
        "- not\n",
        "\n",
        "Al igual que en otros lenguajes de programación, podemos usar lógica de bits, por tanto **1 es True** y **0 es False**  \n",
        "\n",
        "5. **DE BITS**\n",
        "\n",
        "Además de la lógica de bits mostrada en el punto anterior, hay más operadores lógicos a nivel de bits\n",
        "\n",
        "- &\tBitwise AND\t\n",
        "- |\tBitwise OR\t\n",
        "- ^\tBitwise XOR\n",
        "- ~\tBitwise NOT\n",
        "- <<\tShift a la izquierda\n",
        "- >>\tShift a la derecha\n",
        "\n",
        "**OPERACIONES CON CADENAS**\n",
        "\n",
        "Las cadenas tambien admiten operadores de comparación. Cada carácter tiene su valor Unicode, Por tanto la palabra que venga antes en el diccionario se dice que tiene un valor más bajo\n",
        "\n",
        "El operador + sirve para concatenar dos cadenas\n",
        "\n",
        "El operador * sirve para repetir la cadena cierto número de veces\n",
        "\n",
        "El operador in nos sirve para buscar una subcadena dentro de una cadena, devolviendo True o False si se encuentra o no\n",
        "\n",
        "**AGRUPANDO VALORES**\n",
        "\n",
        "Se pueden agrupar múltiples valores en una sola variable, hay distintas maneras de hacerlo pero la más popilar es a través de las **listas**. Al igual que las cadenas son una colección de caracteres, las listas son una colección de valores, que pueden ser de distinto tipo entre si.\n",
        "\n",
        "Basta con encerrar los distintos elementos entre corchetes **([])** y separarlos por comas **(,)**\n"
      ],
      "metadata": {
        "id": "Q7ixILaDzG9R"
      }
    },
    {
      "cell_type": "code",
      "source": [
        "mi_lista = [1, 2.5, \"Una cadena\", True]\n",
        "print(mi_lista)\n",
        "\n",
        "print(len(mi_lista))\n"
      ],
      "metadata": {
        "id": "0o3L8uCX1dok"
      },
      "execution_count": null,
      "outputs": []
    },
    {
      "cell_type": "markdown",
      "source": [
        "**SENTENCIAS CONDICIONALES**\n",
        "\n",
        "Una sentencia condicional es una intrucción que tras una evaluación lógica, ejecutará una acción u otra. Permiten abrir varios caminos distintos en el **flujo** de la lógica y son conocidos como **estructuras de control**\n",
        "\n",
        "Hay 3 tipos de sentencias condicionales en Python:\n",
        "\n",
        "- if\n",
        "- if-else\n",
        "- if-elif-else\n",
        "\n",
        "1. **SENTENCIA IF**\n",
        "\n",
        "Es la más simple, se compone de la evaluación lógica y del bloque de código que se ejecutará si el resultado de la evaluación lógica es True. Su sintaxis es\n",
        "\n",
        "if (evaluación lógica):\n",
        "bloque de código indentado\n",
        "\n",
        "La indentación tiene que ser toda uniforme, a la misma altura, pues para Python, una indentación a diferente altura es interpretada como un distinto bloque de código\n",
        "\n",
        "Si el resultado de la evaluación lógica es negativo, el bloque será ignorado\n",
        "\n",
        "\n",
        "\n"
      ],
      "metadata": {
        "id": "8h_gfFad4LUT"
      }
    },
    {
      "cell_type": "code",
      "source": [
        "num = 6  # Si introducimos un número menor que 4 el programa no entrará en ninguno de los bloques y terminará sin mostrar nada\n",
        "\n",
        "if (num == 5): \n",
        "    print(\"El numero es igual a 5\") \n",
        "\n",
        "if num > 5: \n",
        "    print(\"El número es mayor que 5\")"
      ],
      "metadata": {
        "id": "NcQPW6rq7KuD"
      },
      "execution_count": null,
      "outputs": []
    },
    {
      "cell_type": "markdown",
      "source": [
        "**1.1 IFS ANIDADOS**\n",
        "\n",
        "Dentro de un bloque de código podemos incluir una nueva sentencia if, lo que se conoce como ifs anidados, así, si la primera evaluación lógica es True, podremos realizar otra evaluación distinta y por tanto realizar flujos más complejos"
      ],
      "metadata": {
        "id": "nIWQOxMx8l12"
      }
    },
    {
      "cell_type": "code",
      "source": [
        "num = 60\n",
        "\n",
        "if num >= 0 and num <= 100:\n",
        "    if num >= 50 and num <= 75:\n",
        "        if num >= 60 and num <= 70:\n",
        "            print(\"El número está en el rango entre 60 y 70\")"
      ],
      "metadata": {
        "colab": {
          "base_uri": "https://localhost:8080/"
        },
        "id": "Pzsvf1_0_e6L",
        "outputId": "1cdc7f50-cf88-4f59-b895-5012be1e013a"
      },
      "execution_count": null,
      "outputs": [
        {
          "output_type": "stream",
          "name": "stdout",
          "text": [
            "El número está en el rango entre 60 y 70\n"
          ]
        }
      ]
    },
    {
      "cell_type": "markdown",
      "source": [
        "Dentro del bloque de sentencias del if podremos asignar valor a variables e incluso crear nuevas variables\n",
        "\n",
        "2. **SENTENCIA IF-ELSE**\n",
        "\n",
        "Esta sentencia nos permite ejecutar dos bloques de código, uno si la evaluación da como resultado True y el otro en caso de obtener False. Por tanto, siempre se ejecutará uno de los dos bloques. Se podría realizar lo mismo con un segundo if tras la primera evaluación pero de esta forma es mucho mas eficiente, ahorrandose tener que realizar la segunda evaluación lógica"
      ],
      "metadata": {
        "id": "2OFoVCJb_2iH"
      }
    },
    {
      "cell_type": "code",
      "source": [
        "num = 30\n",
        "\n",
        "if num <= 50:\n",
        "    print(\"El número es menor o igual a 50\")\n",
        "else:\n",
        "    print(\"El número es mayor que 50\")\n"
      ],
      "metadata": {
        "id": "sPCwOJPJEdG0"
      },
      "execution_count": null,
      "outputs": []
    },
    {
      "cell_type": "markdown",
      "source": [
        "3. **SENTENCIA IF-ELIF-ELSE**\n",
        "\n",
        "Esta sentencia permite crear multiples condiciones de manera sencilla, realizando una nueva evaluación lógica tras resultado False, lo que da un sistema de múltiples bloques por descarte"
      ],
      "metadata": {
        "id": "lcrkj7JZExDD"
      }
    },
    {
      "cell_type": "code",
      "source": [
        "light = \"Blue\"\n",
        "\n",
        "if light == \"Green\":\n",
        "    print(\"Go\")  #Se muestra si la primera evaluación es correcta\n",
        "\n",
        "elif light == \"Yellow\": #Se realiza esta segunda evaluación si la primera dio False\n",
        "    print(\"Caution\")\n",
        "\n",
        "elif light == \"Red\":  #Se realiza esta tercera evaluación si las dos anteriores dieron False\n",
        "    print(\"Stop\")\n",
        "\n",
        "else:\n",
        "    print(\"Incorrect light signal\") #Se ejecuta este código en caso de que todas las evaluaciones anteriores dieran False\n"
      ],
      "metadata": {
        "id": "czbHfa-9OANa"
      },
      "execution_count": null,
      "outputs": []
    },
    {
      "cell_type": "markdown",
      "source": [
        "**FUNCIONES**\n",
        "\n",
        "Se pueden definir a las funciones como un conjunto reutilizable de operaciones. Su analogía es el de una caja que realiza tareas: le das una entrada y te devuelve una salida (aunque no siempre tienen esa entrada o salida), pudiendo ser invocadas una y otra vez para diferentes resultados. Son tremendamente útiles ya que hacen que el código sea simple y conciso.\n",
        "\n",
        "Las funciones pueden ser reutilizadas una y otra vez sin necesidad de escribir código redundante.\n",
        "\n",
        "Las funciones son fáciles de usar, pues tan solo hace falta conocer su nombre y los datos de entrada que se le vayan a facilitar. El resto de la tarea es completamente abstracta y no hace falta saber nada de ella, por lo que el programador no pierde tiempo ni la atención en resolver esa tarea, pues será cometido de la función resolverla\n",
        "\n",
        "Existen dos tipos de funciones: **integradas** y **definidas por el usuario**\n",
        "\n",
        "**CREACIÓN DE FUNCIONES**\n",
        "\n",
        "Una funcion se crea usando la palabra clave def seguida del nombre de funcion, paréntesis con los argumentos si los tuviese y dos puntos : para acto seguido introducir el bloque de código indentado que formará la función\n"
      ],
      "metadata": {
        "id": "AV1almgfBpvC"
      }
    },
    {
      "cell_type": "code",
      "source": [
        "def mi_funcion():  # No se le pasan argumentos\n",
        "    print(\"Esta\")\n",
        "    print(\"es\")\n",
        "    print(\"mi\")\n",
        "    print(\"función\")\n",
        "# Aquí termina la definicion de la función\n",
        "\n",
        "# Llamamos a la función dos veces\n",
        "mi_funcion()\n",
        "mi_funcion()"
      ],
      "metadata": {
        "id": "GUU6yXsdFP15"
      },
      "execution_count": null,
      "outputs": []
    },
    {
      "cell_type": "markdown",
      "source": [
        "Como se ha nombrado, a la función se le pueden pasar unos parámetros con los que trabajar. Dichos parámetros son conocidos como **argumentos**. Deben ser nombrados en la definicón de la funcion. Su nombre solo será relevante en el ámbito de la función y no afectará a variables fuera de ella. Los argumentos deberán ser enumerados entre paréntesis y separados por comas"
      ],
      "metadata": {
        "id": "PxWqqkdmFypr"
      }
    },
    {
      "cell_type": "code",
      "source": [
        "def minimo(primero, segundo): #Se definen 2 argumentos, las variables primero y segundo que solo existen en el ámbito de la función\n",
        "    if (primero < segundo):\n",
        "        print(primero)\n",
        "    else:\n",
        "        print(segundo)\n",
        "\n",
        "\n",
        "num1 = 10\n",
        "num2 = 20\n",
        "\n",
        "minimo(num1, num2) #La funcion es llamada y se usan las variables num1 y num2 como argumentos"
      ],
      "metadata": {
        "id": "r0oyv9goKKNq"
      },
      "execution_count": null,
      "outputs": []
    },
    {
      "cell_type": "markdown",
      "source": [
        "Hay que tener muy en cuenta el orden de los parámetros, ya que estos no son intercambiables\n",
        "\n",
        "Las funciones pueden tener un retorno, es decir, que al terminar su ejecución darán de vuelta un valor que puede ser almacenado en una variable (y por tanto trabajar después con dicho valor en el entorno del programa. Eso es llevado a cabo con la sentencia **return**"
      ],
      "metadata": {
        "id": "tQT_hptcKum4"
      }
    },
    {
      "cell_type": "code",
      "source": [
        "def minimo(primero, segundo): \n",
        "    if (primero < segundo):\n",
        "        return primero # Si se cumple la condición del if, se retornará el valor de la variable primero\n",
        "    else:\n",
        "        return segundo # Si no se cumple la condición del if entonces se retornará el valor de la variable segundo\n",
        "\n",
        "\n",
        "num1 = 10\n",
        "num2 = 20\n",
        "\n",
        "resultado = minimo(num1, num2) #La funcion es llamada y su retorno será almacenado en la variable resultado\n",
        "print(resultado)"
      ],
      "metadata": {
        "id": "PPx7IsIdMzez"
      },
      "execution_count": null,
      "outputs": []
    },
    {
      "cell_type": "markdown",
      "source": [
        "**FUNCIONES INTEGRADAS**\n",
        "\n",
        "Python incluye una enorme cantidad de funciones integradas (o predefinidas), listas para ser usadas. Si dichas funciones pertenecen a entidades concretas son conocidas como **métodos**\n",
        "\n",
        "1. **FUNCIONES CON CADENAS**\n",
        "\n",
        "Una alternativa al operador **in** para buscar subcadenas dentro de cadenas es el método **find()**. A este método le deberemos pasar la subcadena a buscar y opcionalmente el índice de comienzo y final de búsqueda para establecer un rango"
      ],
      "metadata": {
        "id": "LdyLHvdrOent"
      }
    },
    {
      "cell_type": "code",
      "source": [
        "random_string = \"Esto es una cadena de texto\"\n",
        "print(random_string.find(\"es\"))  # Busca la subcadena en toda la cadena\n",
        "print(random_string.find(\"es\", 9, 13))  # Busca la cadena entre los índices 9 y 13"
      ],
      "metadata": {
        "id": "q4-JLptK5yxY"
      },
      "execution_count": null,
      "outputs": []
    },
    {
      "cell_type": "markdown",
      "source": [
        "El método **replace()** permite sustituir una subcadena por otra. No modifica la cadena origina, en su lugar devuelve una nueva cadena cadena. Como argumentos se le pasan la subcadena a ser sustituida y la nueva subcadena"
      ],
      "metadata": {
        "id": "K2PGJ5ZO6efl"
      }
    },
    {
      "cell_type": "code",
      "source": [
        "una_cadena = \"Bienvenidos al mundo de Python\"\n",
        "nueva_cadena = una_cadena.replace(\"Python\", \"Pe Hache Pe\")\n",
        "print(una_cadena)\n",
        "print(nueva_cadena)"
      ],
      "metadata": {
        "id": "bG1lmywI62SP"
      },
      "execution_count": null,
      "outputs": []
    },
    {
      "cell_type": "markdown",
      "source": [
        "Los métodos **upper()** y **lower()** permiten pasar los caracteres a mayúsculas y minúsculas respectivamente"
      ],
      "metadata": {
        "id": "t-UVDB8b7lvP"
      }
    },
    {
      "cell_type": "code",
      "source": [
        "print(\"MayusCulas\".upper())\n",
        "print(\"MinusCulas\".lower())"
      ],
      "metadata": {
        "id": "kKgBKtfP7_5L"
      },
      "execution_count": null,
      "outputs": []
    },
    {
      "cell_type": "markdown",
      "source": [
        "El método **join()** permite unir cadenas facilmente"
      ],
      "metadata": {
        "id": "-jv2HHn18ThZ"
      }
    },
    {
      "cell_type": "code",
      "source": [
        "llist = [\"aaa\", \"bbb\", \"ccc\"]\n",
        "print('>>'.join(llist)) \n",
        "print('<<'.join(llist)) \n",
        "print(', '.join(llist)) "
      ],
      "metadata": {
        "id": "qZX25zAG8pCI"
      },
      "execution_count": null,
      "outputs": []
    },
    {
      "cell_type": "markdown",
      "source": [
        "El modo **format()** permite formatear incluyendo cadenas en los lugares demarcados por los placeholders (marcadores). Estos marcadores están contenidos por llaves **{}**"
      ],
      "metadata": {
        "id": "cKvie9Rt9l04"
      }
    },
    {
      "cell_type": "code",
      "source": [
        "string1 = \"Aprende Python {version} en {name}\".format(version = 3, name = \"IES Zaidin-Vergeles\")\n",
        "string2 = \"Aprende {0} en {1}\".format(3, \"IES Zaidin-Vergeles\")\n",
        "string3 = \"Aprende Python {} en {}\".format(3, \"IES Zaidin-Vergeles\")\n",
        "\n",
        "print(string1)\n",
        "print(string2)\n",
        "print(string3)"
      ],
      "metadata": {
        "id": "3RtwBJL4_ajr"
      },
      "execution_count": null,
      "outputs": []
    },
    {
      "cell_type": "markdown",
      "source": [
        "2. **CONVERSION DE TIPO**\n",
        "\n",
        "También conocido como como parseo. Hay ciertos métodos que permiten hacer una conversión explicita del tipo de dato\n",
        "\n",
        "El metodo **int()** permite convertir a tipo entero. Convertir una cadena a entero sólo funcionará si la cadena está  compuesta en exclusiva por números"
      ],
      "metadata": {
        "id": "kd8vkgiaB7mN"
      }
    },
    {
      "cell_type": "code",
      "source": [
        "print(int(\"12\") * 10)  # Cadena a entero\n",
        "print(int(20.6))  # De float a entero, truncando los decimales\n",
        "print(int(False))  # Convierte el booleano a su equivalente en bit, 1 o 0"
      ],
      "metadata": {
        "id": "TgGybzVxC2jw"
      },
      "execution_count": null,
      "outputs": []
    },
    {
      "cell_type": "markdown",
      "source": [
        "El método **float()** hace la conversión a número real con decimales"
      ],
      "metadata": {
        "id": "Ucva6maiDTKS"
      }
    },
    {
      "cell_type": "code",
      "source": [
        "print(float(24))\n",
        "print(float('24.5'))\n",
        "print(float(True)) # Convierte el booleano a su equivalente en bit, 1 o 0 y añade decimales"
      ],
      "metadata": {
        "colab": {
          "base_uri": "https://localhost:8080/"
        },
        "id": "4hRIyEM5Da8Z",
        "outputId": "6673759f-9fbf-4cda-ccda-10e21f990c68"
      },
      "execution_count": null,
      "outputs": [
        {
          "output_type": "stream",
          "name": "stdout",
          "text": [
            "24.0\n",
            "24.5\n",
            "1.0\n"
          ]
        }
      ]
    },
    {
      "cell_type": "markdown",
      "source": [
        "El método **str()** convierte a cadena"
      ],
      "metadata": {
        "id": "FUDdiM1pDzFE"
      }
    },
    {
      "cell_type": "code",
      "source": [
        "print(str(12) + '.345')\n",
        "print(str(False))\n",
        "print(str(12.345) + ' es una cadena')"
      ],
      "metadata": {
        "id": "ORxtg23nD44f"
      },
      "execution_count": null,
      "outputs": []
    },
    {
      "cell_type": "markdown",
      "source": [
        "el método **bool()** devuelve el valor booleano. Una cadena siempre será True a no ser que esté vacía. Para números, como se ha visto anterioremente, la correspondencia en bits es 1 y 0"
      ],
      "metadata": {
        "id": "kGzE1yHcEemO"
      }
    },
    {
      "cell_type": "code",
      "source": [
        "print(bool(10))\n",
        "print(bool(0.0))\n",
        "print(bool(\"Hola\"))\n",
        "print(bool(\"\"))"
      ],
      "metadata": {
        "id": "__tLn3EcGM5r"
      },
      "execution_count": null,
      "outputs": []
    },
    {
      "cell_type": "markdown",
      "source": [
        "El método **ord()** convierte un caracter a su valor Unicode"
      ],
      "metadata": {
        "id": "5JJ_r0xuGiQz"
      }
    },
    {
      "cell_type": "code",
      "source": [
        "print(ord('a'))\n",
        "print(ord('0'))"
      ],
      "metadata": {
        "id": "sWjViLG9Gp9v"
      },
      "execution_count": null,
      "outputs": []
    },
    {
      "cell_type": "markdown",
      "source": [
        "3. **ENTRADA DE DATOS**\n",
        "\n",
        "El método **input()** permite la entrada de datos por parte del usuario. Todo dato que se recoja será almacenado como **cadena**, por tanto los números deberán ser parseados a su tipo correspondiente para poder operar con ellos"
      ],
      "metadata": {
        "id": "Er28fEEWHIS4"
      }
    },
    {
      "cell_type": "code",
      "source": [
        "name = input(\"Cómo te llamas? \")\n",
        "print(\"\\nHola,\", name)"
      ],
      "metadata": {
        "id": "GsBZg5BNHuta"
      },
      "execution_count": null,
      "outputs": []
    },
    {
      "cell_type": "markdown",
      "source": [
        "4. **LAMBDAS**\n",
        "\n",
        "Las lambdas son un tipo especial de función anónima que devuelve ciertos datos. Se definen usando la palabra clave **lambda**"
      ],
      "metadata": {
        "id": "EXuVKlHOH_ki"
      }
    },
    {
      "cell_type": "code",
      "source": [
        "triple = lambda num : num * 3  # Assigning the lambda to a variable\n",
        "\n",
        "print(triple(10))  # Calling the lambda and giving it a parameter\n",
        "\n",
        "concat_strings = lambda a, b, c: a[0] + b[0] + c[0]\n",
        "\n",
        "print(concat_strings(\"World\", \"Wide\", \"Web\"))\n"
      ],
      "metadata": {
        "id": "wEICnyU5LXt2"
      },
      "execution_count": null,
      "outputs": []
    }
  ]
}