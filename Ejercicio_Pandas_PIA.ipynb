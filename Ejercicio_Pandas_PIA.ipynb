{
  "nbformat": 4,
  "nbformat_minor": 0,
  "metadata": {
    "colab": {
      "provenance": [],
      "include_colab_link": true
    },
    "kernelspec": {
      "name": "python3",
      "display_name": "Python 3"
    },
    "language_info": {
      "name": "python"
    }
  },
  "cells": [
    {
      "cell_type": "markdown",
      "metadata": {
        "id": "view-in-github",
        "colab_type": "text"
      },
      "source": [
        "<a href=\"https://colab.research.google.com/github/Trulete/PIA/blob/main/Ejercicio_Pandas_PIA.ipynb\" target=\"_parent\"><img src=\"https://colab.research.google.com/assets/colab-badge.svg\" alt=\"Open In Colab\"/></a>"
      ]
    },
    {
      "cell_type": "code",
      "execution_count": null,
      "metadata": {
        "id": "j8A2nstU47AK"
      },
      "outputs": [],
      "source": [
        "import numpy as np\n",
        "import pandas as pd\n",
        "\n",
        "#Apertura del archivo\n",
        "pd.read_csv('WA_Fn-UseC_-Telco-Customer-Churn.csv')\n",
        "df"
      ]
    },
    {
      "cell_type": "code",
      "source": [
        "len(df)"
      ],
      "metadata": {
        "id": "BvT3C4xv6D94"
      },
      "execution_count": null,
      "outputs": []
    },
    {
      "cell_type": "code",
      "source": [
        "df.head()"
      ],
      "metadata": {
        "id": "SdcHrplg6fR3"
      },
      "execution_count": null,
      "outputs": []
    },
    {
      "cell_type": "code",
      "source": [
        "df.head().T"
      ],
      "metadata": {
        "id": "_MAMiAHZ6kY_"
      },
      "execution_count": null,
      "outputs": []
    },
    {
      "cell_type": "code",
      "source": [
        "df.dtypes"
      ],
      "metadata": {
        "id": "YVHZWS3h6tQO"
      },
      "execution_count": null,
      "outputs": []
    },
    {
      "cell_type": "code",
      "source": [
        "# Se convierten los valores de TotalCharges en valores numericos\n",
        "df['TotalCharges'] = pd.to_numeric(df['TotalCharges'], errors='coerce')"
      ],
      "metadata": {
        "id": "w1gWUNY_6xHm"
      },
      "execution_count": null,
      "outputs": []
    },
    {
      "cell_type": "code",
      "source": [
        "# Se pasan los nombres de columna a minuscula\n",
        "df.columns= df.columns.str.lower()"
      ],
      "metadata": {
        "id": "cEubgVM089kj"
      },
      "execution_count": null,
      "outputs": []
    },
    {
      "cell_type": "code",
      "source": [
        "# Se sustituyen los espacios de las cadenas por _ (underscores)\n",
        "df.replace(' ', '_', regex=True)"
      ],
      "metadata": {
        "id": "FBY_OtIn9MnM"
      },
      "execution_count": null,
      "outputs": []
    },
    {
      "cell_type": "code",
      "source": [
        "# Se cambia los valores de la columna churn a 0 y 1\n",
        "df['churn'] = df['churn'].eq('Yes').mul(1)"
      ],
      "metadata": {
        "id": "UmTy3fll-QEX"
      },
      "execution_count": null,
      "outputs": []
    },
    {
      "cell_type": "code",
      "source": [
        "# Se hsce un recuento de los valores distintos en las columnas categoricas\n",
        "unicas = [col for col in df.columns if df[col].dtype==\"O\"]\n",
        "for i in unicas:\n",
        "  print(df[i].value_counts())"
      ],
      "metadata": {
        "id": "qG8fpBRwCmvM"
      },
      "execution_count": null,
      "outputs": []
    },
    {
      "cell_type": "code",
      "source": [
        "# Se elimina la columna customerid\n",
        "df.drop(['customerid'], axis=1)"
      ],
      "metadata": {
        "id": "aR3wGUpWFKU_"
      },
      "execution_count": null,
      "outputs": []
    }
  ]
}