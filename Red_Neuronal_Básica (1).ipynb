{
  "nbformat": 4,
  "nbformat_minor": 0,
  "metadata": {
    "colab": {
      "provenance": []
    },
    "kernelspec": {
      "name": "python3",
      "display_name": "Python 3"
    },
    "language_info": {
      "name": "python"
    }
  },
  "cells": [
    {
      "cell_type": "code",
      "execution_count": 1,
      "metadata": {
        "id": "a4ndKMw9l272"
      },
      "outputs": [],
      "source": [
        "import numpy as np"
      ]
    },
    {
      "cell_type": "markdown",
      "source": [
        "# Implementación de la red neuronal con retropropagación"
      ],
      "metadata": {
        "id": "GgxPYawHone4"
      }
    },
    {
      "cell_type": "code",
      "source": [
        "class NetNode(object):\n",
        "\n",
        "  def __init__(self):\n",
        "    self.inputs = []\n",
        "    self.weights = []\n",
        "    self.value = None"
      ],
      "metadata": {
        "id": "ayEcEwKcl_9H"
      },
      "execution_count": 43,
      "outputs": []
    },
    {
      "cell_type": "code",
      "source": [
        "class Network(object):\n",
        "\n",
        "  def __init__(self, layers):\n",
        "    self.net = [[NetNode() for _ in range(size)] for size in layers]\n",
        "    sizes = len(layers)\n",
        "    for layer in range(1, sizes):\n",
        "        for node in self.net[layer]:\n",
        "            for unit in self.net[layer - 1]:\n",
        "                node.inputs.append(unit)\n",
        "                node.weights.append(0)\n",
        "\n",
        "  def accuracy(self, examples):\n",
        "    correct = 0\n",
        "    for x_test, y_test in examples:\n",
        "        prediction = self.predict(x_test)\n",
        "        if (y_test[prediction] == 1):\n",
        "            correct += 1\n",
        "    return correct / len(examples)\n",
        "\n",
        "  def backpropagation(self, eta, examples, epochs):\n",
        "    inputs = self.net[0]\n",
        "    outputs = self.net[-1]\n",
        "    layer_size = len(self.net)\n",
        "    for layer in self.net[1:]:\n",
        "        for node in layer:\n",
        "            node.weights = [np.random.uniform() for _ in range(len(node.weights))]\n",
        "    for epoch in range(epochs):\n",
        "        for x_train, y_train in examples:\n",
        "            for value, node in zip(x_train, inputs):\n",
        "                node.value = value\n",
        "            for layer in self.net[1:]:\n",
        "                for node in layer:\n",
        "                    in_val = [n.value for n in node.inputs]\n",
        "                    unit_value = np.dot(in_val, node.weights)\n",
        "                    node.value = self.relu(unit_value)\n",
        "            delta = [[] for _ in range(layer_size)]\n",
        "            err = [y_train[i] - outputs[i].value for i in range(len(outputs))]\n",
        "            delta[-1] = [self.relu_prime(outputs[i].value) * err[i] for i in range(len(outputs))]\n",
        "            hidden_layers = layer_size - 2\n",
        "            for i in range(hidden_layers, 0, -1):\n",
        "                layer = self.net[i]\n",
        "                n_layers = len(layer)\n",
        "                w = [[node.weights[l] for node in self.net[i + 1]] for l in range(n_layers)]\n",
        "                delta[i] = [self.relu_prime(layer[j].value) * np.dot(w[j], delta[i + 1]) for j in range(n_layers)]\n",
        "            for i in range(1, layer_size):\n",
        "                layer = self.net[i]\n",
        "                in_val = [node.value for node in self.net[i - 1]]\n",
        "                n_layers = len(self.net[i])\n",
        "                for j in range(n_layers):\n",
        "                    layer[j].weights = np.add(layer[j].weights, np.multiply(eta * delta[i][j], in_val))\n",
        "        print(f\"epoch {epoch}/{epochs} | total error={np.sum(err)/len(examples)}\")\n",
        "  \n",
        "  def predict(self, input_data):\n",
        "      inputs = self.net[0]\n",
        "      for v, n in zip(input_data, inputs):\n",
        "          n.value = v\n",
        "      for layer in self.net[1:]:\n",
        "          for node in layer:\n",
        "              in_val = [n.value for n in node.inputs]\n",
        "              unit_value = np.dot(in_val, node.weights)\n",
        "              node.value = self.relu(unit_value)\n",
        "      outputs = self.net[-1]\n",
        "      return outputs.index(max(outputs, key=lambda node: node.value))\n",
        "\n",
        "  def relu(self, z):\n",
        "      return max(0, z)\n",
        "\n",
        "  def relu_prime(self, z):\n",
        "      return 1 if z > 0 else 0\n",
        "\n",
        "  def sigmoide(self, z):\n",
        "      pass\n",
        "\n",
        "  def sigmoide_prime(self, z):\n",
        "      pass\n",
        "    \n",
        "  def set_weights(self, pesos):\n",
        "      i = 0\n",
        "      for layer in self.net:\n",
        "            for unit in layer:\n",
        "              unit.weights = pesos[i]\n",
        "              i+=1\n",
        "  def clean_weights(self, pesos):\n",
        "      i = 0\n",
        "      for layer in self.net:\n",
        "            for unit in layer:\n",
        "              unit.weights = pesos[i]\n",
        "            i+=1\n",
        "\n",
        "  def weights(self):\n",
        "      pesos = []\n",
        "      for layer in self.net:\n",
        "            for unit in layer:\n",
        "              pesos.append(unit.weights)\n",
        "      return pesos\n",
        "\n",
        "  def weights2(self):\n",
        "      pesos = []\n",
        "      i = 1\n",
        "      for layer in self.net:\n",
        "            print ('Capa :',i)\n",
        "            for unit in layer:\n",
        "              print(unit.weights)\n",
        "              pesos.append(unit.weights)\n",
        "            i+=1;\n",
        "      "
      ],
      "metadata": {
        "id": "c76uCuQsmC3B"
      },
      "execution_count": 85,
      "outputs": []
    },
    {
      "cell_type": "markdown",
      "source": [
        "# Usando la red neuronal con un dataset"
      ],
      "metadata": {
        "id": "qgFoGWrqoyGB"
      }
    },
    {
      "cell_type": "code",
      "source": [
        "from sklearn import datasets\n",
        "from sklearn.preprocessing import normalize\n",
        "from sklearn.model_selection import train_test_split\n",
        "from keras.utils import np_utils"
      ],
      "metadata": {
        "id": "fPng_kT1mhcp"
      },
      "execution_count": 45,
      "outputs": []
    },
    {
      "cell_type": "code",
      "source": [
        "iris_X, iris_y = datasets.load_iris(return_X_y=True)"
      ],
      "metadata": {
        "id": "sFyU9RGtmluM"
      },
      "execution_count": 46,
      "outputs": []
    },
    {
      "cell_type": "code",
      "source": [
        "iris_x_normalized = normalize(iris_X, axis=0)"
      ],
      "metadata": {
        "id": "IQpaMM6Bmq1n"
      },
      "execution_count": 47,
      "outputs": []
    },
    {
      "cell_type": "code",
      "source": [
        "X_train, X_test, y_train, y_test = train_test_split(iris_x_normalized, iris_y, test_size=0.2, shuffle=True)"
      ],
      "metadata": {
        "id": "OjQkFVwmmuGg"
      },
      "execution_count": 48,
      "outputs": []
    },
    {
      "cell_type": "code",
      "source": [
        "y_train = np_utils.to_categorical(y_train, num_classes=3)\n",
        "y_test = np_utils.to_categorical(y_test, num_classes=3)"
      ],
      "metadata": {
        "id": "wvkyhxJTmyWo"
      },
      "execution_count": 49,
      "outputs": []
    },
    {
      "cell_type": "code",
      "source": [
        "examples = []\n",
        "for i in range(len(X_train)):\n",
        "    examples.append([X_train[i], y_train[i]])"
      ],
      "metadata": {
        "id": "-ZlXfw4xm2Ih"
      },
      "execution_count": 50,
      "outputs": []
    },
    {
      "cell_type": "code",
      "source": [
        "red = Network([3, 4, 2])\n",
        "red.backpropagation(0.1, examples, 500)"
      ],
      "metadata": {
        "id": "x9YqtPo7m5Vq",
        "colab": {
          "base_uri": "https://localhost:8080/"
        },
        "outputId": "56c90134-5c96-420c-df7c-2fbd6d0c7732"
      },
      "execution_count": 86,
      "outputs": [
        {
          "output_type": "stream",
          "name": "stdout",
          "text": [
            "epoch 0/500 | total error=0.01633009062322393\n",
            "epoch 1/500 | total error=0.015724775952831817\n",
            "epoch 2/500 | total error=0.01529812555272073\n",
            "epoch 3/500 | total error=0.014998166368933231\n",
            "epoch 4/500 | total error=0.014786059639488229\n",
            "epoch 5/500 | total error=0.014633976258582464\n",
            "epoch 6/500 | total error=0.014522514871753182\n",
            "epoch 7/500 | total error=0.014438390783518372\n",
            "epoch 8/500 | total error=0.014372614978252308\n",
            "epoch 9/500 | total error=0.014319153054510484\n",
            "epoch 10/500 | total error=0.014273975855746005\n",
            "epoch 11/500 | total error=0.014234403515346756\n",
            "epoch 12/500 | total error=0.014198659132636886\n",
            "epoch 13/500 | total error=0.014165568062920837\n",
            "epoch 14/500 | total error=0.014134356606277234\n",
            "epoch 15/500 | total error=0.014104517802555084\n",
            "epoch 16/500 | total error=0.014075722211151716\n",
            "epoch 17/500 | total error=0.01404775870845266\n",
            "epoch 18/500 | total error=0.014020495255896149\n",
            "epoch 19/500 | total error=0.013993852928273721\n",
            "epoch 20/500 | total error=0.013967788734709392\n",
            "epoch 21/500 | total error=0.013942284263730788\n",
            "epoch 22/500 | total error=0.013917338181892945\n",
            "epoch 23/500 | total error=0.01389296127823547\n",
            "epoch 24/500 | total error=0.01386917318622657\n",
            "epoch 25/500 | total error=0.013846000205652862\n",
            "epoch 26/500 | total error=0.013823473839091095\n",
            "epoch 27/500 | total error=0.0138016297843565\n",
            "epoch 28/500 | total error=0.013780507207710627\n",
            "epoch 29/500 | total error=0.01376014817725809\n",
            "epoch 30/500 | total error=0.01374059717157554\n",
            "epoch 31/500 | total error=0.013721900601656756\n",
            "epoch 32/500 | total error=0.013704106299041424\n",
            "epoch 33/500 | total error=0.01368726293243708\n",
            "epoch 34/500 | total error=0.013671419321249378\n",
            "epoch 35/500 | total error=0.013656623618627068\n",
            "epoch 36/500 | total error=0.01364292233996583\n",
            "epoch 37/500 | total error=0.013630359216139136\n",
            "epoch 38/500 | total error=0.013618973854748221\n",
            "epoch 39/500 | total error=0.01360880019804589\n",
            "epoch 40/500 | total error=0.013599864773476323\n",
            "epoch 41/500 | total error=0.013592184742511585\n",
            "epoch 42/500 | total error=0.013585765766087336\n",
            "epoch 43/500 | total error=0.013580599720720033\n",
            "epoch 44/500 | total error=0.013576662318358286\n",
            "epoch 45/500 | total error=0.013573910704857044\n",
            "epoch 46/500 | total error=0.01357228113586606\n",
            "epoch 47/500 | total error=0.013571686853499533\n",
            "epoch 48/500 | total error=0.013572016310329681\n",
            "epoch 49/500 | total error=0.013573131906256608\n",
            "epoch 50/500 | total error=0.013574869415277854\n",
            "epoch 51/500 | total error=0.01357703827937998\n",
            "epoch 52/500 | total error=0.013579422932022158\n",
            "epoch 53/500 | total error=0.013581785280950394\n",
            "epoch 54/500 | total error=0.013583868427718618\n",
            "epoch 55/500 | total error=0.013585401629785844\n",
            "epoch 56/500 | total error=0.013586106423663443\n",
            "epoch 57/500 | total error=0.013585703730650595\n",
            "epoch 58/500 | total error=0.013583921669465811\n",
            "epoch 59/500 | total error=0.013580503713880776\n",
            "epoch 60/500 | total error=0.013575216770221363\n",
            "epoch 61/500 | total error=0.013567858719928695\n",
            "epoch 62/500 | total error=0.013558264983488324\n",
            "epoch 63/500 | total error=0.013546313716032772\n",
            "epoch 64/500 | total error=0.013531929337839532\n",
            "epoch 65/500 | total error=0.013515084224957936\n",
            "epoch 66/500 | total error=0.013495798522017238\n",
            "epoch 67/500 | total error=0.013474138174515534\n",
            "epoch 68/500 | total error=0.013450211395907396\n",
            "epoch 69/500 | total error=0.013424163873291229\n",
            "epoch 70/500 | total error=0.013396173067331374\n",
            "epoch 71/500 | total error=0.013366441975993222\n",
            "epoch 72/500 | total error=0.013335192711840499\n",
            "epoch 73/500 | total error=0.013302660197042826\n",
            "epoch 74/500 | total error=0.013269086218795901\n",
            "epoch 75/500 | total error=0.013234714020467882\n",
            "epoch 76/500 | total error=0.013199783538793674\n",
            "epoch 77/500 | total error=0.013164527340734786\n",
            "epoch 78/500 | total error=0.013129167268410976\n",
            "epoch 79/500 | total error=0.013099163828682679\n",
            "epoch 80/500 | total error=0.013073887142076685\n",
            "epoch 81/500 | total error=0.013057234035720929\n",
            "epoch 82/500 | total error=0.013046535900604892\n",
            "epoch 83/500 | total error=0.01303964598891887\n",
            "epoch 84/500 | total error=0.01304035163871252\n",
            "epoch 85/500 | total error=0.013046146811434903\n",
            "epoch 86/500 | total error=0.013053735051641431\n",
            "epoch 87/500 | total error=0.013065586550990816\n",
            "epoch 88/500 | total error=0.013098960338717288\n",
            "epoch 89/500 | total error=0.013142381637574366\n",
            "epoch 90/500 | total error=0.013189760683532914\n",
            "epoch 91/500 | total error=0.013238139727427487\n",
            "epoch 92/500 | total error=0.013286105794318222\n",
            "epoch 93/500 | total error=0.01334573338402172\n",
            "epoch 94/500 | total error=0.01341642333352742\n",
            "epoch 95/500 | total error=0.01350114947432022\n",
            "epoch 96/500 | total error=0.013596846925815856\n",
            "epoch 97/500 | total error=0.013712274138084592\n",
            "epoch 98/500 | total error=0.013826199858204198\n",
            "epoch 99/500 | total error=0.013938171732181485\n",
            "epoch 100/500 | total error=0.01404790234192758\n",
            "epoch 101/500 | total error=0.014144416593640722\n",
            "epoch 102/500 | total error=0.014242303528253723\n",
            "epoch 103/500 | total error=0.014339643621532457\n",
            "epoch 104/500 | total error=0.014435397905686376\n",
            "epoch 105/500 | total error=0.014547282226460635\n",
            "epoch 106/500 | total error=0.014665920290971976\n",
            "epoch 107/500 | total error=0.014776378479657296\n",
            "epoch 108/500 | total error=0.014881732492997235\n",
            "epoch 109/500 | total error=0.01506755692663544\n",
            "epoch 110/500 | total error=0.01521701670149584\n",
            "epoch 111/500 | total error=0.015345481187823608\n",
            "epoch 112/500 | total error=0.015461207352023113\n",
            "epoch 113/500 | total error=0.015604074965389918\n",
            "epoch 114/500 | total error=0.01577476887356662\n",
            "epoch 115/500 | total error=0.015927191422686005\n",
            "epoch 116/500 | total error=0.01606208090966106\n",
            "epoch 117/500 | total error=0.016185813323924828\n",
            "epoch 118/500 | total error=0.016301893260966246\n",
            "epoch 119/500 | total error=0.01641224281556557\n",
            "epoch 120/500 | total error=0.016519723149529555\n",
            "epoch 121/500 | total error=0.016630609237673087\n",
            "epoch 122/500 | total error=0.016696617563598335\n",
            "epoch 123/500 | total error=0.01678176302299009\n",
            "epoch 124/500 | total error=0.016877942640667356\n",
            "epoch 125/500 | total error=0.016916979489659482\n",
            "epoch 126/500 | total error=0.016979858411519482\n",
            "epoch 127/500 | total error=0.017060448829359434\n",
            "epoch 128/500 | total error=0.017151438962294034\n",
            "epoch 129/500 | total error=0.017135898244018514\n",
            "epoch 130/500 | total error=0.01715657456023946\n",
            "epoch 131/500 | total error=0.017127223216006373\n",
            "epoch 132/500 | total error=0.01713400499739277\n",
            "epoch 133/500 | total error=0.017163863083514523\n",
            "epoch 134/500 | total error=0.017134768542677807\n",
            "epoch 135/500 | total error=0.017136285689083673\n",
            "epoch 136/500 | total error=0.017157304848662656\n",
            "epoch 137/500 | total error=0.017127698886024292\n",
            "epoch 138/500 | total error=0.017124445827124357\n",
            "epoch 139/500 | total error=0.017138029337070294\n",
            "epoch 140/500 | total error=0.017162290121264454\n",
            "epoch 141/500 | total error=0.017193230185293847\n",
            "epoch 142/500 | total error=0.017228244148598686\n",
            "epoch 143/500 | total error=0.01726562586101515\n",
            "epoch 144/500 | total error=0.01730425165735409\n",
            "epoch 145/500 | total error=0.017343376704679885\n",
            "epoch 146/500 | total error=0.01738250373294782\n",
            "epoch 147/500 | total error=0.017421298138017165\n",
            "epoch 148/500 | total error=0.017459532851275723\n",
            "epoch 149/500 | total error=0.017497052369598965\n",
            "epoch 150/500 | total error=0.01753374916146403\n",
            "epoch 151/500 | total error=0.017569548100015948\n",
            "epoch 152/500 | total error=0.017604396126686447\n",
            "epoch 153/500 | total error=0.017564699731462137\n",
            "epoch 154/500 | total error=0.017547914277389554\n",
            "epoch 155/500 | total error=0.017545974460022432\n",
            "epoch 156/500 | total error=0.01755363595288099\n",
            "epoch 157/500 | total error=0.017567480711488868\n",
            "epoch 158/500 | total error=0.017585274076809137\n",
            "epoch 159/500 | total error=0.017605549731365584\n",
            "epoch 160/500 | total error=0.01762734163603036\n",
            "epoch 161/500 | total error=0.017650010625694882\n",
            "epoch 162/500 | total error=0.01767313196771433\n",
            "epoch 163/500 | total error=0.017696422227225086\n",
            "epoch 164/500 | total error=0.017719691527084126\n",
            "epoch 165/500 | total error=0.01774281225805363\n",
            "epoch 166/500 | total error=0.017765698479427765\n",
            "epoch 167/500 | total error=0.017788292292519967\n",
            "epoch 168/500 | total error=0.017810595616193404\n",
            "epoch 169/500 | total error=0.017832725877155106\n",
            "epoch 170/500 | total error=0.01785462131291877\n",
            "epoch 171/500 | total error=0.017876240922323126\n",
            "epoch 172/500 | total error=0.017897557443706018\n",
            "epoch 173/500 | total error=0.017918552760990816\n",
            "epoch 174/500 | total error=0.01793921488397012\n",
            "epoch 175/500 | total error=0.01795953595317493\n",
            "epoch 176/500 | total error=0.017979510914398342\n",
            "epoch 177/500 | total error=0.017999136632877877\n",
            "epoch 178/500 | total error=0.01801841129753592\n",
            "epoch 179/500 | total error=0.018037334017575585\n",
            "epoch 180/500 | total error=0.018055904547342055\n",
            "epoch 181/500 | total error=0.018074123097213273\n",
            "epoch 182/500 | total error=0.018091990202548328\n",
            "epoch 183/500 | total error=0.018109506632073127\n",
            "epoch 184/500 | total error=0.018126673323241062\n",
            "epoch 185/500 | total error=0.018143491336181695\n",
            "epoch 186/500 | total error=0.018159961820559418\n",
            "epoch 187/500 | total error=0.018176085991475792\n",
            "epoch 188/500 | total error=0.01819186511176584\n",
            "epoch 189/500 | total error=0.018207300478860555\n",
            "epoch 190/500 | total error=0.0182223934149459\n",
            "epoch 191/500 | total error=0.018237145259530033\n",
            "epoch 192/500 | total error=0.01825155736379204\n",
            "epoch 193/500 | total error=0.01826563108626596\n",
            "epoch 194/500 | total error=0.018279367789539907\n",
            "epoch 195/500 | total error=0.018292768837737273\n",
            "epoch 196/500 | total error=0.018305835594609035\n",
            "epoch 197/500 | total error=0.01831856942210983\n",
            "epoch 198/500 | total error=0.01833097167936166\n",
            "epoch 199/500 | total error=0.01834304372193126\n",
            "epoch 200/500 | total error=0.018354786901364207\n",
            "epoch 201/500 | total error=0.01836620256492988\n",
            "epoch 202/500 | total error=0.018377292055541224\n",
            "epoch 203/500 | total error=0.018388056711819385\n",
            "epoch 204/500 | total error=0.018398497868278643\n",
            "epoch 205/500 | total error=0.018408616855611067\n",
            "epoch 206/500 | total error=0.01841841500105359\n",
            "epoch 207/500 | total error=0.018427893628822502\n",
            "epoch 208/500 | total error=0.018437054060602465\n",
            "epoch 209/500 | total error=0.018445897616079246\n",
            "epoch 210/500 | total error=0.018454425613506208\n",
            "epoch 211/500 | total error=0.018462639370296307\n",
            "epoch 212/500 | total error=0.01847054020363221\n",
            "epoch 213/500 | total error=0.01847812943108805\n",
            "epoch 214/500 | total error=0.018485408371257284\n",
            "epoch 215/500 | total error=0.018492378344381548\n",
            "epoch 216/500 | total error=0.01849904067297647\n",
            "epoch 217/500 | total error=0.018505396682450475\n",
            "epoch 218/500 | total error=0.01851144770171346\n",
            "epoch 219/500 | total error=0.018517195063772602\n",
            "epoch 220/500 | total error=0.01852264010631279\n",
            "epoch 221/500 | total error=0.018527784172259747\n",
            "epoch 222/500 | total error=0.018532628610324158\n",
            "epoch 223/500 | total error=0.018537174775525214\n",
            "epoch 224/500 | total error=0.01854142402969266\n",
            "epoch 225/500 | total error=0.018545377741946218\n",
            "epoch 226/500 | total error=0.018549037289151766\n",
            "epoch 227/500 | total error=0.018552404056353652\n",
            "epoch 228/500 | total error=0.01855547943718282\n",
            "epoch 229/500 | total error=0.0185582648342405\n",
            "epoch 230/500 | total error=0.018560761659457307\n",
            "epoch 231/500 | total error=0.01856297133442781\n",
            "epoch 232/500 | total error=0.018564895290720647\n",
            "epoch 233/500 | total error=0.01856653497016437\n",
            "epoch 234/500 | total error=0.01856789182510933\n",
            "epoch 235/500 | total error=0.018568967318665825\n",
            "epoch 236/500 | total error=0.018569762924919027\n",
            "epoch 237/500 | total error=0.018570280129121087\n",
            "epoch 238/500 | total error=0.01857052042786084\n",
            "epoch 239/500 | total error=0.01857048532921173\n",
            "epoch 240/500 | total error=0.0185701763528583\n",
            "epoch 241/500 | total error=0.018569595030202213\n",
            "epoch 242/500 | total error=0.018568742904447884\n",
            "epoch 243/500 | total error=0.018567621530668734\n",
            "epoch 244/500 | total error=0.018566232475854462\n",
            "epoch 245/500 | total error=0.018562616466591977\n",
            "epoch 246/500 | total error=0.01847296216471733\n",
            "epoch 247/500 | total error=0.018511016393367788\n",
            "epoch 248/500 | total error=0.018533465344146637\n",
            "epoch 249/500 | total error=0.018546225109665426\n",
            "epoch 250/500 | total error=0.018531354355981775\n",
            "epoch 251/500 | total error=0.018469006443608278\n",
            "epoch 252/500 | total error=0.018509177700229675\n",
            "epoch 253/500 | total error=0.01853249593359459\n",
            "epoch 254/500 | total error=0.018519965404663333\n",
            "epoch 255/500 | total error=0.018466958811997627\n",
            "epoch 256/500 | total error=0.018508679654070215\n",
            "epoch 257/500 | total error=0.0185237322756197\n",
            "epoch 258/500 | total error=0.01846155079948269\n",
            "epoch 259/500 | total error=0.018507059490004935\n",
            "epoch 260/500 | total error=0.01853251073750332\n",
            "epoch 261/500 | total error=0.018464308416845994\n",
            "epoch 262/500 | total error=0.018510080204199208\n",
            "epoch 263/500 | total error=0.018536075700517296\n",
            "epoch 264/500 | total error=0.018528270751604337\n",
            "epoch 265/500 | total error=0.0184761591457654\n",
            "epoch 266/500 | total error=0.01851620852978581\n",
            "epoch 267/500 | total error=0.018528600450437895\n",
            "epoch 268/500 | total error=0.018470554834605697\n",
            "epoch 269/500 | total error=0.018513290345393462\n",
            "epoch 270/500 | total error=0.018532831537371584\n",
            "epoch 271/500 | total error=0.018471065920309462\n",
            "epoch 272/500 | total error=0.01851378570005646\n",
            "epoch 273/500 | total error=0.018536977854206507\n",
            "epoch 274/500 | total error=0.018472428392442643\n",
            "epoch 275/500 | total error=0.018514483917279993\n",
            "epoch 276/500 | total error=0.018537314358722825\n",
            "epoch 277/500 | total error=0.01852603496125034\n",
            "epoch 278/500 | total error=0.018478689556506927\n",
            "epoch 279/500 | total error=0.018514983859994408\n",
            "epoch 280/500 | total error=0.018521723626878577\n",
            "epoch 281/500 | total error=0.01847017490252799\n",
            "epoch 282/500 | total error=0.01850899936401749\n",
            "epoch 283/500 | total error=0.018521746208307464\n",
            "epoch 284/500 | total error=0.01846760222458046\n",
            "epoch 285/500 | total error=0.018506373764782653\n",
            "epoch 286/500 | total error=0.018522172154707712\n",
            "epoch 287/500 | total error=0.018465934194300322\n",
            "epoch 288/500 | total error=0.018504036907894632\n",
            "epoch 289/500 | total error=0.018522072377700174\n",
            "epoch 290/500 | total error=0.018463987439196913\n",
            "epoch 291/500 | total error=0.018501274430094757\n",
            "epoch 292/500 | total error=0.01852032226797252\n",
            "epoch 293/500 | total error=0.018506565278997966\n",
            "epoch 294/500 | total error=0.01846396599465137\n",
            "epoch 295/500 | total error=0.018495725130235792\n",
            "epoch 296/500 | total error=0.018496274914241516\n",
            "epoch 297/500 | total error=0.01845264927263986\n",
            "epoch 298/500 | total error=0.01848339363628114\n",
            "epoch 299/500 | total error=0.018430500635194306\n",
            "epoch 300/500 | total error=0.01844817789332442\n",
            "epoch 301/500 | total error=0.01842470318757491\n",
            "epoch 302/500 | total error=0.018364523628797202\n",
            "epoch 303/500 | total error=0.01844613148901775\n",
            "epoch 304/500 | total error=0.018365362356865388\n",
            "epoch 305/500 | total error=0.018298259692562192\n",
            "epoch 306/500 | total error=0.01839318330414009\n",
            "epoch 307/500 | total error=0.018305526928046514\n",
            "epoch 308/500 | total error=0.018235797884278006\n",
            "epoch 309/500 | total error=0.018214324221792918\n",
            "epoch 310/500 | total error=0.01828194627906272\n",
            "epoch 311/500 | total error=0.018196684477914064\n",
            "epoch 312/500 | total error=0.01814773879560884\n",
            "epoch 313/500 | total error=0.018230860721138577\n",
            "epoch 314/500 | total error=0.018141314491253956\n",
            "epoch 315/500 | total error=0.018079614157254432\n",
            "epoch 316/500 | total error=0.018174003346410186\n",
            "epoch 317/500 | total error=0.018082563581141818\n",
            "epoch 318/500 | total error=0.018011049362079375\n",
            "epoch 319/500 | total error=0.0181159964461178\n",
            "epoch 320/500 | total error=0.018023168529584674\n",
            "epoch 321/500 | total error=0.017950209564889717\n",
            "epoch 322/500 | total error=0.017924318516907043\n",
            "epoch 323/500 | total error=0.018003558933354837\n",
            "epoch 324/500 | total error=0.0179134224510419\n",
            "epoch 325/500 | total error=0.017855033828312973\n",
            "epoch 326/500 | total error=0.01795363931560204\n",
            "epoch 327/500 | total error=0.017858979527541244\n",
            "epoch 328/500 | total error=0.017784929014392954\n",
            "epoch 329/500 | total error=0.017766070386823405\n",
            "epoch 330/500 | total error=0.0178427638441988\n",
            "epoch 331/500 | total error=0.017750226231616276\n",
            "epoch 332/500 | total error=0.017694845040249842\n",
            "epoch 333/500 | total error=0.017793961653809982\n",
            "epoch 334/500 | total error=0.01769669359479069\n",
            "epoch 335/500 | total error=0.017622114613406275\n",
            "epoch 336/500 | total error=0.017738781942649648\n",
            "epoch 337/500 | total error=0.01763954559628346\n",
            "epoch 338/500 | total error=0.01756286048476548\n",
            "epoch 339/500 | total error=0.01753059549773867\n",
            "epoch 340/500 | total error=0.017626403026391128\n",
            "epoch 341/500 | total error=0.01753007645519499\n",
            "epoch 342/500 | total error=0.017456922718019907\n",
            "epoch 343/500 | total error=0.017578854112477577\n",
            "epoch 344/500 | total error=0.017477683997634073\n",
            "epoch 345/500 | total error=0.017399971519873603\n",
            "epoch 346/500 | total error=0.017362952392363244\n",
            "epoch 347/500 | total error=0.017468275069077534\n",
            "epoch 348/500 | total error=0.017369527286552625\n",
            "epoch 349/500 | total error=0.01729327831647006\n",
            "epoch 350/500 | total error=0.017268054062226545\n",
            "epoch 351/500 | total error=0.017366013563795114\n",
            "epoch 352/500 | total error=0.017266393327465053\n",
            "epoch 353/500 | total error=0.01719052089481102\n",
            "epoch 354/500 | total error=0.017321545135646897\n",
            "epoch 355/500 | total error=0.01721648946831138\n",
            "epoch 356/500 | total error=0.017136798301201205\n",
            "epoch 357/500 | total error=0.017092452537444847\n",
            "epoch 358/500 | total error=0.017212307261175362\n",
            "epoch 359/500 | total error=0.017060463320222728\n",
            "epoch 360/500 | total error=0.017000176617493534\n",
            "epoch 361/500 | total error=0.016981493793812277\n",
            "epoch 362/500 | total error=0.01704384715022095\n",
            "epoch 363/500 | total error=0.01696141868530417\n",
            "epoch 364/500 | total error=0.016900750338452612\n",
            "epoch 365/500 | total error=0.016987655853322858\n",
            "epoch 366/500 | total error=0.016900608641022417\n",
            "epoch 367/500 | total error=0.01677851423071038\n",
            "epoch 368/500 | total error=0.016784865753962673\n",
            "epoch 369/500 | total error=0.016898325405207585\n",
            "epoch 370/500 | total error=0.01674635671167334\n",
            "epoch 371/500 | total error=0.01670849545404258\n",
            "epoch 372/500 | total error=0.01684540419229413\n",
            "epoch 373/500 | total error=0.016686907759210518\n",
            "epoch 374/500 | total error=0.016627915319534826\n",
            "epoch 375/500 | total error=0.01673086356682488\n",
            "epoch 376/500 | total error=0.016644478952144857\n",
            "epoch 377/500 | total error=0.016573994900419033\n",
            "epoch 378/500 | total error=0.016498818444970573\n",
            "epoch 379/500 | total error=0.016638819420327952\n",
            "epoch 380/500 | total error=0.016486541580946718\n",
            "epoch 381/500 | total error=0.016441759868377894\n",
            "epoch 382/500 | total error=0.016597739407535818\n",
            "epoch 383/500 | total error=0.016433992126609637\n",
            "epoch 384/500 | total error=0.01637556671766954\n",
            "epoch 385/500 | total error=0.016305265802227544\n",
            "epoch 386/500 | total error=0.01645362944904393\n",
            "epoch 387/500 | total error=0.016355768216694527\n",
            "epoch 388/500 | total error=0.016226905560178174\n",
            "epoch 389/500 | total error=0.0164060225528378\n",
            "epoch 390/500 | total error=0.01624444718819752\n",
            "epoch 391/500 | total error=0.016189441642783953\n",
            "epoch 392/500 | total error=0.0161120499009916\n",
            "epoch 393/500 | total error=0.016274350497476612\n",
            "epoch 394/500 | total error=0.016174863708321132\n",
            "epoch 395/500 | total error=0.016040344824356255\n",
            "epoch 396/500 | total error=0.01604547702577049\n",
            "epoch 397/500 | total error=0.016125518997996968\n",
            "epoch 398/500 | total error=0.016042405253180632\n",
            "epoch 399/500 | total error=0.015973376174820236\n",
            "epoch 400/500 | total error=0.015902733519566652\n",
            "epoch 401/500 | total error=0.01605497075748784\n",
            "epoch 402/500 | total error=0.01589300239394514\n",
            "epoch 403/500 | total error=0.01584197083702211\n",
            "epoch 404/500 | total error=0.015781184220751775\n",
            "epoch 405/500 | total error=0.015937574737544476\n",
            "epoch 406/500 | total error=0.015835699593970024\n",
            "epoch 407/500 | total error=0.015698126144160076\n",
            "epoch 408/500 | total error=0.015710572313744887\n",
            "epoch 409/500 | total error=0.015792219539858186\n",
            "epoch 410/500 | total error=0.015708211734296474\n",
            "epoch 411/500 | total error=0.01557748075474427\n",
            "epoch 412/500 | total error=0.015591181257630453\n",
            "epoch 413/500 | total error=0.01574070614466614\n",
            "epoch 414/500 | total error=0.015566760764277236\n",
            "epoch 415/500 | total error=0.015513984535315032\n",
            "epoch 416/500 | total error=0.01543484627606195\n",
            "epoch 417/500 | total error=0.015616657452864583\n",
            "epoch 418/500 | total error=0.015449333525721113\n",
            "epoch 419/500 | total error=0.015400673240895406\n",
            "epoch 420/500 | total error=0.015313562748603453\n",
            "epoch 421/500 | total error=0.015508164271194188\n",
            "epoch 422/500 | total error=0.015402168624540928\n",
            "epoch 423/500 | total error=0.015260764115702619\n",
            "epoch 424/500 | total error=0.0152391323876788\n",
            "epoch 425/500 | total error=0.015366937634044241\n",
            "epoch 426/500 | total error=0.015281449716907003\n",
            "epoch 427/500 | total error=0.01514766552524776\n",
            "epoch 428/500 | total error=0.015118126421927043\n",
            "epoch 429/500 | total error=0.015046924877410984\n",
            "epoch 430/500 | total error=0.015245451929525563\n",
            "epoch 431/500 | total error=0.01513997959838523\n",
            "epoch 432/500 | total error=0.014998507838507884\n",
            "epoch 433/500 | total error=0.014967318490187882\n",
            "epoch 434/500 | total error=0.014897210824612032\n",
            "epoch 435/500 | total error=0.015097573655226038\n",
            "epoch 436/500 | total error=0.014927008241481661\n",
            "epoch 437/500 | total error=0.014882286289759595\n",
            "epoch 438/500 | total error=0.01476713810169285\n",
            "epoch 439/500 | total error=0.01478509585056752\n",
            "epoch 440/500 | total error=0.014967532978334353\n",
            "epoch 441/500 | total error=0.014786551958928232\n",
            "epoch 442/500 | total error=0.014739074015697946\n",
            "epoch 443/500 | total error=0.014622794220426302\n",
            "epoch 444/500 | total error=0.014627502772843075\n",
            "epoch 445/500 | total error=0.014762279599275974\n",
            "epoch 446/500 | total error=0.014679090181852402\n",
            "epoch 447/500 | total error=0.014545121671446089\n",
            "epoch 448/500 | total error=0.014520371040250299\n",
            "epoch 449/500 | total error=0.014419412039310076\n",
            "epoch 450/500 | total error=0.014663213223311962\n",
            "epoch 451/500 | total error=0.014553645616913701\n",
            "epoch 452/500 | total error=0.01441052211809674\n",
            "epoch 453/500 | total error=0.014383518159860876\n",
            "epoch 454/500 | total error=0.014276405551985883\n",
            "epoch 455/500 | total error=0.014275650383268867\n",
            "epoch 456/500 | total error=0.014430733405552476\n",
            "epoch 457/500 | total error=0.014348368514507414\n",
            "epoch 458/500 | total error=0.01421488066677242\n",
            "epoch 459/500 | total error=0.014192645989593512\n",
            "epoch 460/500 | total error=0.014086759911072695\n",
            "epoch 461/500 | total error=0.014078070828294594\n",
            "epoch 462/500 | total error=0.014000863414706237\n",
            "epoch 463/500 | total error=0.014240072179738501\n",
            "epoch 464/500 | total error=0.01413069420255011\n",
            "epoch 465/500 | total error=0.013989153686583064\n",
            "epoch 466/500 | total error=0.013965845295566888\n",
            "epoch 467/500 | total error=0.013860269514065056\n",
            "epoch 468/500 | total error=0.013853050345861043\n",
            "epoch 469/500 | total error=0.013764468622389303\n",
            "epoch 470/500 | total error=0.014020384426689073\n",
            "epoch 471/500 | total error=0.013845135804411709\n",
            "epoch 472/500 | total error=0.013807207185663969\n",
            "epoch 473/500 | total error=0.013694038399454956\n",
            "epoch 474/500 | total error=0.013683812116385122\n",
            "epoch 475/500 | total error=0.013583813275164214\n",
            "epoch 476/500 | total error=0.013580371485185127\n",
            "epoch 477/500 | total error=0.013490233592328564\n",
            "epoch 478/500 | total error=0.013754516044675686\n",
            "epoch 479/500 | total error=0.01364370555403838\n",
            "epoch 480/500 | total error=0.013504073904974757\n",
            "epoch 481/500 | total error=0.013484375848104684\n",
            "epoch 482/500 | total error=0.013381031107084036\n",
            "epoch 483/500 | total error=0.013376839278007691\n",
            "epoch 484/500 | total error=0.013280642524003516\n",
            "epoch 485/500 | total error=0.013280146593225968\n",
            "epoch 486/500 | total error=0.013186063560671013\n",
            "epoch 487/500 | total error=0.013188883082493533\n",
            "epoch 488/500 | total error=0.013369350029890693\n",
            "epoch 489/500 | total error=0.013289016402792897\n",
            "epoch 490/500 | total error=0.01315985982175234\n",
            "epoch 491/500 | total error=0.013144756023556851\n",
            "epoch 492/500 | total error=0.013043492876574681\n",
            "epoch 493/500 | total error=0.013041147492478177\n",
            "epoch 494/500 | total error=0.012946484820443416\n",
            "epoch 495/500 | total error=0.012947729278669417\n",
            "epoch 496/500 | total error=0.012855343072358657\n",
            "epoch 497/500 | total error=0.012858057525990837\n",
            "epoch 498/500 | total error=0.012829313802239803\n",
            "epoch 499/500 | total error=0.012730523267200223\n"
          ]
        }
      ]
    },
    {
      "cell_type": "code",
      "source": [
        "#precisión alcanzada con los datos de entrenamiento\n",
        "accuracy = red.accuracy(examples)\n",
        "print(f\"Accuracy: {accuracy}\")"
      ],
      "metadata": {
        "id": "FLxCnkvMm9Kp",
        "colab": {
          "base_uri": "https://localhost:8080/"
        },
        "outputId": "fa727ca9-fccd-40fc-81a2-d7908fab9c8c"
      },
      "execution_count": 52,
      "outputs": [
        {
          "output_type": "stream",
          "name": "stdout",
          "text": [
            "Accuracy: 0.6583333333333333\n"
          ]
        }
      ]
    },
    {
      "cell_type": "code",
      "source": [
        "#precisión alcanzada con los datos de prueba\n",
        "examples = []\n",
        "for i in range(len(X_test)):\n",
        "    examples.append([X_test[i], y_test[i]])\n",
        "accuracy = red.accuracy(examples)\n",
        "print(f\"Accuracy: {accuracy}\")"
      ],
      "metadata": {
        "id": "35AyCvCmm_96",
        "colab": {
          "base_uri": "https://localhost:8080/"
        },
        "outputId": "d4b25578-ab15-4849-dbee-5f95637a6d6f"
      },
      "execution_count": 53,
      "outputs": [
        {
          "output_type": "stream",
          "name": "stdout",
          "text": [
            "Accuracy: 0.7\n"
          ]
        }
      ]
    },
    {
      "cell_type": "code",
      "source": [
        "#probando con un dato\n",
        "prediction = red.predict(X_test[2])\n",
        "print(f\"Desired output: {y_test[2]}\")\n",
        "print(f\"Index of output: {prediction}\")"
      ],
      "metadata": {
        "id": "jGMT3cV2ocL2"
      },
      "execution_count": null,
      "outputs": []
    },
    {
      "cell_type": "code",
      "source": [
        "result = red.weights()\n",
        "print(result)"
      ],
      "metadata": {
        "colab": {
          "base_uri": "https://localhost:8080/"
        },
        "id": "iFJqZQjHfv_X",
        "outputId": "a575c331-2f4b-447d-9cc6-d58eb91de8c6"
      },
      "execution_count": 87,
      "outputs": [
        {
          "output_type": "stream",
          "name": "stdout",
          "text": [
            "[[], [], [], array([ 1.69531918,  0.71819461, -1.27107156]), array([1.45200892, 0.50560968, 0.74707091]), array([ 1.66367156,  2.02245048, -2.73600309]), array([ 0.92890446,  3.36763433, -4.7012687 ]), array([ 0.13489675, -1.43064707,  2.07612749,  3.54361178]), array([ 1.99581202,  0.79423364,  3.05432376, -4.60509962])]\n"
          ]
        }
      ]
    },
    {
      "cell_type": "code",
      "source": [
        "red.weights2()"
      ],
      "metadata": {
        "colab": {
          "base_uri": "https://localhost:8080/"
        },
        "id": "eOFwMy3JjEIv",
        "outputId": "1a27c6c5-e3c9-46b0-dd57-73ad0848d30f"
      },
      "execution_count": 91,
      "outputs": [
        {
          "output_type": "stream",
          "name": "stdout",
          "text": [
            "Capa : 1\n",
            "[]\n",
            "[]\n",
            "[]\n",
            "Capa : 2\n",
            "[ 1.69531918  0.71819461 -1.27107156]\n",
            "[1.45200892 0.50560968 0.74707091]\n",
            "[ 1.66367156  2.02245048 -2.73600309]\n",
            "[ 0.92890446  3.36763433 -4.7012687 ]\n",
            "Capa : 3\n",
            "[ 0.13489675 -1.43064707  2.07612749  3.54361178]\n",
            "[ 1.99581202  0.79423364  3.05432376 -4.60509962]\n"
          ]
        }
      ]
    },
    {
      "cell_type": "code",
      "source": [
        "print(result[9])"
      ],
      "metadata": {
        "id": "xznqLACVVGaX"
      },
      "execution_count": null,
      "outputs": []
    },
    {
      "cell_type": "code",
      "source": [
        "red.set_weights(result)"
      ],
      "metadata": {
        "id": "weIe6D2oPy_e"
      },
      "execution_count": 90,
      "outputs": []
    },
    {
      "cell_type": "code",
      "source": [
        "red.clean_weights(result)"
      ],
      "metadata": {
        "id": "ewewwF8Yj273"
      },
      "execution_count": 88,
      "outputs": []
    },
    {
      "cell_type": "markdown",
      "source": [
        "# Modificación de la implementación de la red neuronal"
      ],
      "metadata": {
        "id": "M8-mcDfFprEy"
      }
    },
    {
      "cell_type": "code",
      "source": [
        "# agrega el método weigths() a la clase Network, de tal forma que permita obtener los pesos de las neuronas\n",
        "# agrega el método set_weights() a la clase Network, de tal forma que permite definir los pesos de las neuronas"
      ],
      "metadata": {
        "id": "uKEBVbXPp09D"
      },
      "execution_count": null,
      "outputs": []
    },
    {
      "cell_type": "code",
      "source": [
        "# agrega los métodos sigmoide() y sigmoide_prime() a la clase Network\n",
        "# modifica la clase Network, para que se pueda decidir qué función de activación utilizar: relu() o sigmoide()"
      ],
      "metadata": {
        "id": "Yg3ScNjfq_ot"
      },
      "execution_count": null,
      "outputs": []
    },
    {
      "cell_type": "code",
      "source": [
        "# los métodos predict() y accuracy() de la clase Network están implementados para resolver problemas de clasificación\n",
        "# modifícalos de tal manera que también se puedan utilizar con problemas de regresión"
      ],
      "metadata": {
        "id": "XUYfTnwwtAP3"
      },
      "execution_count": null,
      "outputs": []
    },
    {
      "cell_type": "code",
      "source": [
        "# modifica el método backpropagation() de tal manera que devuelva como resultado el array de valores de los nodos durante las épocas de entrenamiento"
      ],
      "metadata": {
        "id": "_jcNyPgK0Jdm"
      },
      "execution_count": null,
      "outputs": []
    },
    {
      "cell_type": "code",
      "source": [
        "# una vez implementados los cambios, entrena la red neuronal del ejemplo de los apuntes\n",
        "examples = []\n",
        "examples.append([[0.5, 0.67, 0.5], [0.25, 0.6]])"
      ],
      "metadata": {
        "id": "ROQGXdl8uNXc"
      },
      "execution_count": null,
      "outputs": []
    },
    {
      "cell_type": "code",
      "source": [
        "# ejecuta la red neuronal para los datos de ejemplo de los apuntes\n",
        "# comprueba los valores de los nodos y de los pesos\n",
        "# los valores de los nodos tienen que ser los mismos que los de los apuntes\n",
        "# los valores de los pesos son ligeramente diferentes, ¿por qué?\n",
        "\n",
        "net = Network([3, 4, 2])\n",
        "\n",
        "net.set_weights([0.1, 0.2, 0.3, 0.4, 0.5, 0.6])\n",
        "# o\n",
        "net.set_weights([[0.1, 0.1, 0.1], [0.2, 0.2, 0.2], [0.3, 0.3, 0.3], [0.4, 0.4, 0.4], [0.5, 0.5, 0.5, 0.5], [0.6, 0.6, 0.6, 0.6]])\n",
        "\n",
        "valores_nodos = net.backpropagation(0.9, examples, 1)\n",
        "\n",
        "print(valores_nodos)\n",
        "net.weights()"
      ],
      "metadata": {
        "id": "Q-0NYrsYu2nH"
      },
      "execution_count": null,
      "outputs": []
    }
  ]
}